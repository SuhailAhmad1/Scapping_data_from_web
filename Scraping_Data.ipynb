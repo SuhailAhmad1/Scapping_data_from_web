{
  "nbformat": 4,
  "nbformat_minor": 0,
  "metadata": {
    "colab": {
      "name": "Scraping Data.ipynb",
      "provenance": [],
      "collapsed_sections": [
        "2sYJYLHlFObo",
        "m34DYiCLbKWc",
        "t6qfS3fkvv_X",
        "i21B_WZVfusC",
        "Ty8TwC9wmRiF",
        "yTeMaEcYmYXa",
        "r7jfPhL5sJAk"
      ],
      "toc_visible": true,
      "authorship_tag": "ABX9TyM2ZxoDHf0xcu2e3SeDsOYp",
      "include_colab_link": true
    },
    "kernelspec": {
      "name": "python3",
      "display_name": "Python 3"
    },
    "language_info": {
      "name": "python"
    }
  },
  "cells": [
    {
      "cell_type": "markdown",
      "metadata": {
        "id": "view-in-github",
        "colab_type": "text"
      },
      "source": [
        "<a href=\"https://colab.research.google.com/github/SuhailAhmad1/Scapping_data_from_web/blob/main/Scraping_Data.ipynb\" target=\"_parent\"><img src=\"https://colab.research.google.com/assets/colab-badge.svg\" alt=\"Open In Colab\"/></a>"
      ]
    },
    {
      "cell_type": "markdown",
      "source": [
        "# ***BBC LOCATION ID WEATHER SCRAPPING***"
      ],
      "metadata": {
        "id": "2sYJYLHlFObo"
      }
    },
    {
      "cell_type": "code",
      "source": [
        "import os\n",
        "import requests\n",
        "import json\n",
        "\n",
        "from urllib.parse import urlencode\n",
        "\n",
        "import numpy as np\n",
        "import pandas as pd\n",
        "import re"
      ],
      "metadata": {
        "id": "J41Sg5WaFhMn"
      },
      "execution_count": null,
      "outputs": []
    },
    {
      "cell_type": "code",
      "source": [
        "test_city = \"Vineland\"\n",
        "location_url = 'https://locator-service.api.bbci.co.uk/locations?' + urlencode({\n",
        "    'api_key': 'AGbFAKx58hyjQScCXIYrxuEwJh2W2cmv',\n",
        "    's': test_city,\n",
        "    'stack': 'aws',\n",
        "    'locale': 'en',\n",
        "    'filter': 'international',\n",
        "    'place-type': 'settlement, airport, district',\n",
        "    'a': 'true',\n",
        "    'format': 'json'\n",
        "})\n",
        "location_url"
      ],
      "metadata": {
        "colab": {
          "base_uri": "https://localhost:8080/",
          "height": 53
        },
        "id": "5xHt9eOcGlON",
        "outputId": "f640d33b-7e95-4be5-c39d-d17cf6a8d812"
      },
      "execution_count": null,
      "outputs": [
        {
          "output_type": "execute_result",
          "data": {
            "text/plain": [
              "'https://locator-service.api.bbci.co.uk/locations?api_key=AGbFAKx58hyjQScCXIYrxuEwJh2W2cmv&s=Vineland&stack=aws&locale=en&filter=international&place-type=settlement%2C+airport%2C+district&a=true&format=json'"
            ],
            "application/vnd.google.colaboratory.intrinsic+json": {
              "type": "string"
            }
          },
          "metadata": {},
          "execution_count": 23
        }
      ]
    },
    {
      "cell_type": "code",
      "source": [
        "result = requests.get(location_url).content\n",
        "result"
      ],
      "metadata": {
        "colab": {
          "base_uri": "https://localhost:8080/"
        },
        "id": "zF8XneqPIjfQ",
        "outputId": "8083ee09-50aa-4ada-8004-0463be9c2de7"
      },
      "execution_count": null,
      "outputs": [
        {
          "output_type": "execute_result",
          "data": {
            "text/plain": [
              "b'{\"response\":{\"results\":{\"results\":[{\"id\":\"4176514\",\"name\":\"Vineland (FL)\",\"container\":\"United States\",\"containerId\":6252001,\"language\":\"en\",\"timezone\":\"America/New_York\",\"country\":\"US\",\"latitude\":28.39529,\"longitude\":-81.50313,\"placeType\":\"settlement\"},{\"id\":\"4504621\",\"name\":\"Vineland (NJ)\",\"container\":\"United States\",\"containerId\":6252001,\"language\":\"en\",\"timezone\":\"America/New_York\",\"country\":\"US\",\"latitude\":39.48623,\"longitude\":-75.02573,\"placeType\":\"settlement\"}],\"totalResults\":2}}}'"
            ]
          },
          "metadata": {},
          "execution_count": 33
        }
      ]
    },
    {
      "cell_type": "code",
      "source": [
        "type(result)"
      ],
      "metadata": {
        "colab": {
          "base_uri": "https://localhost:8080/"
        },
        "id": "TsqZIVZlkG7n",
        "outputId": "36787df1-25d3-480c-9fe5-e19b33c6365e"
      },
      "execution_count": null,
      "outputs": [
        {
          "output_type": "execute_result",
          "data": {
            "text/plain": [
              "bytes"
            ]
          },
          "metadata": {},
          "execution_count": 34
        }
      ]
    },
    {
      "cell_type": "code",
      "source": [
        "result['response']['results']['results'][0]['id']"
      ],
      "metadata": {
        "colab": {
          "base_uri": "https://localhost:8080/",
          "height": 36
        },
        "id": "63tVSdByIzk3",
        "outputId": "73a31155-928b-4f7b-ecbe-f3704e4c679f"
      },
      "execution_count": null,
      "outputs": [
        {
          "output_type": "execute_result",
          "data": {
            "text/plain": [
              "'4176514'"
            ],
            "application/vnd.google.colaboratory.intrinsic+json": {
              "type": "string"
            }
          },
          "metadata": {},
          "execution_count": 25
        }
      ]
    },
    {
      "cell_type": "markdown",
      "source": [
        "**Functiont get id**"
      ],
      "metadata": {
        "id": "Qqjg4jt1JeFi"
      }
    },
    {
      "cell_type": "code",
      "source": [
        "def getlocid(city):\n",
        "  city = city.lower()\n",
        "  location_url = 'https://locator-service.api.bbci.co.uk/locations?' + urlencode({\n",
        "    'api_key': 'AGbFAKx58hyjQScCXIYrxuEwJh2W2cmv',\n",
        "    's': city,\n",
        "    'stack': 'aws',\n",
        "    'locale': 'en',\n",
        "    'filter': 'international',\n",
        "    'place-type': 'settlement, airport, district',\n",
        "    'a': 'true',\n",
        "    'format': 'json'\n",
        "  })\n",
        "  result = requests.get(location_url).json()\n",
        "  loc_id = result['response']['results']['results'][0]['id']\n",
        "  return loc_id\n",
        "  "
      ],
      "metadata": {
        "id": "OwzMG61EJk6b"
      },
      "execution_count": null,
      "outputs": []
    },
    {
      "cell_type": "code",
      "source": [
        "getlocid('Srinagar')"
      ],
      "metadata": {
        "colab": {
          "base_uri": "https://localhost:8080/",
          "height": 36
        },
        "id": "DKyilC4VKVtb",
        "outputId": "3cc89000-b806-4d62-9288-cd0490338997"
      },
      "execution_count": null,
      "outputs": [
        {
          "output_type": "execute_result",
          "data": {
            "text/plain": [
              "'1255634'"
            ],
            "application/vnd.google.colaboratory.intrinsic+json": {
              "type": "string"
            }
          },
          "metadata": {},
          "execution_count": 16
        }
      ]
    },
    {
      "cell_type": "markdown",
      "source": [
        "# ***Getting data from BBC***"
      ],
      "metadata": {
        "id": "m34DYiCLbKWc"
      }
    },
    {
      "cell_type": "code",
      "source": [
        "import json\n",
        "\n",
        "from urllib.parse import urlencode\n",
        "\n",
        "import requests\n",
        "from bs4 import BeautifulSoup\n",
        "\n",
        "import pandas as pd\n",
        "import re\n",
        "\n",
        "from datetime import datetime"
      ],
      "metadata": {
        "id": "8ohqQoE5bQY4"
      },
      "execution_count": null,
      "outputs": []
    },
    {
      "cell_type": "code",
      "source": [
        "city = \"Mumbai\"\n",
        "location_url = 'https://locator-service.api.bbci.co.uk/locations?' + urlencode({\n",
        "    'api_key': 'AGbFAKx58hyjQScCXIYrxuEwJh2W2cmv',\n",
        "    's': city,\n",
        "    'stack': 'aws',\n",
        "    'locale': 'en',\n",
        "    'filter': 'international',\n",
        "    'place-type': 'settlement, airport, district',\n",
        "    'a': 'true',\n",
        "    'format': 'json'\n",
        "})\n",
        "location_url"
      ],
      "metadata": {
        "colab": {
          "base_uri": "https://localhost:8080/",
          "height": 53
        },
        "id": "Y9EasMpvcbcz",
        "outputId": "dbf83164-507e-443c-d6e3-310eec3c885b"
      },
      "execution_count": null,
      "outputs": [
        {
          "output_type": "execute_result",
          "data": {
            "text/plain": [
              "'https://locator-service.api.bbci.co.uk/locations?api_key=AGbFAKx58hyjQScCXIYrxuEwJh2W2cmv&s=Mumbai&stack=aws&locale=en&filter=international&place-type=settlement%2C+airport%2C+district&a=true&format=json'"
            ],
            "application/vnd.google.colaboratory.intrinsic+json": {
              "type": "string"
            }
          },
          "metadata": {},
          "execution_count": 63
        }
      ]
    },
    {
      "cell_type": "code",
      "source": [
        "result = requests.get(location_url).json()\n",
        "result"
      ],
      "metadata": {
        "colab": {
          "base_uri": "https://localhost:8080/"
        },
        "id": "ec4YdHHXc6Xz",
        "outputId": "328bbb74-9fc2-417e-e693-e75e2b1b460d"
      },
      "execution_count": null,
      "outputs": [
        {
          "output_type": "execute_result",
          "data": {
            "text/plain": [
              "{'response': {'results': {'results': [{'container': 'India',\n",
              "     'containerId': 1269750,\n",
              "     'country': 'IN',\n",
              "     'id': '1275339',\n",
              "     'language': 'en',\n",
              "     'latitude': 19.07283,\n",
              "     'longitude': 72.88261,\n",
              "     'name': 'Mumbai',\n",
              "     'placeType': 'settlement',\n",
              "     'timezone': 'Asia/Kolkata'}],\n",
              "   'totalResults': 1}}}"
            ]
          },
          "metadata": {},
          "execution_count": 64
        }
      ]
    },
    {
      "cell_type": "code",
      "source": [
        "url = \"https://www.bbc.com/weather/\" + result['response']['results']['results'][0]['id']\n",
        "response = requests.get(url)\n",
        "response"
      ],
      "metadata": {
        "colab": {
          "base_uri": "https://localhost:8080/"
        },
        "id": "W8_iN6fOfQgP",
        "outputId": "000e47d2-5a5e-4651-dd40-fc2151af1b1b"
      },
      "execution_count": null,
      "outputs": [
        {
          "output_type": "execute_result",
          "data": {
            "text/plain": [
              "<Response [200]>"
            ]
          },
          "metadata": {},
          "execution_count": 65
        }
      ]
    },
    {
      "cell_type": "code",
      "source": [
        "soup = BeautifulSoup(response.content,'html.parser')"
      ],
      "metadata": {
        "id": "xuyzFb_9dPE8"
      },
      "execution_count": null,
      "outputs": []
    },
    {
      "cell_type": "code",
      "source": [
        "daily_high_values = soup.find_all('span', attrs={'class': 'wr-day-temperature__high-value'})\n",
        "daily_high_values"
      ],
      "metadata": {
        "colab": {
          "base_uri": "https://localhost:8080/"
        },
        "id": "oavHKesCdzeg",
        "outputId": "95fc66cb-f64b-4323-8135-ed786f6a9fb7"
      },
      "execution_count": null,
      "outputs": [
        {
          "output_type": "execute_result",
          "data": {
            "text/plain": [
              "[<span class=\"wr-day-temperature__high-value\"><span class=\"wr-value--temperature \"><span class=\"wr-value--temperature--c\">33°</span><span class=\"wr-hide\"> </span><span class=\"wr-value--temperature--f\">92°</span></span></span>,\n",
              " <span class=\"wr-day-temperature__high-value\"><span class=\"wr-value--temperature \"><span class=\"wr-value--temperature--c\">34°</span><span class=\"wr-hide\"> </span><span class=\"wr-value--temperature--f\">93°</span></span></span>,\n",
              " <span class=\"wr-day-temperature__high-value\"><span class=\"wr-value--temperature \"><span class=\"wr-value--temperature--c\">33°</span><span class=\"wr-hide\"> </span><span class=\"wr-value--temperature--f\">91°</span></span></span>,\n",
              " <span class=\"wr-day-temperature__high-value\"><span class=\"wr-value--temperature \"><span class=\"wr-value--temperature--c\">33°</span><span class=\"wr-hide\"> </span><span class=\"wr-value--temperature--f\">91°</span></span></span>,\n",
              " <span class=\"wr-day-temperature__high-value\"><span class=\"wr-value--temperature \"><span class=\"wr-value--temperature--c\">32°</span><span class=\"wr-hide\"> </span><span class=\"wr-value--temperature--f\">89°</span></span></span>,\n",
              " <span class=\"wr-day-temperature__high-value\"><span class=\"wr-value--temperature \"><span class=\"wr-value--temperature--c\">32°</span><span class=\"wr-hide\"> </span><span class=\"wr-value--temperature--f\">89°</span></span></span>,\n",
              " <span class=\"wr-day-temperature__high-value\"><span class=\"wr-value--temperature \"><span class=\"wr-value--temperature--c\">32°</span><span class=\"wr-hide\"> </span><span class=\"wr-value--temperature--f\">90°</span></span></span>,\n",
              " <span class=\"wr-day-temperature__high-value\"><span class=\"wr-value--temperature \"><span class=\"wr-value--temperature--c\">33°</span><span class=\"wr-hide\"> </span><span class=\"wr-value--temperature--f\">91°</span></span></span>,\n",
              " <span class=\"wr-day-temperature__high-value\"><span class=\"wr-value--temperature \"><span class=\"wr-value--temperature--c\">33°</span><span class=\"wr-hide\"> </span><span class=\"wr-value--temperature--f\">91°</span></span></span>,\n",
              " <span class=\"wr-day-temperature__high-value\"><span class=\"wr-value--temperature \"><span class=\"wr-value--temperature--c\">33°</span><span class=\"wr-hide\"> </span><span class=\"wr-value--temperature--f\">91°</span></span></span>,\n",
              " <span class=\"wr-day-temperature__high-value\"><span class=\"wr-value--temperature \"><span class=\"wr-value--temperature--c\">33°</span><span class=\"wr-hide\"> </span><span class=\"wr-value--temperature--f\">92°</span></span></span>,\n",
              " <span class=\"wr-day-temperature__high-value\"><span class=\"wr-value--temperature \"><span class=\"wr-value--temperature--c\">33°</span><span class=\"wr-hide\"> </span><span class=\"wr-value--temperature--f\">92°</span></span></span>,\n",
              " <span class=\"wr-day-temperature__high-value\"><span class=\"wr-value--temperature \"><span class=\"wr-value--temperature--c\">33°</span><span class=\"wr-hide\"> </span><span class=\"wr-value--temperature--f\">92°</span></span></span>,\n",
              " <span class=\"wr-day-temperature__high-value\"><span class=\"wr-value--temperature \"><span class=\"wr-value--temperature--c\">33°</span><span class=\"wr-hide\"> </span><span class=\"wr-value--temperature--f\">91°</span></span></span>]"
            ]
          },
          "metadata": {},
          "execution_count": 69
        }
      ]
    },
    {
      "cell_type": "code",
      "source": [
        "daily_low_values = soup.find_all('span', attrs={'class': 'wr-day-temperature__low-value'})\n",
        "daily_low_values"
      ],
      "metadata": {
        "colab": {
          "base_uri": "https://localhost:8080/"
        },
        "id": "lIMhGetPf5cq",
        "outputId": "bd31fdf1-70eb-4240-876e-05a4bde612eb"
      },
      "execution_count": null,
      "outputs": [
        {
          "output_type": "execute_result",
          "data": {
            "text/plain": [
              "[<span class=\"wr-day-temperature__low-value\"><span class=\"wr-value--temperature \"><span class=\"wr-value--temperature--c\">26°</span><span class=\"wr-hide\"> </span><span class=\"wr-value--temperature--f\">79°</span></span></span>,\n",
              " <span class=\"wr-day-temperature__low-value\"><span class=\"wr-value--temperature \"><span class=\"wr-value--temperature--c\">27°</span><span class=\"wr-hide\"> </span><span class=\"wr-value--temperature--f\">81°</span></span></span>,\n",
              " <span class=\"wr-day-temperature__low-value\"><span class=\"wr-value--temperature \"><span class=\"wr-value--temperature--c\">27°</span><span class=\"wr-hide\"> </span><span class=\"wr-value--temperature--f\">81°</span></span></span>,\n",
              " <span class=\"wr-day-temperature__low-value\"><span class=\"wr-value--temperature \"><span class=\"wr-value--temperature--c\">28°</span><span class=\"wr-hide\"> </span><span class=\"wr-value--temperature--f\">82°</span></span></span>,\n",
              " <span class=\"wr-day-temperature__low-value\"><span class=\"wr-value--temperature \"><span class=\"wr-value--temperature--c\">27°</span><span class=\"wr-hide\"> </span><span class=\"wr-value--temperature--f\">81°</span></span></span>,\n",
              " <span class=\"wr-day-temperature__low-value\"><span class=\"wr-value--temperature \"><span class=\"wr-value--temperature--c\">27°</span><span class=\"wr-hide\"> </span><span class=\"wr-value--temperature--f\">81°</span></span></span>,\n",
              " <span class=\"wr-day-temperature__low-value\"><span class=\"wr-value--temperature \"><span class=\"wr-value--temperature--c\">27°</span><span class=\"wr-hide\"> </span><span class=\"wr-value--temperature--f\">81°</span></span></span>,\n",
              " <span class=\"wr-day-temperature__low-value\"><span class=\"wr-value--temperature \"><span class=\"wr-value--temperature--c\">27°</span><span class=\"wr-hide\"> </span><span class=\"wr-value--temperature--f\">80°</span></span></span>,\n",
              " <span class=\"wr-day-temperature__low-value\"><span class=\"wr-value--temperature \"><span class=\"wr-value--temperature--c\">27°</span><span class=\"wr-hide\"> </span><span class=\"wr-value--temperature--f\">80°</span></span></span>,\n",
              " <span class=\"wr-day-temperature__low-value\"><span class=\"wr-value--temperature \"><span class=\"wr-value--temperature--c\">27°</span><span class=\"wr-hide\"> </span><span class=\"wr-value--temperature--f\">81°</span></span></span>,\n",
              " <span class=\"wr-day-temperature__low-value\"><span class=\"wr-value--temperature \"><span class=\"wr-value--temperature--c\">27°</span><span class=\"wr-hide\"> </span><span class=\"wr-value--temperature--f\">80°</span></span></span>,\n",
              " <span class=\"wr-day-temperature__low-value\"><span class=\"wr-value--temperature \"><span class=\"wr-value--temperature--c\">27°</span><span class=\"wr-hide\"> </span><span class=\"wr-value--temperature--f\">80°</span></span></span>,\n",
              " <span class=\"wr-day-temperature__low-value\"><span class=\"wr-value--temperature \"><span class=\"wr-value--temperature--c\">27°</span><span class=\"wr-hide\"> </span><span class=\"wr-value--temperature--f\">81°</span></span></span>,\n",
              " <span class=\"wr-day-temperature__low-value\"><span class=\"wr-value--temperature \"><span class=\"wr-value--temperature--c\">26°</span><span class=\"wr-hide\"> </span><span class=\"wr-value--temperature--f\">79°</span></span></span>]"
            ]
          },
          "metadata": {},
          "execution_count": 70
        }
      ]
    },
    {
      "cell_type": "code",
      "source": [
        "daily_summary = soup.find('div', attrs={'class': 'wr-day-summary'})\n",
        "daily_summary"
      ],
      "metadata": {
        "colab": {
          "base_uri": "https://localhost:8080/"
        },
        "id": "1BSb-xRXgc8R",
        "outputId": "61db5e9a-0332-4dff-cf33-1c07788ace17"
      },
      "execution_count": null,
      "outputs": [
        {
          "output_type": "execute_result",
          "data": {
            "text/plain": [
              "<div class=\"wr-day-summary\"><div class=\"gel-wrap\"><span class=\"\">Light cloud and a moderate breeze</span><span class=\"wr-hide\">Sunny intervals and a moderate breeze</span><span class=\"wr-hide\">Sunny intervals and a moderate breeze</span><span class=\"wr-hide\">Light cloud and a moderate breeze</span><span class=\"wr-hide\">Light cloud and a moderate breeze</span><span class=\"wr-hide\">Sunny intervals and a moderate breeze</span><span class=\"wr-hide\">Light cloud and a moderate breeze</span><span class=\"wr-hide\">Light cloud and a moderate breeze</span><span class=\"wr-hide\">Light cloud and a moderate breeze</span><span class=\"wr-hide\">Light cloud and a moderate breeze</span><span class=\"wr-hide\">Sunny intervals and a moderate breeze</span><span class=\"wr-hide\">Sunny intervals and a moderate breeze</span><span class=\"wr-hide\">Light cloud and a moderate breeze</span><span class=\"wr-hide\">Light cloud and a moderate breeze</span></div></div>"
            ]
          },
          "metadata": {},
          "execution_count": 71
        }
      ]
    },
    {
      "cell_type": "code",
      "source": [
        "daily_summary.text"
      ],
      "metadata": {
        "colab": {
          "base_uri": "https://localhost:8080/",
          "height": 88
        },
        "id": "E3gJq2g5gzQZ",
        "outputId": "6b939b53-8c20-48a0-fadb-96757a37e988"
      },
      "execution_count": null,
      "outputs": [
        {
          "output_type": "execute_result",
          "data": {
            "text/plain": [
              "'Light cloud and a moderate breezeSunny intervals and a moderate breezeSunny intervals and a moderate breezeLight cloud and a moderate breezeLight cloud and a moderate breezeSunny intervals and a moderate breezeLight cloud and a moderate breezeLight cloud and a moderate breezeLight cloud and a moderate breezeLight cloud and a moderate breezeSunny intervals and a moderate breezeSunny intervals and a moderate breezeLight cloud and a moderate breezeLight cloud and a moderate breeze'"
            ],
            "application/vnd.google.colaboratory.intrinsic+json": {
              "type": "string"
            }
          },
          "metadata": {},
          "execution_count": 72
        }
      ]
    },
    {
      "cell_type": "code",
      "source": [
        "daily_high_values[0].text.strip()"
      ],
      "metadata": {
        "colab": {
          "base_uri": "https://localhost:8080/",
          "height": 36
        },
        "id": "rTP9Ly61hWQ2",
        "outputId": "7087c120-4b9b-4dd3-a8ad-9cd3f38f126b"
      },
      "execution_count": null,
      "outputs": [
        {
          "output_type": "execute_result",
          "data": {
            "text/plain": [
              "'33° 92°'"
            ],
            "application/vnd.google.colaboratory.intrinsic+json": {
              "type": "string"
            }
          },
          "metadata": {},
          "execution_count": 73
        }
      ]
    },
    {
      "cell_type": "code",
      "source": [
        "daily_high_values[0].text.strip().split()[0]"
      ],
      "metadata": {
        "colab": {
          "base_uri": "https://localhost:8080/",
          "height": 36
        },
        "id": "f__C25AahWUA",
        "outputId": "4c1306e9-1f06-4bd1-d1a0-3a58d5b4f076"
      },
      "execution_count": null,
      "outputs": [
        {
          "output_type": "execute_result",
          "data": {
            "text/plain": [
              "'33°'"
            ],
            "application/vnd.google.colaboratory.intrinsic+json": {
              "type": "string"
            }
          },
          "metadata": {},
          "execution_count": 74
        }
      ]
    },
    {
      "cell_type": "code",
      "source": [
        "daily_high_values_list = [daily_high_values[i].text.strip().split()[0] for i in range(len(daily_high_values))]\n",
        "daily_high_values_list"
      ],
      "metadata": {
        "colab": {
          "base_uri": "https://localhost:8080/"
        },
        "id": "fOCXUIPwhWW4",
        "outputId": "91473e89-76f2-4cfa-c5cd-4a4cfa921152"
      },
      "execution_count": null,
      "outputs": [
        {
          "output_type": "execute_result",
          "data": {
            "text/plain": [
              "['33°',\n",
              " '34°',\n",
              " '33°',\n",
              " '33°',\n",
              " '32°',\n",
              " '32°',\n",
              " '32°',\n",
              " '33°',\n",
              " '33°',\n",
              " '33°',\n",
              " '33°',\n",
              " '33°',\n",
              " '33°',\n",
              " '33°']"
            ]
          },
          "metadata": {},
          "execution_count": 75
        }
      ]
    },
    {
      "cell_type": "code",
      "source": [
        "daily_low_values_list = [daily_low_values[i].text.strip().split()[0] for i in range(len(daily_low_values))]\n",
        "daily_low_values_list"
      ],
      "metadata": {
        "colab": {
          "base_uri": "https://localhost:8080/"
        },
        "id": "Pq-lfv8jicp8",
        "outputId": "10dab935-1ec2-4635-9db8-e2c0965773a3"
      },
      "execution_count": null,
      "outputs": [
        {
          "output_type": "execute_result",
          "data": {
            "text/plain": [
              "['26°',\n",
              " '27°',\n",
              " '27°',\n",
              " '28°',\n",
              " '27°',\n",
              " '27°',\n",
              " '27°',\n",
              " '27°',\n",
              " '27°',\n",
              " '27°',\n",
              " '27°',\n",
              " '27°',\n",
              " '27°',\n",
              " '26°']"
            ]
          },
          "metadata": {},
          "execution_count": 76
        }
      ]
    },
    {
      "cell_type": "code",
      "source": [
        "daily_summary_list = re.findall('[a-zA-Z][^A-Z]*', daily_summary.text)\n",
        "daily_summary_list"
      ],
      "metadata": {
        "colab": {
          "base_uri": "https://localhost:8080/"
        },
        "id": "LGDMcaYVhWY_",
        "outputId": "fd31e0f8-a77d-4a56-cc2e-56221bcbf7ad"
      },
      "execution_count": null,
      "outputs": [
        {
          "output_type": "execute_result",
          "data": {
            "text/plain": [
              "['Light cloud and a moderate breeze',\n",
              " 'Sunny intervals and a moderate breeze',\n",
              " 'Sunny intervals and a moderate breeze',\n",
              " 'Light cloud and a moderate breeze',\n",
              " 'Light cloud and a moderate breeze',\n",
              " 'Sunny intervals and a moderate breeze',\n",
              " 'Light cloud and a moderate breeze',\n",
              " 'Light cloud and a moderate breeze',\n",
              " 'Light cloud and a moderate breeze',\n",
              " 'Light cloud and a moderate breeze',\n",
              " 'Sunny intervals and a moderate breeze',\n",
              " 'Sunny intervals and a moderate breeze',\n",
              " 'Light cloud and a moderate breeze',\n",
              " 'Light cloud and a moderate breeze']"
            ]
          },
          "metadata": {},
          "execution_count": 77
        }
      ]
    },
    {
      "cell_type": "code",
      "source": [
        "datelist = pd.date_range(datetime.today(), periods = len(daily_high_values)).tolist()\n",
        "datelist"
      ],
      "metadata": {
        "colab": {
          "base_uri": "https://localhost:8080/"
        },
        "id": "lD595dIOjeGn",
        "outputId": "1f055004-304c-424d-e1ac-eb981adbb1ed"
      },
      "execution_count": null,
      "outputs": [
        {
          "output_type": "execute_result",
          "data": {
            "text/plain": [
              "[Timestamp('2022-05-24 05:45:02.368556', freq='D'),\n",
              " Timestamp('2022-05-25 05:45:02.368556', freq='D'),\n",
              " Timestamp('2022-05-26 05:45:02.368556', freq='D'),\n",
              " Timestamp('2022-05-27 05:45:02.368556', freq='D'),\n",
              " Timestamp('2022-05-28 05:45:02.368556', freq='D'),\n",
              " Timestamp('2022-05-29 05:45:02.368556', freq='D'),\n",
              " Timestamp('2022-05-30 05:45:02.368556', freq='D'),\n",
              " Timestamp('2022-05-31 05:45:02.368556', freq='D'),\n",
              " Timestamp('2022-06-01 05:45:02.368556', freq='D'),\n",
              " Timestamp('2022-06-02 05:45:02.368556', freq='D'),\n",
              " Timestamp('2022-06-03 05:45:02.368556', freq='D'),\n",
              " Timestamp('2022-06-04 05:45:02.368556', freq='D'),\n",
              " Timestamp('2022-06-05 05:45:02.368556', freq='D'),\n",
              " Timestamp('2022-06-06 05:45:02.368556', freq='D')]"
            ]
          },
          "metadata": {},
          "execution_count": 79
        }
      ]
    },
    {
      "cell_type": "code",
      "source": [
        "datelist = [datelist[i].date().strftime('%y-%m-%d') for i in range(len(datelist))]\n",
        "datelist"
      ],
      "metadata": {
        "colab": {
          "base_uri": "https://localhost:8080/"
        },
        "id": "VOPL4lEEjeIu",
        "outputId": "38cca224-df21-4c99-fd12-a7a979efbd8f"
      },
      "execution_count": null,
      "outputs": [
        {
          "output_type": "execute_result",
          "data": {
            "text/plain": [
              "['22-05-24',\n",
              " '22-05-25',\n",
              " '22-05-26',\n",
              " '22-05-27',\n",
              " '22-05-28',\n",
              " '22-05-29',\n",
              " '22-05-30',\n",
              " '22-05-31',\n",
              " '22-06-01',\n",
              " '22-06-02',\n",
              " '22-06-03',\n",
              " '22-06-04',\n",
              " '22-06-05',\n",
              " '22-06-06']"
            ]
          },
          "metadata": {},
          "execution_count": 80
        }
      ]
    },
    {
      "cell_type": "code",
      "source": [
        "zipped = zip(datelist, daily_high_values_list,daily_low_values_list,daily_summary_list)"
      ],
      "metadata": {
        "id": "nc6Bc5gUjeMG"
      },
      "execution_count": null,
      "outputs": []
    },
    {
      "cell_type": "code",
      "source": [
        "df = pd.DataFrame(list(zipped), columns=['Date','High','Low','Summary'])"
      ],
      "metadata": {
        "id": "RBLKA5WhhWcc"
      },
      "execution_count": null,
      "outputs": []
    },
    {
      "cell_type": "code",
      "source": [
        "display(df)"
      ],
      "metadata": {
        "colab": {
          "base_uri": "https://localhost:8080/",
          "height": 488
        },
        "id": "bHeL4p88mzT1",
        "outputId": "487a5845-c8f9-4f40-9c96-90a906dffa26"
      },
      "execution_count": null,
      "outputs": [
        {
          "output_type": "display_data",
          "data": {
            "text/plain": [
              "        Date High  Low                                Summary\n",
              "0   22-05-24  33°  26°      Light cloud and a moderate breeze\n",
              "1   22-05-25  34°  27°  Sunny intervals and a moderate breeze\n",
              "2   22-05-26  33°  27°  Sunny intervals and a moderate breeze\n",
              "3   22-05-27  33°  28°      Light cloud and a moderate breeze\n",
              "4   22-05-28  32°  27°      Light cloud and a moderate breeze\n",
              "5   22-05-29  32°  27°  Sunny intervals and a moderate breeze\n",
              "6   22-05-30  32°  27°      Light cloud and a moderate breeze\n",
              "7   22-05-31  33°  27°      Light cloud and a moderate breeze\n",
              "8   22-06-01  33°  27°      Light cloud and a moderate breeze\n",
              "9   22-06-02  33°  27°      Light cloud and a moderate breeze\n",
              "10  22-06-03  33°  27°  Sunny intervals and a moderate breeze\n",
              "11  22-06-04  33°  27°  Sunny intervals and a moderate breeze\n",
              "12  22-06-05  33°  27°      Light cloud and a moderate breeze\n",
              "13  22-06-06  33°  26°      Light cloud and a moderate breeze"
            ],
            "text/html": [
              "\n",
              "  <div id=\"df-e85375db-f68b-4ebf-a297-3cc26e9f1574\">\n",
              "    <div class=\"colab-df-container\">\n",
              "      <div>\n",
              "<style scoped>\n",
              "    .dataframe tbody tr th:only-of-type {\n",
              "        vertical-align: middle;\n",
              "    }\n",
              "\n",
              "    .dataframe tbody tr th {\n",
              "        vertical-align: top;\n",
              "    }\n",
              "\n",
              "    .dataframe thead th {\n",
              "        text-align: right;\n",
              "    }\n",
              "</style>\n",
              "<table border=\"1\" class=\"dataframe\">\n",
              "  <thead>\n",
              "    <tr style=\"text-align: right;\">\n",
              "      <th></th>\n",
              "      <th>Date</th>\n",
              "      <th>High</th>\n",
              "      <th>Low</th>\n",
              "      <th>Summary</th>\n",
              "    </tr>\n",
              "  </thead>\n",
              "  <tbody>\n",
              "    <tr>\n",
              "      <th>0</th>\n",
              "      <td>22-05-24</td>\n",
              "      <td>33°</td>\n",
              "      <td>26°</td>\n",
              "      <td>Light cloud and a moderate breeze</td>\n",
              "    </tr>\n",
              "    <tr>\n",
              "      <th>1</th>\n",
              "      <td>22-05-25</td>\n",
              "      <td>34°</td>\n",
              "      <td>27°</td>\n",
              "      <td>Sunny intervals and a moderate breeze</td>\n",
              "    </tr>\n",
              "    <tr>\n",
              "      <th>2</th>\n",
              "      <td>22-05-26</td>\n",
              "      <td>33°</td>\n",
              "      <td>27°</td>\n",
              "      <td>Sunny intervals and a moderate breeze</td>\n",
              "    </tr>\n",
              "    <tr>\n",
              "      <th>3</th>\n",
              "      <td>22-05-27</td>\n",
              "      <td>33°</td>\n",
              "      <td>28°</td>\n",
              "      <td>Light cloud and a moderate breeze</td>\n",
              "    </tr>\n",
              "    <tr>\n",
              "      <th>4</th>\n",
              "      <td>22-05-28</td>\n",
              "      <td>32°</td>\n",
              "      <td>27°</td>\n",
              "      <td>Light cloud and a moderate breeze</td>\n",
              "    </tr>\n",
              "    <tr>\n",
              "      <th>5</th>\n",
              "      <td>22-05-29</td>\n",
              "      <td>32°</td>\n",
              "      <td>27°</td>\n",
              "      <td>Sunny intervals and a moderate breeze</td>\n",
              "    </tr>\n",
              "    <tr>\n",
              "      <th>6</th>\n",
              "      <td>22-05-30</td>\n",
              "      <td>32°</td>\n",
              "      <td>27°</td>\n",
              "      <td>Light cloud and a moderate breeze</td>\n",
              "    </tr>\n",
              "    <tr>\n",
              "      <th>7</th>\n",
              "      <td>22-05-31</td>\n",
              "      <td>33°</td>\n",
              "      <td>27°</td>\n",
              "      <td>Light cloud and a moderate breeze</td>\n",
              "    </tr>\n",
              "    <tr>\n",
              "      <th>8</th>\n",
              "      <td>22-06-01</td>\n",
              "      <td>33°</td>\n",
              "      <td>27°</td>\n",
              "      <td>Light cloud and a moderate breeze</td>\n",
              "    </tr>\n",
              "    <tr>\n",
              "      <th>9</th>\n",
              "      <td>22-06-02</td>\n",
              "      <td>33°</td>\n",
              "      <td>27°</td>\n",
              "      <td>Light cloud and a moderate breeze</td>\n",
              "    </tr>\n",
              "    <tr>\n",
              "      <th>10</th>\n",
              "      <td>22-06-03</td>\n",
              "      <td>33°</td>\n",
              "      <td>27°</td>\n",
              "      <td>Sunny intervals and a moderate breeze</td>\n",
              "    </tr>\n",
              "    <tr>\n",
              "      <th>11</th>\n",
              "      <td>22-06-04</td>\n",
              "      <td>33°</td>\n",
              "      <td>27°</td>\n",
              "      <td>Sunny intervals and a moderate breeze</td>\n",
              "    </tr>\n",
              "    <tr>\n",
              "      <th>12</th>\n",
              "      <td>22-06-05</td>\n",
              "      <td>33°</td>\n",
              "      <td>27°</td>\n",
              "      <td>Light cloud and a moderate breeze</td>\n",
              "    </tr>\n",
              "    <tr>\n",
              "      <th>13</th>\n",
              "      <td>22-06-06</td>\n",
              "      <td>33°</td>\n",
              "      <td>26°</td>\n",
              "      <td>Light cloud and a moderate breeze</td>\n",
              "    </tr>\n",
              "  </tbody>\n",
              "</table>\n",
              "</div>\n",
              "      <button class=\"colab-df-convert\" onclick=\"convertToInteractive('df-e85375db-f68b-4ebf-a297-3cc26e9f1574')\"\n",
              "              title=\"Convert this dataframe to an interactive table.\"\n",
              "              style=\"display:none;\">\n",
              "        \n",
              "  <svg xmlns=\"http://www.w3.org/2000/svg\" height=\"24px\"viewBox=\"0 0 24 24\"\n",
              "       width=\"24px\">\n",
              "    <path d=\"M0 0h24v24H0V0z\" fill=\"none\"/>\n",
              "    <path d=\"M18.56 5.44l.94 2.06.94-2.06 2.06-.94-2.06-.94-.94-2.06-.94 2.06-2.06.94zm-11 1L8.5 8.5l.94-2.06 2.06-.94-2.06-.94L8.5 2.5l-.94 2.06-2.06.94zm10 10l.94 2.06.94-2.06 2.06-.94-2.06-.94-.94-2.06-.94 2.06-2.06.94z\"/><path d=\"M17.41 7.96l-1.37-1.37c-.4-.4-.92-.59-1.43-.59-.52 0-1.04.2-1.43.59L10.3 9.45l-7.72 7.72c-.78.78-.78 2.05 0 2.83L4 21.41c.39.39.9.59 1.41.59.51 0 1.02-.2 1.41-.59l7.78-7.78 2.81-2.81c.8-.78.8-2.07 0-2.86zM5.41 20L4 18.59l7.72-7.72 1.47 1.35L5.41 20z\"/>\n",
              "  </svg>\n",
              "      </button>\n",
              "      \n",
              "  <style>\n",
              "    .colab-df-container {\n",
              "      display:flex;\n",
              "      flex-wrap:wrap;\n",
              "      gap: 12px;\n",
              "    }\n",
              "\n",
              "    .colab-df-convert {\n",
              "      background-color: #E8F0FE;\n",
              "      border: none;\n",
              "      border-radius: 50%;\n",
              "      cursor: pointer;\n",
              "      display: none;\n",
              "      fill: #1967D2;\n",
              "      height: 32px;\n",
              "      padding: 0 0 0 0;\n",
              "      width: 32px;\n",
              "    }\n",
              "\n",
              "    .colab-df-convert:hover {\n",
              "      background-color: #E2EBFA;\n",
              "      box-shadow: 0px 1px 2px rgba(60, 64, 67, 0.3), 0px 1px 3px 1px rgba(60, 64, 67, 0.15);\n",
              "      fill: #174EA6;\n",
              "    }\n",
              "\n",
              "    [theme=dark] .colab-df-convert {\n",
              "      background-color: #3B4455;\n",
              "      fill: #D2E3FC;\n",
              "    }\n",
              "\n",
              "    [theme=dark] .colab-df-convert:hover {\n",
              "      background-color: #434B5C;\n",
              "      box-shadow: 0px 1px 3px 1px rgba(0, 0, 0, 0.15);\n",
              "      filter: drop-shadow(0px 1px 2px rgba(0, 0, 0, 0.3));\n",
              "      fill: #FFFFFF;\n",
              "    }\n",
              "  </style>\n",
              "\n",
              "      <script>\n",
              "        const buttonEl =\n",
              "          document.querySelector('#df-e85375db-f68b-4ebf-a297-3cc26e9f1574 button.colab-df-convert');\n",
              "        buttonEl.style.display =\n",
              "          google.colab.kernel.accessAllowed ? 'block' : 'none';\n",
              "\n",
              "        async function convertToInteractive(key) {\n",
              "          const element = document.querySelector('#df-e85375db-f68b-4ebf-a297-3cc26e9f1574');\n",
              "          const dataTable =\n",
              "            await google.colab.kernel.invokeFunction('convertToInteractive',\n",
              "                                                     [key], {});\n",
              "          if (!dataTable) return;\n",
              "\n",
              "          const docLinkHtml = 'Like what you see? Visit the ' +\n",
              "            '<a target=\"_blank\" href=https://colab.research.google.com/notebooks/data_table.ipynb>data table notebook</a>'\n",
              "            + ' to learn more about interactive tables.';\n",
              "          element.innerHTML = '';\n",
              "          dataTable['output_type'] = 'display_data';\n",
              "          await google.colab.output.renderOutput(dataTable, element);\n",
              "          const docLink = document.createElement('div');\n",
              "          docLink.innerHTML = docLinkHtml;\n",
              "          element.appendChild(docLink);\n",
              "        }\n",
              "      </script>\n",
              "    </div>\n",
              "  </div>\n",
              "  "
            ]
          },
          "metadata": {}
        }
      ]
    },
    {
      "cell_type": "code",
      "source": [
        "df.High = df.High.replace('\\°','',regex=True).astype(float)\n",
        "df.Low = df.Low.replace('\\°','',regex=True).astype(float)"
      ],
      "metadata": {
        "id": "ML0Y4S7InAfr"
      },
      "execution_count": null,
      "outputs": []
    },
    {
      "cell_type": "code",
      "source": [
        "display(df)"
      ],
      "metadata": {
        "colab": {
          "base_uri": "https://localhost:8080/",
          "height": 488
        },
        "id": "TH71bzrwnAi_",
        "outputId": "72f99a3f-07d5-4435-af83-e128cc0cd433"
      },
      "execution_count": null,
      "outputs": [
        {
          "output_type": "display_data",
          "data": {
            "text/plain": [
              "        Date  High   Low                                Summary\n",
              "0   22-05-24  33.0  26.0      Light cloud and a moderate breeze\n",
              "1   22-05-25  34.0  27.0  Sunny intervals and a moderate breeze\n",
              "2   22-05-26  33.0  27.0  Sunny intervals and a moderate breeze\n",
              "3   22-05-27  33.0  28.0      Light cloud and a moderate breeze\n",
              "4   22-05-28  32.0  27.0      Light cloud and a moderate breeze\n",
              "5   22-05-29  32.0  27.0  Sunny intervals and a moderate breeze\n",
              "6   22-05-30  32.0  27.0      Light cloud and a moderate breeze\n",
              "7   22-05-31  33.0  27.0      Light cloud and a moderate breeze\n",
              "8   22-06-01  33.0  27.0      Light cloud and a moderate breeze\n",
              "9   22-06-02  33.0  27.0      Light cloud and a moderate breeze\n",
              "10  22-06-03  33.0  27.0  Sunny intervals and a moderate breeze\n",
              "11  22-06-04  33.0  27.0  Sunny intervals and a moderate breeze\n",
              "12  22-06-05  33.0  27.0      Light cloud and a moderate breeze\n",
              "13  22-06-06  33.0  26.0      Light cloud and a moderate breeze"
            ],
            "text/html": [
              "\n",
              "  <div id=\"df-0b42aabe-5e54-47ec-b64f-103602e76b4b\">\n",
              "    <div class=\"colab-df-container\">\n",
              "      <div>\n",
              "<style scoped>\n",
              "    .dataframe tbody tr th:only-of-type {\n",
              "        vertical-align: middle;\n",
              "    }\n",
              "\n",
              "    .dataframe tbody tr th {\n",
              "        vertical-align: top;\n",
              "    }\n",
              "\n",
              "    .dataframe thead th {\n",
              "        text-align: right;\n",
              "    }\n",
              "</style>\n",
              "<table border=\"1\" class=\"dataframe\">\n",
              "  <thead>\n",
              "    <tr style=\"text-align: right;\">\n",
              "      <th></th>\n",
              "      <th>Date</th>\n",
              "      <th>High</th>\n",
              "      <th>Low</th>\n",
              "      <th>Summary</th>\n",
              "    </tr>\n",
              "  </thead>\n",
              "  <tbody>\n",
              "    <tr>\n",
              "      <th>0</th>\n",
              "      <td>22-05-24</td>\n",
              "      <td>33.0</td>\n",
              "      <td>26.0</td>\n",
              "      <td>Light cloud and a moderate breeze</td>\n",
              "    </tr>\n",
              "    <tr>\n",
              "      <th>1</th>\n",
              "      <td>22-05-25</td>\n",
              "      <td>34.0</td>\n",
              "      <td>27.0</td>\n",
              "      <td>Sunny intervals and a moderate breeze</td>\n",
              "    </tr>\n",
              "    <tr>\n",
              "      <th>2</th>\n",
              "      <td>22-05-26</td>\n",
              "      <td>33.0</td>\n",
              "      <td>27.0</td>\n",
              "      <td>Sunny intervals and a moderate breeze</td>\n",
              "    </tr>\n",
              "    <tr>\n",
              "      <th>3</th>\n",
              "      <td>22-05-27</td>\n",
              "      <td>33.0</td>\n",
              "      <td>28.0</td>\n",
              "      <td>Light cloud and a moderate breeze</td>\n",
              "    </tr>\n",
              "    <tr>\n",
              "      <th>4</th>\n",
              "      <td>22-05-28</td>\n",
              "      <td>32.0</td>\n",
              "      <td>27.0</td>\n",
              "      <td>Light cloud and a moderate breeze</td>\n",
              "    </tr>\n",
              "    <tr>\n",
              "      <th>5</th>\n",
              "      <td>22-05-29</td>\n",
              "      <td>32.0</td>\n",
              "      <td>27.0</td>\n",
              "      <td>Sunny intervals and a moderate breeze</td>\n",
              "    </tr>\n",
              "    <tr>\n",
              "      <th>6</th>\n",
              "      <td>22-05-30</td>\n",
              "      <td>32.0</td>\n",
              "      <td>27.0</td>\n",
              "      <td>Light cloud and a moderate breeze</td>\n",
              "    </tr>\n",
              "    <tr>\n",
              "      <th>7</th>\n",
              "      <td>22-05-31</td>\n",
              "      <td>33.0</td>\n",
              "      <td>27.0</td>\n",
              "      <td>Light cloud and a moderate breeze</td>\n",
              "    </tr>\n",
              "    <tr>\n",
              "      <th>8</th>\n",
              "      <td>22-06-01</td>\n",
              "      <td>33.0</td>\n",
              "      <td>27.0</td>\n",
              "      <td>Light cloud and a moderate breeze</td>\n",
              "    </tr>\n",
              "    <tr>\n",
              "      <th>9</th>\n",
              "      <td>22-06-02</td>\n",
              "      <td>33.0</td>\n",
              "      <td>27.0</td>\n",
              "      <td>Light cloud and a moderate breeze</td>\n",
              "    </tr>\n",
              "    <tr>\n",
              "      <th>10</th>\n",
              "      <td>22-06-03</td>\n",
              "      <td>33.0</td>\n",
              "      <td>27.0</td>\n",
              "      <td>Sunny intervals and a moderate breeze</td>\n",
              "    </tr>\n",
              "    <tr>\n",
              "      <th>11</th>\n",
              "      <td>22-06-04</td>\n",
              "      <td>33.0</td>\n",
              "      <td>27.0</td>\n",
              "      <td>Sunny intervals and a moderate breeze</td>\n",
              "    </tr>\n",
              "    <tr>\n",
              "      <th>12</th>\n",
              "      <td>22-06-05</td>\n",
              "      <td>33.0</td>\n",
              "      <td>27.0</td>\n",
              "      <td>Light cloud and a moderate breeze</td>\n",
              "    </tr>\n",
              "    <tr>\n",
              "      <th>13</th>\n",
              "      <td>22-06-06</td>\n",
              "      <td>33.0</td>\n",
              "      <td>26.0</td>\n",
              "      <td>Light cloud and a moderate breeze</td>\n",
              "    </tr>\n",
              "  </tbody>\n",
              "</table>\n",
              "</div>\n",
              "      <button class=\"colab-df-convert\" onclick=\"convertToInteractive('df-0b42aabe-5e54-47ec-b64f-103602e76b4b')\"\n",
              "              title=\"Convert this dataframe to an interactive table.\"\n",
              "              style=\"display:none;\">\n",
              "        \n",
              "  <svg xmlns=\"http://www.w3.org/2000/svg\" height=\"24px\"viewBox=\"0 0 24 24\"\n",
              "       width=\"24px\">\n",
              "    <path d=\"M0 0h24v24H0V0z\" fill=\"none\"/>\n",
              "    <path d=\"M18.56 5.44l.94 2.06.94-2.06 2.06-.94-2.06-.94-.94-2.06-.94 2.06-2.06.94zm-11 1L8.5 8.5l.94-2.06 2.06-.94-2.06-.94L8.5 2.5l-.94 2.06-2.06.94zm10 10l.94 2.06.94-2.06 2.06-.94-2.06-.94-.94-2.06-.94 2.06-2.06.94z\"/><path d=\"M17.41 7.96l-1.37-1.37c-.4-.4-.92-.59-1.43-.59-.52 0-1.04.2-1.43.59L10.3 9.45l-7.72 7.72c-.78.78-.78 2.05 0 2.83L4 21.41c.39.39.9.59 1.41.59.51 0 1.02-.2 1.41-.59l7.78-7.78 2.81-2.81c.8-.78.8-2.07 0-2.86zM5.41 20L4 18.59l7.72-7.72 1.47 1.35L5.41 20z\"/>\n",
              "  </svg>\n",
              "      </button>\n",
              "      \n",
              "  <style>\n",
              "    .colab-df-container {\n",
              "      display:flex;\n",
              "      flex-wrap:wrap;\n",
              "      gap: 12px;\n",
              "    }\n",
              "\n",
              "    .colab-df-convert {\n",
              "      background-color: #E8F0FE;\n",
              "      border: none;\n",
              "      border-radius: 50%;\n",
              "      cursor: pointer;\n",
              "      display: none;\n",
              "      fill: #1967D2;\n",
              "      height: 32px;\n",
              "      padding: 0 0 0 0;\n",
              "      width: 32px;\n",
              "    }\n",
              "\n",
              "    .colab-df-convert:hover {\n",
              "      background-color: #E2EBFA;\n",
              "      box-shadow: 0px 1px 2px rgba(60, 64, 67, 0.3), 0px 1px 3px 1px rgba(60, 64, 67, 0.15);\n",
              "      fill: #174EA6;\n",
              "    }\n",
              "\n",
              "    [theme=dark] .colab-df-convert {\n",
              "      background-color: #3B4455;\n",
              "      fill: #D2E3FC;\n",
              "    }\n",
              "\n",
              "    [theme=dark] .colab-df-convert:hover {\n",
              "      background-color: #434B5C;\n",
              "      box-shadow: 0px 1px 3px 1px rgba(0, 0, 0, 0.15);\n",
              "      filter: drop-shadow(0px 1px 2px rgba(0, 0, 0, 0.3));\n",
              "      fill: #FFFFFF;\n",
              "    }\n",
              "  </style>\n",
              "\n",
              "      <script>\n",
              "        const buttonEl =\n",
              "          document.querySelector('#df-0b42aabe-5e54-47ec-b64f-103602e76b4b button.colab-df-convert');\n",
              "        buttonEl.style.display =\n",
              "          google.colab.kernel.accessAllowed ? 'block' : 'none';\n",
              "\n",
              "        async function convertToInteractive(key) {\n",
              "          const element = document.querySelector('#df-0b42aabe-5e54-47ec-b64f-103602e76b4b');\n",
              "          const dataTable =\n",
              "            await google.colab.kernel.invokeFunction('convertToInteractive',\n",
              "                                                     [key], {});\n",
              "          if (!dataTable) return;\n",
              "\n",
              "          const docLinkHtml = 'Like what you see? Visit the ' +\n",
              "            '<a target=\"_blank\" href=https://colab.research.google.com/notebooks/data_table.ipynb>data table notebook</a>'\n",
              "            + ' to learn more about interactive tables.';\n",
              "          element.innerHTML = '';\n",
              "          dataTable['output_type'] = 'display_data';\n",
              "          await google.colab.output.renderOutput(dataTable, element);\n",
              "          const docLink = document.createElement('div');\n",
              "          docLink.innerHTML = docLinkHtml;\n",
              "          element.appendChild(docLink);\n",
              "        }\n",
              "      </script>\n",
              "    </div>\n",
              "  </div>\n",
              "  "
            ]
          },
          "metadata": {}
        }
      ]
    },
    {
      "cell_type": "code",
      "source": [
        "location = soup.find('h1',attrs={'id':'wr-location-name-id'})\n",
        "location.text.split()"
      ],
      "metadata": {
        "colab": {
          "base_uri": "https://localhost:8080/"
        },
        "id": "Xs2UGBKhoC0v",
        "outputId": "e0cbd8ee-316d-4d85-e80f-4f9bb53b002c"
      },
      "execution_count": null,
      "outputs": [
        {
          "output_type": "execute_result",
          "data": {
            "text/plain": [
              "['Mumbai', '-', 'Weather', 'warnings', 'issued']"
            ]
          },
          "metadata": {},
          "execution_count": 105
        }
      ]
    },
    {
      "cell_type": "code",
      "source": [
        "filename_csv = location.text.split()[0]+'.csv'\n",
        "df.to_csv(filename_csv, index=None)"
      ],
      "metadata": {
        "id": "rPr2lPveoC3-"
      },
      "execution_count": null,
      "outputs": []
    },
    {
      "cell_type": "markdown",
      "source": [
        "# ***imbd top 250 movies.... Practice***"
      ],
      "metadata": {
        "id": "t6qfS3fkvv_X"
      }
    },
    {
      "cell_type": "code",
      "source": [
        "import os\n",
        "\n",
        "import pandas as pd\n",
        "from bs4 import BeautifulSoup\n",
        "\n",
        "import requests"
      ],
      "metadata": {
        "id": "UDCftCJkv3Zk"
      },
      "execution_count": null,
      "outputs": []
    },
    {
      "cell_type": "code",
      "source": [
        "url = 'https://www.imdb.com/chart/top'\n",
        "response = requests.get(url)\n",
        "response"
      ],
      "metadata": {
        "colab": {
          "base_uri": "https://localhost:8080/"
        },
        "id": "GN4ORJ2_wEJD",
        "outputId": "d8ca5c25-0b65-4fa8-c3c2-653e2bbd9e3b"
      },
      "execution_count": null,
      "outputs": [
        {
          "output_type": "execute_result",
          "data": {
            "text/plain": [
              "<Response [200]>"
            ]
          },
          "metadata": {},
          "execution_count": 3
        }
      ]
    },
    {
      "cell_type": "code",
      "source": [
        "soup = BeautifulSoup(response.content)\n",
        "content = soup.prettify()"
      ],
      "metadata": {
        "id": "xsoC6jDvwO8P"
      },
      "execution_count": null,
      "outputs": []
    },
    {
      "cell_type": "code",
      "source": [
        "movies_name = []\n",
        "movies_date = []\n",
        "movies_rating = []"
      ],
      "metadata": {
        "id": "VZzBRGyEwPIt"
      },
      "execution_count": null,
      "outputs": []
    },
    {
      "cell_type": "code",
      "source": [
        "names = soup.find_all('td', attrs={'class':'titleColumn'})"
      ],
      "metadata": {
        "id": "Q6rvNAccwO-l"
      },
      "execution_count": null,
      "outputs": []
    },
    {
      "cell_type": "code",
      "source": [
        "ratings = soup.find_all('td', attrs={'class':'ratingColumn imdbRating'})"
      ],
      "metadata": {
        "id": "-5rKVjgvwPKP"
      },
      "execution_count": null,
      "outputs": []
    },
    {
      "cell_type": "code",
      "source": [
        "for row in names:\n",
        "  title = (row.a.text)\n",
        "  movies_name.append(title)"
      ],
      "metadata": {
        "id": "qZzZw-dLwPNd"
      },
      "execution_count": null,
      "outputs": []
    },
    {
      "cell_type": "code",
      "source": [
        "movies_name"
      ],
      "metadata": {
        "colab": {
          "base_uri": "https://localhost:8080/"
        },
        "id": "KAjSdPa95xBJ",
        "outputId": "3a141914-289f-4728-9c94-96a587a0972f"
      },
      "execution_count": null,
      "outputs": [
        {
          "output_type": "execute_result",
          "data": {
            "text/plain": [
              "['The Shawshank Redemption',\n",
              " 'The Godfather',\n",
              " 'The Dark Knight',\n",
              " 'The Godfather: Part II',\n",
              " '12 Angry Men',\n",
              " \"Schindler's List\",\n",
              " 'The Lord of the Rings: The Return of the King',\n",
              " 'Pulp Fiction',\n",
              " 'The Lord of the Rings: The Fellowship of the Ring',\n",
              " 'The Good, the Bad and the Ugly',\n",
              " 'Forrest Gump',\n",
              " 'Fight Club',\n",
              " 'Inception',\n",
              " 'The Lord of the Rings: The Two Towers',\n",
              " 'Star Wars: Episode V - The Empire Strikes Back',\n",
              " 'The Matrix',\n",
              " 'Goodfellas',\n",
              " \"One Flew Over the Cuckoo's Nest\",\n",
              " 'Se7en',\n",
              " 'Seven Samurai',\n",
              " \"It's a Wonderful Life\",\n",
              " 'The Silence of the Lambs',\n",
              " 'City of God',\n",
              " 'Saving Private Ryan',\n",
              " 'Life Is Beautiful',\n",
              " 'The Green Mile',\n",
              " 'Star Wars',\n",
              " 'Interstellar',\n",
              " 'Terminator 2: Judgment Day',\n",
              " 'Back to the Future',\n",
              " 'Spirited Away',\n",
              " 'Psycho',\n",
              " 'The Pianist',\n",
              " 'Léon: The Professional',\n",
              " 'Parasite',\n",
              " 'The Lion King',\n",
              " 'Gladiator',\n",
              " 'American History X',\n",
              " 'The Usual Suspects',\n",
              " 'The Departed',\n",
              " 'The Prestige',\n",
              " 'Casablanca',\n",
              " 'Whiplash',\n",
              " 'The Intouchables',\n",
              " 'Modern Times',\n",
              " 'Hara-Kiri',\n",
              " 'Once Upon a Time in the West',\n",
              " 'Grave of the Fireflies',\n",
              " 'Rear Window',\n",
              " 'Alien',\n",
              " 'City Lights',\n",
              " 'Cinema Paradiso',\n",
              " 'Memento',\n",
              " 'Apocalypse Now',\n",
              " 'Indiana Jones and the Raiders of the Lost Ark',\n",
              " 'Django Unchained',\n",
              " 'WALL·E',\n",
              " 'The Lives of Others',\n",
              " 'Sunset Blvd.',\n",
              " 'Paths of Glory',\n",
              " 'The Shining',\n",
              " 'The Great Dictator',\n",
              " 'Witness for the Prosecution',\n",
              " 'Avengers: Infinity War',\n",
              " 'Aliens',\n",
              " 'Everything Everywhere All at Once',\n",
              " 'American Beauty',\n",
              " 'Dr. Strangelove or: How I Learned to Stop Worrying and Love the Bomb',\n",
              " 'The Dark Knight Rises',\n",
              " 'Spider-Man: Into the Spider-Verse',\n",
              " 'Joker',\n",
              " 'Oldboy',\n",
              " 'Braveheart',\n",
              " 'Amadeus',\n",
              " 'Toy Story',\n",
              " 'Coco',\n",
              " 'The Boat',\n",
              " 'Inglourious Basterds',\n",
              " 'Princess Mononoke',\n",
              " 'Once Upon a Time in America',\n",
              " 'Avengers: Endgame',\n",
              " 'Good Will Hunting',\n",
              " 'Requiem for a Dream',\n",
              " 'Toy Story 3',\n",
              " \"Singin' in the Rain\",\n",
              " 'Your Name.',\n",
              " '3 Idiots',\n",
              " 'Star Wars: Episode VI - Return of the Jedi',\n",
              " '2001: A Space Odyssey',\n",
              " 'Reservoir Dogs',\n",
              " 'Eternal Sunshine of the Spotless Mind',\n",
              " 'High and Low',\n",
              " 'Citizen Kane',\n",
              " 'Capernaum',\n",
              " 'Lawrence of Arabia',\n",
              " 'The Hunt',\n",
              " 'M',\n",
              " 'North by Northwest',\n",
              " 'Vertigo',\n",
              " 'Amélie',\n",
              " 'A Clockwork Orange',\n",
              " 'Come and See',\n",
              " 'Full Metal Jacket',\n",
              " 'Double Indemnity',\n",
              " 'The Apartment',\n",
              " 'Scarface',\n",
              " 'To Kill a Mockingbird',\n",
              " 'Ikiru',\n",
              " 'Spider-Man: No Way Home',\n",
              " 'The Sting',\n",
              " 'Taxi Driver',\n",
              " 'L.A. Confidential',\n",
              " 'Hamilton',\n",
              " 'Up',\n",
              " 'Heat',\n",
              " 'Metropolis',\n",
              " 'Snatch',\n",
              " 'A Separation',\n",
              " 'Die Hard',\n",
              " 'Incendies',\n",
              " 'Indiana Jones and the Last Crusade',\n",
              " 'Bicycle Thieves',\n",
              " '1917',\n",
              " 'Like Stars on Earth',\n",
              " 'Downfall',\n",
              " 'For a Few Dollars More',\n",
              " 'Batman Begins',\n",
              " 'Dangal',\n",
              " 'The Kid',\n",
              " 'Some Like It Hot',\n",
              " 'The Father',\n",
              " 'All About Eve',\n",
              " 'Green Book',\n",
              " 'The Wolf of Wall Street',\n",
              " 'Judgment at Nuremberg',\n",
              " 'Unforgiven',\n",
              " \"Pan's Labyrinth\",\n",
              " 'Casino',\n",
              " 'Ran',\n",
              " 'There Will Be Blood',\n",
              " 'The Sixth Sense',\n",
              " 'A Beautiful Mind',\n",
              " 'Monty Python and the Holy Grail',\n",
              " 'The Truman Show',\n",
              " 'Yojimbo',\n",
              " 'The Treasure of the Sierra Madre',\n",
              " 'Rashomon',\n",
              " 'The Great Escape',\n",
              " 'Shutter Island',\n",
              " 'Kill Bill: Vol. 1',\n",
              " 'Jurassic Park',\n",
              " 'No Country for Old Men',\n",
              " 'The Elephant Man',\n",
              " 'Finding Nemo',\n",
              " 'Raging Bull',\n",
              " 'Chinatown',\n",
              " 'Gone with the Wind',\n",
              " 'V for Vendetta',\n",
              " 'Inside Out',\n",
              " 'Lock, Stock and Two Smoking Barrels',\n",
              " 'The Thing',\n",
              " 'Dial M for Murder',\n",
              " 'The Secret in Their Eyes',\n",
              " 'The Bridge on the River Kwai',\n",
              " \"Howl's Moving Castle\",\n",
              " 'Three Billboards Outside Ebbing, Missouri',\n",
              " 'Trainspotting',\n",
              " 'Gran Torino',\n",
              " 'Warrior',\n",
              " 'Fargo',\n",
              " 'My Neighbor Totoro',\n",
              " 'Prisoners',\n",
              " 'Million Dollar Baby',\n",
              " 'The Gold Rush',\n",
              " 'Blade Runner',\n",
              " 'Catch Me If You Can',\n",
              " 'On the Waterfront',\n",
              " 'The Third Man',\n",
              " 'Children of Heaven',\n",
              " 'Ben-Hur',\n",
              " 'The General',\n",
              " '12 Years a Slave',\n",
              " 'Gone Girl',\n",
              " 'Wild Strawberries',\n",
              " 'The Deer Hunter',\n",
              " 'Before Sunrise',\n",
              " 'Harry Potter and the Deathly Hallows: Part 2',\n",
              " 'In the Name of the Father',\n",
              " 'The Grand Budapest Hotel',\n",
              " 'Mr. Smith Goes to Washington',\n",
              " 'The Wages of Fear',\n",
              " 'Sherlock Jr.',\n",
              " 'Barry Lyndon',\n",
              " 'Room',\n",
              " 'Memories of Murder',\n",
              " 'Hacksaw Ridge',\n",
              " 'The Seventh Seal',\n",
              " 'Klaus',\n",
              " 'Wild Tales',\n",
              " 'The Big Lebowski',\n",
              " 'How to Train Your Dragon',\n",
              " 'Mad Max: Fury Road',\n",
              " 'Mary and Max',\n",
              " 'Monsters, Inc.',\n",
              " 'Jaws',\n",
              " 'The Passion of Joan of Arc',\n",
              " 'Pather Panchali',\n",
              " 'Hotel Rwanda',\n",
              " 'Tokyo Story',\n",
              " 'Dead Poets Society',\n",
              " 'Platoon',\n",
              " 'Rocky',\n",
              " 'Ford v Ferrari',\n",
              " 'Stand by Me',\n",
              " 'The Terminator',\n",
              " 'Rush',\n",
              " 'Spotlight',\n",
              " 'Into the Wild',\n",
              " 'Network',\n",
              " 'The Wizard of Oz',\n",
              " 'Logan',\n",
              " 'Groundhog Day',\n",
              " 'Ratatouille',\n",
              " 'The Exorcist',\n",
              " 'Before Sunset',\n",
              " 'The Best Years of Our Lives',\n",
              " 'The Incredibles',\n",
              " 'To Be or Not to Be',\n",
              " 'The Battle of Algiers',\n",
              " 'Rebecca',\n",
              " 'The Grapes of Wrath',\n",
              " \"Hachi: A Dog's Tale\",\n",
              " 'Cool Hand Luke',\n",
              " 'Amores perros',\n",
              " 'Dersu Uzala',\n",
              " 'Pirates of the Caribbean: The Curse of the Black Pearl',\n",
              " 'The 400 Blows',\n",
              " 'Persona',\n",
              " 'My Father and My Son',\n",
              " 'La Haine',\n",
              " 'Life of Brian',\n",
              " 'The Sound of Music',\n",
              " 'It Happened One Night',\n",
              " 'The Handmaiden',\n",
              " 'Aladdin',\n",
              " 'Gandhi',\n",
              " 'The Help',\n",
              " 'Beauty and the Beast',\n",
              " 'Dances with Wolves',\n",
              " 'Jai Bhim']"
            ]
          },
          "metadata": {},
          "execution_count": 227
        }
      ]
    },
    {
      "cell_type": "code",
      "source": [
        "for row in names:\n",
        "  date = row.span.text\n",
        "  movies_date.append(date)"
      ],
      "metadata": {
        "id": "EK6p6eV75xEi"
      },
      "execution_count": null,
      "outputs": []
    },
    {
      "cell_type": "code",
      "source": [
        "movies_date"
      ],
      "metadata": {
        "colab": {
          "base_uri": "https://localhost:8080/"
        },
        "id": "1_UOJq8X9bSM",
        "outputId": "0e814859-edc1-4fa7-e1bf-d10fe1404f43"
      },
      "execution_count": null,
      "outputs": [
        {
          "output_type": "execute_result",
          "data": {
            "text/plain": [
              "['(1994)',\n",
              " '(1972)',\n",
              " '(2008)',\n",
              " '(1974)',\n",
              " '(1957)',\n",
              " '(1993)',\n",
              " '(2003)',\n",
              " '(1994)',\n",
              " '(2001)',\n",
              " '(1966)',\n",
              " '(1994)',\n",
              " '(1999)',\n",
              " '(2010)',\n",
              " '(2002)',\n",
              " '(1980)',\n",
              " '(1999)',\n",
              " '(1990)',\n",
              " '(1975)',\n",
              " '(1995)',\n",
              " '(1954)',\n",
              " '(1946)',\n",
              " '(1991)',\n",
              " '(2002)',\n",
              " '(1998)',\n",
              " '(1997)',\n",
              " '(1999)',\n",
              " '(1977)',\n",
              " '(2014)',\n",
              " '(1991)',\n",
              " '(1985)',\n",
              " '(2001)',\n",
              " '(1960)',\n",
              " '(2002)',\n",
              " '(1994)',\n",
              " '(2019)',\n",
              " '(1994)',\n",
              " '(2000)',\n",
              " '(1998)',\n",
              " '(1995)',\n",
              " '(2006)',\n",
              " '(2006)',\n",
              " '(1942)',\n",
              " '(2014)',\n",
              " '(2011)',\n",
              " '(1936)',\n",
              " '(1962)',\n",
              " '(1968)',\n",
              " '(1988)',\n",
              " '(1954)',\n",
              " '(1979)',\n",
              " '(1931)',\n",
              " '(1988)',\n",
              " '(2000)',\n",
              " '(1979)',\n",
              " '(1981)',\n",
              " '(2012)',\n",
              " '(2008)',\n",
              " '(2006)',\n",
              " '(1950)',\n",
              " '(1957)',\n",
              " '(1980)',\n",
              " '(1940)',\n",
              " '(1957)',\n",
              " '(2018)',\n",
              " '(1986)',\n",
              " '(2022)',\n",
              " '(1999)',\n",
              " '(1964)',\n",
              " '(2012)',\n",
              " '(2018)',\n",
              " '(2019)',\n",
              " '(2003)',\n",
              " '(1995)',\n",
              " '(1984)',\n",
              " '(1995)',\n",
              " '(2017)',\n",
              " '(1981)',\n",
              " '(2009)',\n",
              " '(1997)',\n",
              " '(1984)',\n",
              " '(2019)',\n",
              " '(1997)',\n",
              " '(2000)',\n",
              " '(2010)',\n",
              " '(1952)',\n",
              " '(2016)',\n",
              " '(2009)',\n",
              " '(1983)',\n",
              " '(1968)',\n",
              " '(1992)',\n",
              " '(2004)',\n",
              " '(1963)',\n",
              " '(1941)',\n",
              " '(2018)',\n",
              " '(1962)',\n",
              " '(2012)',\n",
              " '(1931)',\n",
              " '(1959)',\n",
              " '(1958)',\n",
              " '(2001)',\n",
              " '(1971)',\n",
              " '(1985)',\n",
              " '(1987)',\n",
              " '(1944)',\n",
              " '(1960)',\n",
              " '(1983)',\n",
              " '(1962)',\n",
              " '(1952)',\n",
              " '(2021)',\n",
              " '(1973)',\n",
              " '(1976)',\n",
              " '(1997)',\n",
              " '(2020)',\n",
              " '(2009)',\n",
              " '(1995)',\n",
              " '(1927)',\n",
              " '(2000)',\n",
              " '(2011)',\n",
              " '(1988)',\n",
              " '(2010)',\n",
              " '(1989)',\n",
              " '(1948)',\n",
              " '(2019)',\n",
              " '(2007)',\n",
              " '(2004)',\n",
              " '(1965)',\n",
              " '(2005)',\n",
              " '(2016)',\n",
              " '(1921)',\n",
              " '(1959)',\n",
              " '(2020)',\n",
              " '(1950)',\n",
              " '(2018)',\n",
              " '(2013)',\n",
              " '(1961)',\n",
              " '(1992)',\n",
              " '(2006)',\n",
              " '(1995)',\n",
              " '(1985)',\n",
              " '(2007)',\n",
              " '(1999)',\n",
              " '(2001)',\n",
              " '(1975)',\n",
              " '(1998)',\n",
              " '(1961)',\n",
              " '(1948)',\n",
              " '(1950)',\n",
              " '(1963)',\n",
              " '(2010)',\n",
              " '(2003)',\n",
              " '(1993)',\n",
              " '(2007)',\n",
              " '(1980)',\n",
              " '(2003)',\n",
              " '(1980)',\n",
              " '(1974)',\n",
              " '(1939)',\n",
              " '(2005)',\n",
              " '(2015)',\n",
              " '(1998)',\n",
              " '(1982)',\n",
              " '(1954)',\n",
              " '(2009)',\n",
              " '(1957)',\n",
              " '(2004)',\n",
              " '(2017)',\n",
              " '(1996)',\n",
              " '(2008)',\n",
              " '(2011)',\n",
              " '(1996)',\n",
              " '(1988)',\n",
              " '(2013)',\n",
              " '(2004)',\n",
              " '(1925)',\n",
              " '(1982)',\n",
              " '(2002)',\n",
              " '(1954)',\n",
              " '(1949)',\n",
              " '(1997)',\n",
              " '(1959)',\n",
              " '(1926)',\n",
              " '(2013)',\n",
              " '(2014)',\n",
              " '(1957)',\n",
              " '(1978)',\n",
              " '(1995)',\n",
              " '(2011)',\n",
              " '(1993)',\n",
              " '(2014)',\n",
              " '(1939)',\n",
              " '(1953)',\n",
              " '(1924)',\n",
              " '(1975)',\n",
              " '(2015)',\n",
              " '(2003)',\n",
              " '(2016)',\n",
              " '(1957)',\n",
              " '(2019)',\n",
              " '(2014)',\n",
              " '(1998)',\n",
              " '(2010)',\n",
              " '(2015)',\n",
              " '(2009)',\n",
              " '(2001)',\n",
              " '(1975)',\n",
              " '(1928)',\n",
              " '(1955)',\n",
              " '(2004)',\n",
              " '(1953)',\n",
              " '(1989)',\n",
              " '(1986)',\n",
              " '(1976)',\n",
              " '(2019)',\n",
              " '(1986)',\n",
              " '(1984)',\n",
              " '(2013)',\n",
              " '(2015)',\n",
              " '(2007)',\n",
              " '(1976)',\n",
              " '(1939)',\n",
              " '(2017)',\n",
              " '(1993)',\n",
              " '(2007)',\n",
              " '(1973)',\n",
              " '(2004)',\n",
              " '(1946)',\n",
              " '(2004)',\n",
              " '(1942)',\n",
              " '(1966)',\n",
              " '(1940)',\n",
              " '(1940)',\n",
              " '(2009)',\n",
              " '(1967)',\n",
              " '(2000)',\n",
              " '(1975)',\n",
              " '(2003)',\n",
              " '(1959)',\n",
              " '(1966)',\n",
              " '(2005)',\n",
              " '(1995)',\n",
              " '(1979)',\n",
              " '(1965)',\n",
              " '(1934)',\n",
              " '(2016)',\n",
              " '(1992)',\n",
              " '(1982)',\n",
              " '(2011)',\n",
              " '(1991)',\n",
              " '(1990)',\n",
              " '(2021)']"
            ]
          },
          "metadata": {},
          "execution_count": 229
        }
      ]
    },
    {
      "cell_type": "code",
      "source": [
        "for row in ratings:\n",
        "  rating = row.strong.text\n",
        "  movies_rating.append(rating)"
      ],
      "metadata": {
        "id": "86FFsV-G9ee7"
      },
      "execution_count": null,
      "outputs": []
    },
    {
      "cell_type": "code",
      "source": [
        "movies_rating"
      ],
      "metadata": {
        "colab": {
          "base_uri": "https://localhost:8080/"
        },
        "id": "nD0bIgWX-AV_",
        "outputId": "06a865cc-1cce-40e6-824f-0fbb80192506"
      },
      "execution_count": null,
      "outputs": [
        {
          "output_type": "execute_result",
          "data": {
            "text/plain": [
              "['9.2',\n",
              " '9.2',\n",
              " '9.0',\n",
              " '9.0',\n",
              " '8.9',\n",
              " '8.9',\n",
              " '8.9',\n",
              " '8.9',\n",
              " '8.8',\n",
              " '8.8',\n",
              " '8.8',\n",
              " '8.8',\n",
              " '8.7',\n",
              " '8.7',\n",
              " '8.7',\n",
              " '8.7',\n",
              " '8.7',\n",
              " '8.6',\n",
              " '8.6',\n",
              " '8.6',\n",
              " '8.6',\n",
              " '8.6',\n",
              " '8.6',\n",
              " '8.6',\n",
              " '8.6',\n",
              " '8.6',\n",
              " '8.6',\n",
              " '8.6',\n",
              " '8.5',\n",
              " '8.5',\n",
              " '8.5',\n",
              " '8.5',\n",
              " '8.5',\n",
              " '8.5',\n",
              " '8.5',\n",
              " '8.5',\n",
              " '8.5',\n",
              " '8.5',\n",
              " '8.5',\n",
              " '8.5',\n",
              " '8.5',\n",
              " '8.5',\n",
              " '8.5',\n",
              " '8.5',\n",
              " '8.5',\n",
              " '8.4',\n",
              " '8.4',\n",
              " '8.4',\n",
              " '8.4',\n",
              " '8.4',\n",
              " '8.4',\n",
              " '8.4',\n",
              " '8.4',\n",
              " '8.4',\n",
              " '8.4',\n",
              " '8.4',\n",
              " '8.4',\n",
              " '8.4',\n",
              " '8.4',\n",
              " '8.4',\n",
              " '8.4',\n",
              " '8.4',\n",
              " '8.4',\n",
              " '8.4',\n",
              " '8.3',\n",
              " '8.3',\n",
              " '8.3',\n",
              " '8.3',\n",
              " '8.3',\n",
              " '8.3',\n",
              " '8.3',\n",
              " '8.3',\n",
              " '8.3',\n",
              " '8.3',\n",
              " '8.3',\n",
              " '8.3',\n",
              " '8.3',\n",
              " '8.3',\n",
              " '8.3',\n",
              " '8.3',\n",
              " '8.3',\n",
              " '8.3',\n",
              " '8.3',\n",
              " '8.3',\n",
              " '8.3',\n",
              " '8.3',\n",
              " '8.3',\n",
              " '8.3',\n",
              " '8.3',\n",
              " '8.3',\n",
              " '8.3',\n",
              " '8.3',\n",
              " '8.3',\n",
              " '8.3',\n",
              " '8.3',\n",
              " '8.3',\n",
              " '8.3',\n",
              " '8.3',\n",
              " '8.2',\n",
              " '8.2',\n",
              " '8.2',\n",
              " '8.2',\n",
              " '8.2',\n",
              " '8.2',\n",
              " '8.2',\n",
              " '8.2',\n",
              " '8.2',\n",
              " '8.2',\n",
              " '8.2',\n",
              " '8.2',\n",
              " '8.2',\n",
              " '8.2',\n",
              " '8.2',\n",
              " '8.2',\n",
              " '8.2',\n",
              " '8.2',\n",
              " '8.2',\n",
              " '8.2',\n",
              " '8.2',\n",
              " '8.2',\n",
              " '8.2',\n",
              " '8.2',\n",
              " '8.2',\n",
              " '8.2',\n",
              " '8.2',\n",
              " '8.2',\n",
              " '8.2',\n",
              " '8.2',\n",
              " '8.2',\n",
              " '8.2',\n",
              " '8.2',\n",
              " '8.2',\n",
              " '8.2',\n",
              " '8.2',\n",
              " '8.2',\n",
              " '8.2',\n",
              " '8.2',\n",
              " '8.2',\n",
              " '8.2',\n",
              " '8.2',\n",
              " '8.2',\n",
              " '8.2',\n",
              " '8.2',\n",
              " '8.2',\n",
              " '8.1',\n",
              " '8.1',\n",
              " '8.1',\n",
              " '8.1',\n",
              " '8.1',\n",
              " '8.1',\n",
              " '8.1',\n",
              " '8.1',\n",
              " '8.1',\n",
              " '8.1',\n",
              " '8.1',\n",
              " '8.1',\n",
              " '8.1',\n",
              " '8.1',\n",
              " '8.1',\n",
              " '8.1',\n",
              " '8.1',\n",
              " '8.1',\n",
              " '8.1',\n",
              " '8.1',\n",
              " '8.1',\n",
              " '8.1',\n",
              " '8.1',\n",
              " '8.1',\n",
              " '8.1',\n",
              " '8.1',\n",
              " '8.1',\n",
              " '8.1',\n",
              " '8.1',\n",
              " '8.1',\n",
              " '8.1',\n",
              " '8.1',\n",
              " '8.1',\n",
              " '8.1',\n",
              " '8.1',\n",
              " '8.1',\n",
              " '8.1',\n",
              " '8.1',\n",
              " '8.1',\n",
              " '8.1',\n",
              " '8.1',\n",
              " '8.1',\n",
              " '8.1',\n",
              " '8.1',\n",
              " '8.1',\n",
              " '8.1',\n",
              " '8.1',\n",
              " '8.1',\n",
              " '8.1',\n",
              " '8.1',\n",
              " '8.1',\n",
              " '8.1',\n",
              " '8.1',\n",
              " '8.1',\n",
              " '8.1',\n",
              " '8.1',\n",
              " '8.1',\n",
              " '8.1',\n",
              " '8.1',\n",
              " '8.1',\n",
              " '8.1',\n",
              " '8.1',\n",
              " '8.1',\n",
              " '8.1',\n",
              " '8.1',\n",
              " '8.1',\n",
              " '8.0',\n",
              " '8.0',\n",
              " '8.0',\n",
              " '8.0',\n",
              " '8.0',\n",
              " '8.0',\n",
              " '8.0',\n",
              " '8.0',\n",
              " '8.0',\n",
              " '8.0',\n",
              " '8.0',\n",
              " '8.0',\n",
              " '8.0',\n",
              " '8.0',\n",
              " '8.0',\n",
              " '8.0',\n",
              " '8.0',\n",
              " '8.0',\n",
              " '8.0',\n",
              " '8.0',\n",
              " '8.0',\n",
              " '8.0',\n",
              " '8.0',\n",
              " '8.0',\n",
              " '8.0',\n",
              " '8.0',\n",
              " '8.0',\n",
              " '8.0',\n",
              " '8.0',\n",
              " '8.0',\n",
              " '8.0',\n",
              " '8.0',\n",
              " '8.0',\n",
              " '8.0',\n",
              " '8.0',\n",
              " '8.0',\n",
              " '8.0',\n",
              " '8.0',\n",
              " '8.0',\n",
              " '8.0']"
            ]
          },
          "metadata": {},
          "execution_count": 232
        }
      ]
    },
    {
      "cell_type": "code",
      "source": [
        "zipped = zip(movies_name, movies_date, movies_rating)"
      ],
      "metadata": {
        "id": "pDwGkVuH-EPx"
      },
      "execution_count": null,
      "outputs": []
    },
    {
      "cell_type": "code",
      "source": [
        "df = pd.DataFrame(zipped, columns = ['Movie Name', 'Movie Date', 'Movie Rating'])"
      ],
      "metadata": {
        "id": "eoLdQE5M-M9C"
      },
      "execution_count": null,
      "outputs": []
    },
    {
      "cell_type": "code",
      "source": [
        "df.head(10)"
      ],
      "metadata": {
        "colab": {
          "base_uri": "https://localhost:8080/",
          "height": 363
        },
        "id": "Ed_1SeZz-c1l",
        "outputId": "9dd2ae13-b134-4f1c-b77c-4c77df800d51"
      },
      "execution_count": null,
      "outputs": [
        {
          "output_type": "execute_result",
          "data": {
            "text/plain": [
              "                                          Movie Name Movie Date Movie Rating\n",
              "0                           The Shawshank Redemption     (1994)          9.2\n",
              "1                                      The Godfather     (1972)          9.2\n",
              "2                                    The Dark Knight     (2008)          9.0\n",
              "3                             The Godfather: Part II     (1974)          9.0\n",
              "4                                       12 Angry Men     (1957)          8.9\n",
              "5                                   Schindler's List     (1993)          8.9\n",
              "6      The Lord of the Rings: The Return of the King     (2003)          8.9\n",
              "7                                       Pulp Fiction     (1994)          8.9\n",
              "8  The Lord of the Rings: The Fellowship of the Ring     (2001)          8.8\n",
              "9                     The Good, the Bad and the Ugly     (1966)          8.8"
            ],
            "text/html": [
              "\n",
              "  <div id=\"df-165b711d-4fdf-4b0b-8b0a-d757bf0944d9\">\n",
              "    <div class=\"colab-df-container\">\n",
              "      <div>\n",
              "<style scoped>\n",
              "    .dataframe tbody tr th:only-of-type {\n",
              "        vertical-align: middle;\n",
              "    }\n",
              "\n",
              "    .dataframe tbody tr th {\n",
              "        vertical-align: top;\n",
              "    }\n",
              "\n",
              "    .dataframe thead th {\n",
              "        text-align: right;\n",
              "    }\n",
              "</style>\n",
              "<table border=\"1\" class=\"dataframe\">\n",
              "  <thead>\n",
              "    <tr style=\"text-align: right;\">\n",
              "      <th></th>\n",
              "      <th>Movie Name</th>\n",
              "      <th>Movie Date</th>\n",
              "      <th>Movie Rating</th>\n",
              "    </tr>\n",
              "  </thead>\n",
              "  <tbody>\n",
              "    <tr>\n",
              "      <th>0</th>\n",
              "      <td>The Shawshank Redemption</td>\n",
              "      <td>(1994)</td>\n",
              "      <td>9.2</td>\n",
              "    </tr>\n",
              "    <tr>\n",
              "      <th>1</th>\n",
              "      <td>The Godfather</td>\n",
              "      <td>(1972)</td>\n",
              "      <td>9.2</td>\n",
              "    </tr>\n",
              "    <tr>\n",
              "      <th>2</th>\n",
              "      <td>The Dark Knight</td>\n",
              "      <td>(2008)</td>\n",
              "      <td>9.0</td>\n",
              "    </tr>\n",
              "    <tr>\n",
              "      <th>3</th>\n",
              "      <td>The Godfather: Part II</td>\n",
              "      <td>(1974)</td>\n",
              "      <td>9.0</td>\n",
              "    </tr>\n",
              "    <tr>\n",
              "      <th>4</th>\n",
              "      <td>12 Angry Men</td>\n",
              "      <td>(1957)</td>\n",
              "      <td>8.9</td>\n",
              "    </tr>\n",
              "    <tr>\n",
              "      <th>5</th>\n",
              "      <td>Schindler's List</td>\n",
              "      <td>(1993)</td>\n",
              "      <td>8.9</td>\n",
              "    </tr>\n",
              "    <tr>\n",
              "      <th>6</th>\n",
              "      <td>The Lord of the Rings: The Return of the King</td>\n",
              "      <td>(2003)</td>\n",
              "      <td>8.9</td>\n",
              "    </tr>\n",
              "    <tr>\n",
              "      <th>7</th>\n",
              "      <td>Pulp Fiction</td>\n",
              "      <td>(1994)</td>\n",
              "      <td>8.9</td>\n",
              "    </tr>\n",
              "    <tr>\n",
              "      <th>8</th>\n",
              "      <td>The Lord of the Rings: The Fellowship of the Ring</td>\n",
              "      <td>(2001)</td>\n",
              "      <td>8.8</td>\n",
              "    </tr>\n",
              "    <tr>\n",
              "      <th>9</th>\n",
              "      <td>The Good, the Bad and the Ugly</td>\n",
              "      <td>(1966)</td>\n",
              "      <td>8.8</td>\n",
              "    </tr>\n",
              "  </tbody>\n",
              "</table>\n",
              "</div>\n",
              "      <button class=\"colab-df-convert\" onclick=\"convertToInteractive('df-165b711d-4fdf-4b0b-8b0a-d757bf0944d9')\"\n",
              "              title=\"Convert this dataframe to an interactive table.\"\n",
              "              style=\"display:none;\">\n",
              "        \n",
              "  <svg xmlns=\"http://www.w3.org/2000/svg\" height=\"24px\"viewBox=\"0 0 24 24\"\n",
              "       width=\"24px\">\n",
              "    <path d=\"M0 0h24v24H0V0z\" fill=\"none\"/>\n",
              "    <path d=\"M18.56 5.44l.94 2.06.94-2.06 2.06-.94-2.06-.94-.94-2.06-.94 2.06-2.06.94zm-11 1L8.5 8.5l.94-2.06 2.06-.94-2.06-.94L8.5 2.5l-.94 2.06-2.06.94zm10 10l.94 2.06.94-2.06 2.06-.94-2.06-.94-.94-2.06-.94 2.06-2.06.94z\"/><path d=\"M17.41 7.96l-1.37-1.37c-.4-.4-.92-.59-1.43-.59-.52 0-1.04.2-1.43.59L10.3 9.45l-7.72 7.72c-.78.78-.78 2.05 0 2.83L4 21.41c.39.39.9.59 1.41.59.51 0 1.02-.2 1.41-.59l7.78-7.78 2.81-2.81c.8-.78.8-2.07 0-2.86zM5.41 20L4 18.59l7.72-7.72 1.47 1.35L5.41 20z\"/>\n",
              "  </svg>\n",
              "      </button>\n",
              "      \n",
              "  <style>\n",
              "    .colab-df-container {\n",
              "      display:flex;\n",
              "      flex-wrap:wrap;\n",
              "      gap: 12px;\n",
              "    }\n",
              "\n",
              "    .colab-df-convert {\n",
              "      background-color: #E8F0FE;\n",
              "      border: none;\n",
              "      border-radius: 50%;\n",
              "      cursor: pointer;\n",
              "      display: none;\n",
              "      fill: #1967D2;\n",
              "      height: 32px;\n",
              "      padding: 0 0 0 0;\n",
              "      width: 32px;\n",
              "    }\n",
              "\n",
              "    .colab-df-convert:hover {\n",
              "      background-color: #E2EBFA;\n",
              "      box-shadow: 0px 1px 2px rgba(60, 64, 67, 0.3), 0px 1px 3px 1px rgba(60, 64, 67, 0.15);\n",
              "      fill: #174EA6;\n",
              "    }\n",
              "\n",
              "    [theme=dark] .colab-df-convert {\n",
              "      background-color: #3B4455;\n",
              "      fill: #D2E3FC;\n",
              "    }\n",
              "\n",
              "    [theme=dark] .colab-df-convert:hover {\n",
              "      background-color: #434B5C;\n",
              "      box-shadow: 0px 1px 3px 1px rgba(0, 0, 0, 0.15);\n",
              "      filter: drop-shadow(0px 1px 2px rgba(0, 0, 0, 0.3));\n",
              "      fill: #FFFFFF;\n",
              "    }\n",
              "  </style>\n",
              "\n",
              "      <script>\n",
              "        const buttonEl =\n",
              "          document.querySelector('#df-165b711d-4fdf-4b0b-8b0a-d757bf0944d9 button.colab-df-convert');\n",
              "        buttonEl.style.display =\n",
              "          google.colab.kernel.accessAllowed ? 'block' : 'none';\n",
              "\n",
              "        async function convertToInteractive(key) {\n",
              "          const element = document.querySelector('#df-165b711d-4fdf-4b0b-8b0a-d757bf0944d9');\n",
              "          const dataTable =\n",
              "            await google.colab.kernel.invokeFunction('convertToInteractive',\n",
              "                                                     [key], {});\n",
              "          if (!dataTable) return;\n",
              "\n",
              "          const docLinkHtml = 'Like what you see? Visit the ' +\n",
              "            '<a target=\"_blank\" href=https://colab.research.google.com/notebooks/data_table.ipynb>data table notebook</a>'\n",
              "            + ' to learn more about interactive tables.';\n",
              "          element.innerHTML = '';\n",
              "          dataTable['output_type'] = 'display_data';\n",
              "          await google.colab.output.renderOutput(dataTable, element);\n",
              "          const docLink = document.createElement('div');\n",
              "          docLink.innerHTML = docLinkHtml;\n",
              "          element.appendChild(docLink);\n",
              "        }\n",
              "      </script>\n",
              "    </div>\n",
              "  </div>\n",
              "  "
            ]
          },
          "metadata": {},
          "execution_count": 237
        }
      ]
    },
    {
      "cell_type": "code",
      "source": [
        "df.to_csv(\"imbd250.csv\", index=None)"
      ],
      "metadata": {
        "id": "1J_quoB1-kh-"
      },
      "execution_count": null,
      "outputs": []
    },
    {
      "cell_type": "code",
      "source": [
        "df.to_excel(\"data.xlsx\")"
      ],
      "metadata": {
        "id": "94vPelQtAzRf"
      },
      "execution_count": null,
      "outputs": []
    },
    {
      "cell_type": "markdown",
      "source": [
        "# ***Geocoding API (Nominatim )***"
      ],
      "metadata": {
        "id": "i21B_WZVfusC"
      }
    },
    {
      "cell_type": "code",
      "source": [
        "from geopy.geocoders import Nominatim"
      ],
      "metadata": {
        "id": "0T1N1K8af8RX"
      },
      "execution_count": null,
      "outputs": []
    },
    {
      "cell_type": "code",
      "source": [
        "locator = Nominatim(user_agent=\"myGeocoder\")\n",
        "location = locator.geocode(\"Champ de Mars, Paris, France\")"
      ],
      "metadata": {
        "id": "tz3eB0oQgFYm"
      },
      "execution_count": null,
      "outputs": []
    },
    {
      "cell_type": "code",
      "source": [
        "print(\"Latitude = {}, longitude = {}\". format(location.latitude, location.longitude))"
      ],
      "metadata": {
        "colab": {
          "base_uri": "https://localhost:8080/"
        },
        "id": "FAQkg7KVgt_E",
        "outputId": "12c3b6d5-4b4f-491f-f70e-0388c8a0de2c"
      },
      "execution_count": null,
      "outputs": [
        {
          "output_type": "stream",
          "name": "stdout",
          "text": [
            "Latitude = 48.85614465, longitude = 2.297820393322227\n"
          ]
        }
      ]
    },
    {
      "cell_type": "code",
      "source": [
        "location.point"
      ],
      "metadata": {
        "colab": {
          "base_uri": "https://localhost:8080/"
        },
        "id": "VOBfROxAiLU1",
        "outputId": "7fd2496c-e12c-41d4-f2e7-7b3f13494966"
      },
      "execution_count": null,
      "outputs": [
        {
          "output_type": "execute_result",
          "data": {
            "text/plain": [
              "Point(48.85614465, 2.297820393322227, 0.0)"
            ]
          },
          "metadata": {},
          "execution_count": 11
        }
      ]
    },
    {
      "cell_type": "code",
      "source": [
        "location = locator.geocode(\"IIT Madras\")"
      ],
      "metadata": {
        "id": "15zsaOcyh7hk"
      },
      "execution_count": null,
      "outputs": []
    },
    {
      "cell_type": "code",
      "source": [
        "location.raw, location.altitude, location.point, location.address, location.latitude, location.longitude"
      ],
      "metadata": {
        "colab": {
          "base_uri": "https://localhost:8080/"
        },
        "id": "R40MURUahY5R",
        "outputId": "91857322-75ba-428b-dd1f-b6fd38daeebe"
      },
      "execution_count": null,
      "outputs": [
        {
          "output_type": "execute_result",
          "data": {
            "text/plain": [
              "({'boundingbox': ['28.621787', '28.786096', '-81.593217', '-81.459657'],\n",
              "  'class': 'boundary',\n",
              "  'display_name': 'Apopka, Orange County, Florida, United States',\n",
              "  'icon': 'https://nominatim.openstreetmap.org/ui/mapicons/poi_boundary_administrative.p.20.png',\n",
              "  'importance': 0.5410528703133429,\n",
              "  'lat': '28.6779683',\n",
              "  'licence': 'Data © OpenStreetMap contributors, ODbL 1.0. https://osm.org/copyright',\n",
              "  'lon': '-81.5115214',\n",
              "  'osm_id': 117680,\n",
              "  'osm_type': 'relation',\n",
              "  'place_id': 281821082,\n",
              "  'type': 'administrative'},\n",
              " 0.0,\n",
              " Point(28.6779683, -81.5115214, 0.0),\n",
              " 'Apopka, Orange County, Florida, United States',\n",
              " 28.6779683,\n",
              " -81.5115214)"
            ]
          },
          "metadata": {},
          "execution_count": 39
        }
      ]
    },
    {
      "cell_type": "code",
      "source": [
        "location = locator.geocode(\"Apopka\")"
      ],
      "metadata": {
        "id": "hX-ymMYdif_O"
      },
      "execution_count": null,
      "outputs": []
    },
    {
      "cell_type": "markdown",
      "source": [
        "# ***Extracting information from Wikipedia***"
      ],
      "metadata": {
        "id": "yTeMaEcYmYXa"
      }
    },
    {
      "cell_type": "code",
      "source": [
        "import wikipedia as wk"
      ],
      "metadata": {
        "id": "AW2zVMnDnBPV"
      },
      "execution_count": null,
      "outputs": []
    },
    {
      "cell_type": "code",
      "source": [
        "s = wk.search(\"IIT Madras\")\n",
        "s"
      ],
      "metadata": {
        "colab": {
          "base_uri": "https://localhost:8080/"
        },
        "id": "7L8JKN4KnbFo",
        "outputId": "d2acca81-0919-4fe1-d508-818cdd0e894e"
      },
      "execution_count": null,
      "outputs": [
        {
          "output_type": "execute_result",
          "data": {
            "text/plain": [
              "['IIT Madras',\n",
              " 'Indian Institutes of Technology',\n",
              " 'Joint Entrance Examination – Advanced',\n",
              " 'Inter IIT Sports Meet',\n",
              " 'IIT Tirupati',\n",
              " 'List of IIT Madras people',\n",
              " 'IIT Palakkad',\n",
              " 'Chennai',\n",
              " 'IIT Kharagpur',\n",
              " 'History of Indian Institutes of Technology']"
            ]
          },
          "metadata": {},
          "execution_count": 66
        }
      ]
    },
    {
      "cell_type": "code",
      "source": [
        "len(s)"
      ],
      "metadata": {
        "colab": {
          "base_uri": "https://localhost:8080/"
        },
        "id": "CL_fi_GNn0EN",
        "outputId": "47d80ca7-c35c-4fb8-ac1c-738bbdc36e43"
      },
      "execution_count": null,
      "outputs": [
        {
          "output_type": "execute_result",
          "data": {
            "text/plain": [
              "2"
            ]
          },
          "metadata": {},
          "execution_count": 65
        }
      ]
    },
    {
      "cell_type": "code",
      "source": [
        "wk.search(\"IIT Madras\", results = 2)"
      ],
      "metadata": {
        "colab": {
          "base_uri": "https://localhost:8080/"
        },
        "id": "qjxf5aH6oG1A",
        "outputId": "bdc7a62e-50de-40ee-e45a-89224ec18ced"
      },
      "execution_count": null,
      "outputs": [
        {
          "output_type": "execute_result",
          "data": {
            "text/plain": [
              "['IIT Madras', 'Indian Institutes of Technology']"
            ]
          },
          "metadata": {},
          "execution_count": 67
        }
      ]
    },
    {
      "cell_type": "code",
      "source": [
        "wk.summary(\"IIT Madras\")"
      ],
      "metadata": {
        "colab": {
          "base_uri": "https://localhost:8080/",
          "height": 140
        },
        "id": "FnQC8DGloOeb",
        "outputId": "0cb862f8-eb50-4e21-930e-590ad33b19bc"
      },
      "execution_count": null,
      "outputs": [
        {
          "output_type": "execute_result",
          "data": {
            "text/plain": [
              "\"Indian Institute of Technology Madras (IIT Madras) is a public technical university located in Chennai, Tamil Nadu, India. As one of the Indian Institutes of Technology (IITs), it is recognized as an Institute of National Importance and has been consistently rated as one of India's most prestigious universities. Founded in 1959 with technical and financial assistance from the former government of West Germany, it was the third IIT established by the Government of India. IIT Madras is ranked the top engineering institute in India by the Ministry of Education's National Institutional Ranking Framework since its inception in 2016.IIT Madras is a residential institute that occupies a 2.5-square-kilometre (0.97 sq mi) campus that was formerly part of the adjoining Guindy National Park. The institute has nearly 600 faculty, 10,000 students and 1,250 administrative and supporting staff. Growing ever since it obtained its charter from the Indian Parliament in 1961, much of the campus is a protected forest, carved out of the Guindy National Park, home to large numbers of chital (spotted deer), black buck, bonnet macaque, and other rare wildlife. A natural lake, deepened in 1988 and 2003, drains most of its rainwater.\""
            ],
            "application/vnd.google.colaboratory.intrinsic+json": {
              "type": "string"
            }
          },
          "metadata": {},
          "execution_count": 68
        }
      ]
    },
    {
      "cell_type": "code",
      "source": [
        "wk.summary(\"IIT Madras\", sentences = 2)"
      ],
      "metadata": {
        "colab": {
          "base_uri": "https://localhost:8080/",
          "height": 53
        },
        "id": "Em08RrWVoWtr",
        "outputId": "7a53e799-1fc3-42a6-f48c-e1607f90b635"
      },
      "execution_count": null,
      "outputs": [
        {
          "output_type": "execute_result",
          "data": {
            "text/plain": [
              "\"Indian Institute of Technology Madras (IIT Madras) is a public technical university located in Chennai, Tamil Nadu, India. As one of the Indian Institutes of Technology (IITs), it is recognized as an Institute of National Importance and has been consistently rated as one of India's most prestigious universities.\""
            ],
            "application/vnd.google.colaboratory.intrinsic+json": {
              "type": "string"
            }
          },
          "metadata": {},
          "execution_count": 69
        }
      ]
    },
    {
      "cell_type": "code",
      "source": [
        "full_page = wk.page(\"IIT Madras\")"
      ],
      "metadata": {
        "id": "vNkJTOdQomKP"
      },
      "execution_count": null,
      "outputs": []
    },
    {
      "cell_type": "code",
      "source": [
        "print(full_page.content)"
      ],
      "metadata": {
        "colab": {
          "base_uri": "https://localhost:8080/"
        },
        "id": "NeCILeE5oxl9",
        "outputId": "e5d267fd-470f-471d-850a-b0e5ae48f3f2"
      },
      "execution_count": null,
      "outputs": [
        {
          "output_type": "stream",
          "name": "stdout",
          "text": [
            "Indian Institute of Technology Madras (IIT Madras) is a public technical university located in Chennai, Tamil Nadu, India. As one of the Indian Institutes of Technology (IITs), it is recognized as an Institute of National Importance and has been consistently rated as one of India's most prestigious universities. Founded in 1959 with technical and financial assistance from the former government of West Germany, it was the third IIT established by the Government of India. IIT Madras is ranked the top engineering institute in India by the Ministry of Education's National Institutional Ranking Framework since its inception in 2016.IIT Madras is a residential institute that occupies a 2.5-square-kilometre (0.97 sq mi) campus that was formerly part of the adjoining Guindy National Park. The institute has nearly 600 faculty, 10,000 students and 1,250 administrative and supporting staff. Growing ever since it obtained its charter from the Indian Parliament in 1961, much of the campus is a protected forest, carved out of the Guindy National Park, home to large numbers of chital (spotted deer), black buck, bonnet macaque, and other rare wildlife. A natural lake, deepened in 1988 and 2003, drains most of its rainwater.\n",
            "\n",
            "\n",
            "== History ==\n",
            "\n",
            "In 1956, the West German Government offered technical assistance for establishing an institute of higher education in engineering in India. The first Indo-German agreement was signed in Bonn, West Germany in 1959 for the establishment of the Indian Institute of Technology at Madras. IIT Madras was started with technical, academic and financial assistance from the Government of West Germany and was at the time the largest international educational project sponsored by the West German government. The Government of the Federal Republic of Germany has agreed to provide the following assistance in the establishment of a higher technological institute at Madras:\n",
            "\n",
            "A workshop, laboratory equipment, and a library whose total value does not exceed ₹1.8 crore (US$240,000).\n",
            "Twenty German professors to serve at the Institute for a period of four to five years\n",
            "Four German foremen for the workshops of the Institute for 2 years\n",
            "Facilities for the training of twenty Indian teachers in German institutionsThis has led to several collaborative research efforts with universities and institutions in Germany over the years. Although official support from the German government has ended, several research efforts involving the DAAD programme and Humboldt Fellowships still exist.\n",
            "The Higher Technological Institute at Madras known as the Indian Institute of Technology, Madras has started functioning The first batch of 120 students was admitted in July 1959 to the first year of the Engineering Course. The institute was inaugurated in 1959, by the then Union Minister for Scientific Research and Cultural Affairs. The first batch had an overall strength of 120 students from across India. In 1961, the IITs were declared to be Institutes of National Importance. The first convocation ceremony was held on 11 July 1964, with Dr. S. Radhakrishnan, then the President of India, delivering the convocation address and awarding the degrees to the inaugural batch of students. The institute got its first women students in the BTech batch of 1966. IIT Madras celebrated its Golden Jubilee in 2009, and its Diamond Jubilee in 2019.\n",
            "\n",
            "\n",
            "== Campus ==\n",
            "The main entrance of IIT Madras is on Sardar Patel Road, flanked by the residential districts of Adyar and Velachery. The campus is close to the Raj Bhavan, the official seat of the Governor of Tamil Nadu. Other entrances are located in Velachery (near Anna Garden MTC bus stop, Velachery Main Road), Gandhi Road and Taramani gate (close to Ascendas Tech Park).\n",
            "The campus is located 10 km (6.2 mi) from the Chennai Airport, 12 km (7.5 mi) from the Chennai Central Railway station, and is connected by city buses. Kasturba Nagar is the nearest station on the Chennai MRTS line.\n",
            "Two parallel roads, Bonn Avenue and Delhi Avenue, cut through the faculty residential area before they meet at the Gajendra Circle, near the Administrative Block. Buses regularly ply between the Main Gate, Gajendra Circle, the Academic Zone, and the Hostel Zone.\n",
            "\n",
            "\n",
            "=== Location in context ===\n",
            "\n",
            "\n",
            "=== Student Hostels ===\n",
            "Most students at IIT Madras reside in hostels, where extracurricular activities complement the academic routine. The campus has 20 hostels, of which four, Sharavati, Sarayu, Sabarmati and the recently constructed Tunga are exclusively for women. In earlier times, each hostel had attached dining facilities but all of them have since been closed down. Dining facilities are provided in three centralised halls: Nilgiri, Vindhya and Himalaya. Students are assigned to hostels upon matriculation, where they usually reside for the entire duration of their course of study.\n",
            "\n",
            "The halls of IITM are:\n",
            "\n",
            "Sindhu, Pampa, Mahanadhi and Tamiraparani are seven-storeyed whereas all the other hostels are three or four storeyed. These four hostels can accommodate more than 1,200 students. The older hostels were all three-storeyed till the early 2000s when extra rooms were added. An additional new floor in the three-storeyed hostels which generally house the undergraduate students and a new block in place of the mess halls of these hostels have been constructed to accommodate for the increased intake of the students. These new blocks could be used as entrances for these hostels. As of 2020, Mandakini has been demolished and a multi-storey block is under construction, with provision to accommodate approximately 1000 students.\n",
            "\n",
            "\n",
            "=== Facilities ===\n",
            "IIT Madras provides residential accommodation for its students, faculty, administrative and supporting staff, and their families. The residential houses employ private caterers. The self-contained campus includes two schools               (Vanavani and Kendriya Vidyalaya), three temples (Jalakanteshwara, Durga Peliamman and Ganapathi), three bank branches (SBI, ICICI, Canara Bank), a hospital, shopping centres, food shops, a gym, sleeping room and cricket, football, hockey and badminton stadiums. Internet is available in the academic zone and the faculty and staff residential zone. Earlier Internet was limited in hostel-zone from 2:00 pm till midnight and from 5:00 am to 8:00 am, but increasing demand during academic semester led to round-the-clock Internet service.IIT Madras also has supercomputing capability, with the IBM Virgo Super Cluster with 97 teraflops worth of computational power.\n",
            "\n",
            "\n",
            "== Organisation and administration ==\n",
            "\n",
            "\n",
            "=== Governance ===\n",
            "IIT Madras is an autonomous statutory organisation functioning within the Institutes of Technology Act. The sixteen IITs are administered centrally by the IIT Council, an apex body established by the Government of India. The Minister of Human Resources and Development is the chairman of the council. Each institute has a Board of Governors responsible for its administration and control.\n",
            "The Senate comprises all professors of the Institute and decides its academic policy. It controls and approves the curriculum, courses, examinations, and results. It appoints committees to examine specific academic matters. The Director of the institute serves as the Chairman of the Senate. The current director is Kamakoti Veezhinathan.Three Senate Sub-Committees – The Board of Academic Research, The Board of Academic Courses and The Board of Students – help in academic administration and in the operations of the institute. The Finance Committee advises on matters of financial policy, while the Building and Works Committee advises on buildings and infrastructure. The Board of Industrial Consultancy and Sponsored Research addresses industrial consultancy and the Library Advisory Committee oversees library matters.\n",
            "\n",
            "\n",
            "=== Departments ===\n",
            "Aerospace Engineering\n",
            "Applied Mechanics\n",
            "Biotechnology (Bhupat and Jyoti Mehta School of Biosciences)\n",
            "Chemical Engineering\n",
            "Chemistry\n",
            "Civil Engineering\n",
            "Computer Science and Engineering\n",
            "Electrical Engineering\n",
            "Engineering Design\n",
            "Humanities and Social Sciences\n",
            "Mechanical Engineering\n",
            "Management Studies\n",
            "Metallurgical and Materials Engineering\n",
            "Mathematics\n",
            "Ocean Engineering\n",
            "Physics\n",
            "\n",
            "\n",
            "== Academics ==\n",
            "IIT Madras offers undergraduate, postgraduate and research degrees across 16 disciplines in Engineering, Sciences, Humanities and Management. About 360 faculty belonging to science and engineering departments and centres of the Institute are engaged in teaching, research and industrial consultancy.\n",
            "The institute has 16 academic departments and advanced research centres across disciplines of engineering and pure sciences, with nearly 100 laboratories. The academic calendar is organised around the semester. Each semester provides a minimum of seventy days of instruction in English. Students are evaluated on a continuous basis throughout the semester. Evaluation is done by the faculty, a consequence of the autonomous status granted to the institute. Research work is evaluated on the basis of the review thesis by peer examiners both from within the country and abroad. Ordinances that govern the academic programme of study are prepared by the Senate, the highest academic body within the institute.\n",
            "\n",
            "\n",
            "=== Admission tests ===\n",
            "For the undergraduate curriculum, admission to the BTech and Dual Degree (BSc + MSc or BTech + MTech) programme is done through the Joint Entrance Examination – Advanced (JEE-Advanced). IIT Madras conducted JEE Advanced in 2017. Admission to the five-year integrated Master of Arts (MA) programme is through the Humanities and Social Sciences Entrance Examination (HSEE), an IIT Madras specific exam. Admissions to the online degree programme for B.Sc. in Programming and Data Science are done through a Qualifier Process which includes four weeks of instruction in Computational Thinking, Mathematics, Statistics and English.For the postgraduate curriculum, admission to the MTech and MS programmes are through the Graduate Aptitude Test in Engineering (GATE). The Joint Admission Test to MSc (JAM) is the entrance exam for the two-year MSc programme, and other post BSc programmes. MBA candidates are accepted through the Common Admission Test (CAT).\n",
            "\n",
            "\n",
            "=== Rankings ===\n",
            "Internationally, IIT Madras was ranked 255 in the QS World University Rankings of 2022. The same rankings ranked it 50 in Asia in 2021 and 17 among BRICS nations in 2019. It was ranked 701–800 in the world by the Academic Ranking of World Universities of 2021.IIT Madras also ranked first among engineering colleges by the National Institutional Ranking Framework (NIRF) in 2020 and first overall. It ranked first in Atal Rankings of Institutions on Innovation Achievements (ARIIA) for three consecutive years from 2019 to 2021.\n",
            "\n",
            "\n",
            "=== Grading System and Student Evaluation ===\n",
            "The Indian Institutes of Technology are under control of the Government of India and therefore have strict rules for grade.\n",
            "Depending on the course the evaluation is based on participation in class, attendance, quiz, exam and/or paper. Continuous evaluation is done by course instructors.\n",
            "The Evaluation System of IIT Madras which is also used in other IITs is the Cumulative Grade Point Average with a scale from 0 to 10 which is converted to letters:\n",
            "\n",
            "CGPA then gets calculated as the cumulative credit-weighted average of the grade points:\n",
            "CGPA = (Σ Ci • GPi) / (Σ Ci)\n",
            "where:\n",
            "N is the number of courses\n",
            "Ci is credits for the ith course\n",
            "GPi is grade points for the ith course\n",
            "CGPA is the cumulative grade point average\n",
            "The CGPA is not the same as the one commonly used in the United States.\n",
            "In India some credits might be awarded during Bachelor studies for Co-curricular and Extra-curricular Activities, while during the Master Programme this is not allowed.\n",
            "Through agreements with numerous international organisations, IIT grades are accepted from many international organisations like NTU, NUS and DAAD.\n",
            "Additionally, the attendance of the students is evaluated with VG for very good (always present), G for good (not present every lecture) and P for poor (student was present less than 85% of lectures).\n",
            "\n",
            "\n",
            "=== Academic research programmes ===\n",
            "The institute has departments and advanced research centres across the disciplines of engineering and the pure sciences, and nearly 100 laboratories.Research programmes concern work undertaken by faculty members or specific research groups within departments that award an MS or PhD degree. Research is carried out by scholars admitted into these departmental programmes, under the guidance of their faculty.  Each department makes known its areas of interest to the academic community through handbooks, brochures and bulletins. Topics of interest may be theoretical or experimental. IIT Madras has initiated 16 inter-disciplinary research projects against identified focus areas.\n",
            "\n",
            "\n",
            "=== Partnership with other universities ===\n",
            "The institute maintains academic friendship with educational institutes around the world through faculty exchange programmes. The institute has signed Memoranda of Understanding (MOUs) with foreign universities, resulting in cooperative projects and assignments.\n",
            "\n",
            "\n",
            "=== Industrial Consultancy and Sponsored Research ===\n",
            "Through industrial consultancy, faculty and staff undertake assignments for industry that may include project design, testing and evaluation, or training in new areas of industrial development. Industries and organisations like the Indian Ordnance Factories, reach out to the IIT faculty to undertake assignments channeled through the Centre For Industrial Consultancy and Sponsored Research (ICSR).\n",
            "National organisations sponsor programmes of research by funding projects undertaken by the faculty. Such research is time bound and allows project participants to register for a degree.  Project proposals are usually prepared by the IIT faculty and forwarded to interested organisations, based on the nature of their research and their interest to fund such projects.\n",
            "Sponsored projects are often vehicles for new resources within departments, and often permit their project staff to register for academic degrees in the institute. All sponsored research activities at the institute are coordinated by ICSR.\n",
            "Park\n",
            "The IIT Madras Research Park, the first of its kind to be established in India, functions to propel successful innovation in established companies and provide a nurturing ecosystem to startups through incubation efforts and technical infrastructure. Following its success, 50 research parks were planned as part of Start Up India initiative of the Central Government of India. Corporate clients of IIT Madras Research park include Bharat Heavy Electricals Limited, Saint-Gobain and Forbes Marshall. Ather Energy, Hyperverge and Gyandata are some of the startups incubated at the Research Park. The Research Park is primarily reason why a very large number of startups are incubated at IIT Madras.\n",
            "\n",
            "\n",
            "=== National Programme on Technology Enhanced Learning (NPTEL) ===\n",
            "To improve the quality of higher education in India, IIT Madras came up with an initiative called NPTEL (National Programme on Technology Enhanced Learning) in the year 2003. As per this initiative, all the IITs, along with the IISc Bangalore would come up with a series of video lecture based courses across all the streams of engineering. This initiative has gained wide popularity in India and the lectures are being used by several engineering students from across India. It is the Largest online repository in the world of courses in engineering, basic sciences and selected humanities and social sciences subjects.\n",
            "\n",
            "\n",
            "=== BSc Degree Programme in Programming and Data Science. ===\n",
            "The institute launched the country's first online BSc program in Programming and Data Science. The 116 credit program consists of three levels—Foundation (32 credits), Diploma (48 credits), and Degree (36 credits). The faculty of the program include Madhavan Mukund (Department of Computer Science & Engineering, Chennai Mathematical Institute), Rajesh Kumar (Professor, Department of Humanities and Social Sciences, IIT Madras), Andrew Thangaraj (Professor, Electrical Engineering Department, IIT Madras), Sudarshan Iyengar (Associate Professor, Department of Computer Science and Engineering, IIT Ropar), and several more faculty, instructors and mentors.\n",
            "\n",
            "The first batch of 8,154 students who joined the program in 2020 have brought unprecedented diversity: Prathap Haridoss, professor in charge of the online degree programme, said nearly 30% of the learners are working professionals from IT, banking, manufacturing, finance, law, healthcare, marketing and other sectors.The institute has been working with experts from NPTEL to manage the program. Instruction is via recorded videos followed by activity questions. There are at least three sessions per week for each course subject that allow students to interact, discuss and study. Weekly graded assignments, monthly quizzes and an end term final exam are used to award grades as per the IIT Grading System. The in-person quizzes and exams are conducted at the test centres across the country.\n",
            "In additional to a challenging academic curriculum, the students are encouraged to participate in various professional development, skill development and social activities organized by the institute, students and their clubs. In April 2021, the BSc program department organized the  'Cricket Hackathon 2021' for students, professionals, and data science enthusiasts. The academic competition was designed for beginners to learn and compete, as well as for professionals to showcase their capabilities in programming, data science, and analytics.\n",
            "\n",
            "\n",
            "== Student activities ==\n",
            "\n",
            "\n",
            "=== Festivals ===\n",
            "\n",
            "\n",
            "==== Shaastra ====\n",
            "\n",
            "Shaastra is the annual technical festival of IIT Madras. It is typically held in the second week of January and is the first ISO 9001:2015 certified student organised festival in the world. It is known for its organisation and activities. Forums include the symposia, workshops, video conferences, lectures, demonstrations, and technical exhibitions. Competitive activities cover design events, programming, simulations, quizzes, applied engineering, speedcubing, robotics, and junk-yard wars.\n",
            "\n",
            "\n",
            "==== Saarang ====\n",
            "\n",
            "Saarang is the annual social and cultural festival of IIT Madras. It is a five-day-long event held in early January every year and attracts a crowd of 70,000 students and young people from across the country, making it the largest student-run fest in India. Saarang events include speaking, dancing, thespian, quizzing and word games, professional shows (nicknamed proshows) and workshops on music, fashion, art, and dance.\n",
            "\n",
            "\n",
            "==== Department festivals ====\n",
            "Several departments organise department festivals. Samanvay, Biofest, ExeBit, Wavez, Mechanica, CEA Fest, ChemPlus, Amalgam and Forays are some of the festivals organised by the Department of Management Studies, Computer Science and Engineering, Ocean Engineering, Mechanical Engineering, Civil Engineering, Chemical Engineering, Metallurgical and Materials Engineering and Maths departments respectively. Department of Humanities and Social Sciences hosts Annual Academic Conference.\n",
            "\n",
            "\n",
            "=== The Entrepreneurship Cell ===\n",
            "The Entrepreneurship Cell, IITM, abbreviated as E-Cell IITM, is a student-run body responsible for promoting and inculcating a spirit of entrepreneurial thinking among both the faculty and the student fraternity of IIT Madras. E-Cell was earlier known as \"C-TIDES\", and was rechristened in 2015 along with a series of organizational changes in an effort to promote greater engagement among students.\n",
            "E-Summit is the flagship event of E-Cell and is a three-day-long event typically held in the first week of April. It includes a myriad of events and competitions, such as the Startup Boot Camp, PitchFest, the Intern Fair, a social campaign and workshops, talks and panel discussions from some of the most eminent entrepreneurs of India. Past speakers have included the likes of Ritesh Agarwal and Nandini Vaidyanathan.The second instance of E-Summit in 2017 attracted about 1,000 attendees from nearly 30 colleges and involved over 100 startups.\n",
            "\n",
            "\n",
            "=== Centre For Innovation (CFI) ===\n",
            "Centre For Innovation is a \"Student Lab\" set up in 2008.\n",
            "The annual flagship event of CFI, the \"OPEN HOUSE\" displays the innovative projects of all CFI clubs, many of which have bagged international and national honours, along with the works of the Competitive Teams.\n",
            "\n",
            "\n",
            "=== Extra Mural Lectures (EML) ===\n",
            "Launched in 1980, by a group of students with support from the then Director of IIT Madras, Late Prof. P.V. Indiresan, the main aim of the Extra Mural Lectures series is to expose the IIT Madras community to the ideas and experiences of eminent personalities from diverse backgrounds. Over the years, the likes of late former President of India A.P.J. Abdul Kalam, Nobel Laureate The 14th Dalai Lama, Nobel Peace Laureate Kailash Satyarthi, Chess Grandmaster Vishwanathan Anand, Filmmaker S.S. Rajamouli, Honorable Governor Shri. E.S.L. Narasimhan, Honorable Minister of Railways Shri. Suresh Prabhu, current Vice President of India Shri. M.Venkaiah Naidu, Music Composer Ilayaraja, co-founder of Infosys Shri. Kris Gopalakrishnan and Ambassador of Japan to India H.E. Mr. Kenji Hiramatsu have been hosted at IIT Madras for Extra Mural Lectures, to motivate the students and broaden their perspectives.\n",
            "\n",
            "\n",
            "=== Extracurricular activities ===\n",
            "\n",
            "The Sustainability Network (S-Net) is an alumni-student-faculty initiative launched in May 2009 to sensitise and highlight the need to preserve the unique niche of one of the best educational campus in India. S-Net was envisioned to work towards development and deployment of solutions for making a self-sustaining campus (focusing on energy/electricity, water, and waste management), which could eventually be replicated across the country through tie-ups with other educational institutions. \n",
            "The Fifth Estate is the official media body of IIT Madras and gives an insight into the happenings inside the campus and important news related to the institute.\n",
            "The Open Air Theatre hosts the weekly movie, a Saturday night tradition, besides other activities. It seats over 7,000.\n",
            "The National Service Scheme (NSS) in IIT Madras has been noted for taking up socially relevant initiatives, taken up as individual projects to create an impact on the society as well as the students. The wing of NSS at IITM has over 400 students every year, contributing to the cause of the scheme. Since its inception, NSS at IITM has achieved many milestones in its history as a unique, student-run organisation. Linked with several NGOs and social organisations both within and outside Chennai. By working out projects from Braille magazines to technology interventions, from teaching children in urban slums to educational video content, NSS (IITM) seeks to challenge the mediocre thinking, and reach out into the darkness, to pull a hand into the light.\n",
            "Hobby clubs include the speaking club, the astro club, dramatics, music and robotics.\n",
            "Student bodies such as Vivekananda Study Circle (VSC), Islamic Study Circle, IIT Christian Fellowship, Genesis and Reflections focus on spiritual discussions.\n",
            "The campus has evolved a slang, attracting a published Master's thesis at a German University. A mix of English, Hindi, Telugu (Gult), Malayalam (Mallu) and Tamil (Tam), aspects of the campus slang have been adopted by some other Chennai colleges.\n",
            "Unlike its sister institutions, IIT Madras has no single Indian language used among its students: Tamil, Telugu, Malayalam, Marathi, Kannada, English and Hindi are all very commonly used. Consequently, all student participatory activities like debating, dramatics, short-film making, and others are held in English.  This is even reflected in the slang that uses more of English and other Indian regional languages than Hindi, unlike in IIT-M's northern counterparts.\n",
            "\n",
            "\n",
            "=== IIT Madras Heritage Centre ===\n",
            " The Heritage Centre was formally inaugurated by Dr Arcot Ramachandran, former Director IIT Madras on 3 March 2006. The centre is located on the ground floor of the administration building. The actual idea of a Heritage Centre was mooted in the year 2000 and has become a reality due to the efforts of the Professor-in-charge Dr. Ajit Kumar Kolar and his team. The centre will function as a repository of material of heritage value and historical significance of various facets of the institute.\n",
            "The exhibits include photographs, documents, publications, paintings, portraits, products developed and other articles. Information regarding important events, laboratory development, visits of important dignitaries, Indo-German cooperative activities, and academic achievements of faculty and students also are included. Aspects of IITM campus features and development, campus life and student activities are also included, thus broadening the scope of the centre in the future to non-academic activities also.\n",
            "\n",
            "\n",
            "== Controversies ==\n",
            "Several members of the Hindu Munnani were arrested in November 2014 for organising a \"spitting protest\" outside the IIT-Madras after the institute played host to the ‘Kiss of Love’ campaign. The members of the group gathered and started spitting at the pictures of students kissing and hugging at the kiss of love campaign the past week. Additionally, they also hurled abuse at the students.\n",
            "\n",
            "\n",
            "== Notable alumni ==\n",
            "\n",
            "Arumugam Manthiram, director, Texas Materials Institute, Professor of Mechanical Engineering, University of Texas at Austin\n",
            "Anand Rajaraman, founder of Junglee; Currently Heading Kosmix.com with Venky Harinarayan\n",
            "Anant Agarwal, professor of Electrical Engineering and Computer Science at MIT\n",
            "Anima Anandkumar, Bren Professor of Computing at California Institute of Technology. She is a director of Machine Learning research at NVIDIA.\n",
            "Arun Sundararajan, professor at Stern School of Business, New York University\n",
            "Atul Chokshi, materials engineer, Shanti Swarup Bhatnagar laureate\n",
            "B. N. Suresh, director of IISST\n",
            "B. Muthuraman, managing Director of Tata Steel\n",
            "Bhaskar Ramamurthi, director, IIT Madras (2011 – 2022)\n",
            "Gururaj Deshpande, founder of Sycamore Networks\n",
            "T. V. Rajan Babu, professor of chemistry at Ohio State University\n",
            "G. K. Ananthasuresh, professor at Indian Institute of Science\n",
            "Hari Balakrishnan, Fujitsu Chair Professor in the EECS Department at MIT\n",
            "Jai Menon, IBM Fellow, CTO and VP, Technical Strategy – IBM Systems and Technology Group\n",
            "B. Jayant Baliga, inventor of the insulated gate bipolar transistor (IGBT)\n",
            "Jayaraman Chandrasekhar, computational chemist, Shanti Swarup Bhatnagar laureate\n",
            "Kris Gopalakrishnan, co-chairman and co-founder of Infosys\n",
            "Krishna Bharat, creator of Google News, principal scientist, Google\n",
            "L. Mahadevan, FRS, de Valpine Professor of Applied Mathematics, Physics and Biology, Harvard University, MacArthur Fellow 2009\n",
            "K. Mani Chandy, former chair of Engineering and Applied Science at Caltech\n",
            "Marti G. Subrahmanyam, professor of finance, Stern School of Business at New York University\n",
            "Murali Sastry, nanotechnologist, Shanti Swarup Bhatnagar laureate\n",
            "Mas Subramanian, Milton Harris Chair Professor of Materials Chemistry at Oregon State University\n",
            "Narayanan Chandrakumar, chemical physicist, Shanti Swarup Bhatnagar laureate\n",
            "Neelesh B. Mehta, communications engineer, Shanti Swarup Bhatnagar laureate\n",
            "Prabhakar Raghavan, vice president of Engineering, Google and Consulting Professor at Stanford University\n",
            "R. Prasanna, guitarist / carnatic musician\n",
            "Pinaki Majumdar, condensed matter physicist, Shanti Swarup Bhatnagar laureate\n",
            "Prem Watsa, billionaire; founder, chairman, and chief executive of Fairfax Financial Holdings, which owns BlackBerry\n",
            "Radha Vembu, co-founder, Zoho Corporation.\n",
            "Ramanathan V. Guha, inventor of RSS feed technology, computer scientist at Google; won the Distinguished Alumnus award from IIT Madras in 2013\n",
            "Ramesh Govindan, Northrop Grumman Chair in Engineering and Professor of Computer Science and Electrical Engineering at the University of Southern California; won the Distinguished Alumnus award from IIT Madras in 2014\n",
            "Raghu Ramakrishnan, technical fellow and CTO, Information Services Microsoft\n",
            "Raju Narayana Swamy, IAS Officer\n",
            "Ramayya Krishnan, dean of the Heinz College at Carnegie Mellon University\n",
            "S. Sowmya, carnatic vocalist\n",
            "Timothy A. Gonsalves, computer scientist and first Director of IIT Mandi\n",
            "Shashi Nambisan, director of the Centre for Transportation Research and Education at Iowa State University\n",
            "Sridhar Tayur, Ford Distinguished Research Chair and Professor of Operations Management at Carnegie Mellon University; founder, SmartOps and OrganJet\n",
            "Sridhar Vembu, founder and CEO of Zoho Corporation\n",
            "Subra Suresh, former president of Carnegie Mellon University, former director of the National Science Foundation, former dean of the MIT School of Engineering\n",
            "Venkat Rangan, co-founder and CTO at Clearwell Systems\n",
            "Venkatesan Guruswami, associate professor, Department of Computer Science, Carnegie Mellon University\n",
            "Venky Harinarayan, co-founder Kosmix\n",
            "Vic Gundotra, former senior vice president Google, creator of Google plus and MIT technology Review top innovators in world\n",
            "Vinay Nair, visiting professor at The Wharton School and founding principal of Ada Investments\n",
            "Viswanathan Kumaran, chemical engineer, Shanti Swarup Bhatnagar laureate\n",
            "\n",
            "\n",
            "== See also ==\n",
            "Education in India\n",
            "Institutes of National Importance\n",
            "List of institutions of higher education in India\n",
            "List of universities in India\n",
            "Vemuri Anjaneya Sarma\n",
            "\n",
            "\n",
            "== References ==\n",
            "\n",
            "\n",
            "== External links ==\n",
            "Official website\n"
          ]
        }
      ]
    },
    {
      "cell_type": "code",
      "source": [
        "full_page.url"
      ],
      "metadata": {
        "colab": {
          "base_uri": "https://localhost:8080/",
          "height": 36
        },
        "id": "drYr8ha2pHVB",
        "outputId": "c27ef668-3261-4227-81ea-a4010791b15b"
      },
      "execution_count": null,
      "outputs": [
        {
          "output_type": "execute_result",
          "data": {
            "text/plain": [
              "'https://en.wikipedia.org/wiki/IIT_Madras'"
            ],
            "application/vnd.google.colaboratory.intrinsic+json": {
              "type": "string"
            }
          },
          "metadata": {},
          "execution_count": 74
        }
      ]
    },
    {
      "cell_type": "code",
      "source": [
        "full_page.references"
      ],
      "metadata": {
        "colab": {
          "base_uri": "https://localhost:8080/"
        },
        "id": "q4ImGPtApK8k",
        "outputId": "dbd64e65-a2e1-46c5-b558-9a1bd7b234d0"
      },
      "execution_count": null,
      "outputs": [
        {
          "output_type": "execute_result",
          "data": {
            "text/plain": [
              "['http://www.businessweek.com/smallbiz/news/date/9811/e981130.htm',\n",
              " 'http://www.hindu.com/2009/02/28/stories/2009022854140500.htm',\n",
              " 'http://timesofindia.indiatimes.com/tech/tech-news/IIT-Madras-is-Indias-Stanford/articleshow/46629160.cms',\n",
              " 'http://www.shanghairanking.com/rankings/arwu/2021',\n",
              " 'http://www.thehindu.com/news/cities/chennai/a-helping-hand-to-entrepreneurship/article17856871.ece',\n",
              " 'http://www.thehindu.com/sci-tech/technology/iitm-computer-system-gets-fastest-tag/article3972727.ece',\n",
              " 'http://www.thehindubusinessline.com/news/education/esummit-at-iit-madras-starts-on-april-7/article9620678.ece',\n",
              " 'http://archiv.tu-chemnitz.de/pub/2006/0020/data/MAthesis_EvelynRichter.pdf',\n",
              " 'http://www.oeb.harvard.edu/faculty/mahadevan/mahadevan-oeb.html',\n",
              " 'http://www.csail.mit.edu/user/723',\n",
              " 'http://nms.lcs.mit.edu/~hari/',\n",
              " 'http://ccw.iitm.ac.in/?q=IITMHostels/hinfo',\n",
              " 'http://www.ecell.iitm.ac.in/e-summit/',\n",
              " 'http://nptel.iitm.ac.in/',\n",
              " 'http://nptel.iitm.ac.in/pdf/NPTEL%20Document.pdf',\n",
              " 'http://www.nss.iitm.ac.in/',\n",
              " 'http://placement.iitm.ac.in/academics.html',\n",
              " 'http://respark.iitm.ac.in/',\n",
              " 'http://t5e.iitm.ac.in/',\n",
              " 'http://t5e.iitm.ac.in/2009/12/the-snet-energy-survey-8th-nov/',\n",
              " 'http://www.iitm.ac.in/',\n",
              " 'http://www.iitm.ac.in',\n",
              " 'http://www.iitm.ac.in/The%20Institute/',\n",
              " 'http://www.iitm.ac.in/about',\n",
              " 'http://www.iitm.ac.in/aboutcampus',\n",
              " 'http://www.iitm.ac.in/admissiontests',\n",
              " 'http://www.iitsystem.ac.in/IITcouncil/council.jsp',\n",
              " 'http://nptel.ac.in/course.php',\n",
              " 'http://www.frontline.in/static/html/fl2003/stories/20030214007506500.htm',\n",
              " 'http://ofb.gov.in/download/pr/pr_dgof_interview.pdf',\n",
              " 'http://ssbprize.gov.in/Content/Detail.aspx?AID=531',\n",
              " 'http://www.hri.res.in/~pinaki/',\n",
              " 'http://www.macfound.org/site/c.lkLXJ8MQKrH/b.5458019/k.8448/L_Mahadevan.htm',\n",
              " 'http://www.shaastra.org/2013/main',\n",
              " 'http://geohack.toolforge.org/geohack.php?pagename=IIT_Madras&params=12.99151_N_80.23362_E_',\n",
              " 'http://www.worldcat.org/issn/0971-751X',\n",
              " 'http://www.worldcat.org/issn/0971-8257',\n",
              " 'https://drive.google.com/file/d/0B0cmCKgXUt7ceHZ3SUEwa2s5bTg/view',\n",
              " 'https://timesofindia.indiatimes.com/city/chennai/Its-spit-of-anger-vs-kiss-of-love-at-IIT/articleshow/45183914.cms',\n",
              " 'https://timesofindia.indiatimes.com/city/chennai/iit-madras-diamond-jubilee-celebrations-assume-global-proportions-events-to-be-held-in-83-cities/articleshow/70143608.cms',\n",
              " 'https://timesofindia.indiatimes.com/city/chennai/iit-madras-alumnus-is-now-its-new-director/articleshow/88821542.cms',\n",
              " 'https://www.livemint.com/news/india/iit-madras-raises-700-crore-as-endowment-fund-11616957609084.html',\n",
              " 'https://www.ndtv.com/education/iit-madras-to-hold-open-house-to-showcase-student-innovations-2125282',\n",
              " 'https://www.thehindu.com/education/in-1966-she-was-iit-madras-first-woman-civil-engineering-student/article28759995.ece',\n",
              " 'https://www.thehindu.com/news/cities/chennai/chen-society/golden-jubilee-of-iitms-first-batch-of-graduands/article6218293.ece',\n",
              " 'https://www.thehindu.com/news/cities/chennai/iit-madras-named-most-innovative-institute/article38067215.ece',\n",
              " 'https://www.thehindu.com/news/cities/chennai/iitm-turns-60-a-chat-with-first-batch-students/article28744533.ece',\n",
              " 'https://www.thehindu.com/news/national/tamil-nadu/over-8100-join-iit-madras-online-bsc-degree-course/article33295371.ece',\n",
              " 'https://www.thenewsminute.com/tamils/287?amp',\n",
              " 'https://www.topuniversities.com/university-rankings/asian-university-rankings/2021',\n",
              " 'https://www.topuniversities.com/university-rankings/brics-rankings/2019',\n",
              " 'https://www.topuniversities.com/university-rankings/world-university-rankings/2022',\n",
              " 'https://www.youtube.com/watch?v=5485lx6wsao',\n",
              " 'https://aleph.nkp.cz/F/?func=find-c&local_base=aut&ccl_term=ica=ko2008435605&CON_LNG=ENG',\n",
              " 'https://www.projekt-mida.de/reflexicon/indo-german-entanglements-in-science-and-technology-the-indian-institute-of-technology-madras/',\n",
              " 'https://cms.caltech.edu/people/mani',\n",
              " 'https://catalogue.bnf.fr/ark:/12148/cb12442559g',\n",
              " 'https://data.bnf.fr/ark:/12148/cb12442559g',\n",
              " 'https://www.idref.fr/033570418',\n",
              " 'https://id.loc.gov/authorities/names/n50063099',\n",
              " 'https://oir.iitm.ac.in/mou/',\n",
              " 'https://onlinedegree.iitm.ac.in/',\n",
              " 'https://onlinedegree.iitm.ac.in/admissions.html#AD2',\n",
              " 'https://onlinedegree.iitm.ac.in/course_pages/BSCCS1002.html',\n",
              " 'https://onlinedegree.iitm.ac.in/course_pages/BSCHS1001.html',\n",
              " 'https://onlinedegree.iitm.ac.in/course_pages/BSCMA1001.html#9003',\n",
              " 'https://onlinedegree.iitm.ac.in/course_pages/BSCMA1004.html',\n",
              " 'https://research.iitm.ac.in/department_list#:~:text=RESEARCH%20AREAS,-Cellular,%20Molecular%20and&text=Bioinformatics%20and%20Computational%20Biology;%20Biomedical,Molecular%20Genetics%20of%20Plant%20Development.',\n",
              " 'https://respark.iitm.ac.in/iit-madras-launches-worlds-first-ever-online-b-sc-degree-in-programming-and-data-science/',\n",
              " 'https://www.iitm.ac.in/happenings/press-releases-and-coverages/iit-madras-launches-cricket-hackathon-2021',\n",
              " 'https://www.iitm.ac.in/nirfreports/nirf2016/NIRF-Overall-FullReport.pdf',\n",
              " 'https://www.iitm.ac.in/sites/default/files/Others/annual-budget-2021-22.pdf',\n",
              " 'https://www.iitm.ac.in/the-institute/administration/academic-administration',\n",
              " 'https://nptel.ac.in/',\n",
              " 'https://www.collegesearch.in/exam/jee-advanced/article/top-10-iits-in-india-2018-29-174',\n",
              " 'https://www.ariia.gov.in/Ranking2019.html',\n",
              " 'https://eparlib.nic.in/bitstream/123456789/1530/1/lsd_02_06_02-12-1958.pdf',\n",
              " 'https://eparlib.nic.in/bitstream/123456789/1769/1/lsd_02_08_10-08-1959.pdf',\n",
              " 'https://web.archive.org/web/20060427232338/http://www.iitm.ac.in/The%20Institute/',\n",
              " 'https://web.archive.org/web/20090303061238/http://www.hindu.com/2009/02/28/stories/2009022854140500.htm',\n",
              " 'https://web.archive.org/web/20091115092457/http://www.businessweek.com/smallbiz/news/date/9811/e981130.htm',\n",
              " 'https://web.archive.org/web/20100215010549/http://archiv.tu-chemnitz.de/pub/2006/0020/data/MAthesis_EvelynRichter.pdf',\n",
              " 'https://web.archive.org/web/20120113170811/http://www.nptel.iitm.ac.in/',\n",
              " 'https://web.archive.org/web/20120227163617/http://www.oeb.harvard.edu/faculty/mahadevan/mahadevan-oeb.html',\n",
              " 'https://web.archive.org/web/20120623211803/http://www.nss.iitm.ac.in/',\n",
              " 'https://web.archive.org/web/20120904044551/http://nptel.iitm.ac.in/pdf/NPTEL%20Document.pdf',\n",
              " 'https://web.archive.org/web/20130409125154/http://placement.iitm.ac.in/academics.html',\n",
              " 'https://web.archive.org/web/20130707013747/http://t5e.iitm.ac.in/',\n",
              " 'https://web.archive.org/web/20130907050154/http://www.shaastra.org/2013/main',\n",
              " 'https://web.archive.org/web/20140810091111/http://www.iitsystem.ac.in/IITcouncil/council.jsp',\n",
              " 'https://web.archive.org/web/20141103172852/http://t5e.iitm.ac.in/2009/12/the-snet-energy-survey-8th-nov/',\n",
              " 'https://web.archive.org/web/20161128191932/http://nptel.ac.in/course.php',\n",
              " 'https://web.archive.org/web/20170704084948/http://www.ecell.iitm.ac.in/e-summit/',\n",
              " 'https://ghostarchive.org/varchive/youtube/20211107/5485lx6wsao',\n",
              " 'https://isni.org/isni/000000012314788X',\n",
              " 'https://isni.org/isni/0000000123151926',\n",
              " 'https://www.nirfindia.org/2018/EngineeringRanking.html',\n",
              " 'https://www.nirfindia.org/2019/EngineeringRanking.html',\n",
              " 'https://www.nirfindia.org/2021/EngineeringRanking.html',\n",
              " 'https://www.nirfindia.org/2021/OverallRanking.html',\n",
              " 'https://www.nobelprize.org/prizes/chemistry/2019/goodenough/lecture/',\n",
              " 'https://viaf.org/viaf/168123199',\n",
              " 'https://www.wikidata.org/wiki/Q858662#identifiers',\n",
              " 'https://www.worldcat.org/identities/lccn-n50063099/']"
            ]
          },
          "metadata": {},
          "execution_count": 76
        }
      ]
    },
    {
      "cell_type": "code",
      "source": [
        "full_page.title"
      ],
      "metadata": {
        "colab": {
          "base_uri": "https://localhost:8080/",
          "height": 36
        },
        "id": "HhdJax8rpZiu",
        "outputId": "1d77ab4e-958a-426a-eac3-3c7c12647a29"
      },
      "execution_count": null,
      "outputs": [
        {
          "output_type": "execute_result",
          "data": {
            "text/plain": [
              "'IIT Madras'"
            ],
            "application/vnd.google.colaboratory.intrinsic+json": {
              "type": "string"
            }
          },
          "metadata": {},
          "execution_count": 77
        }
      ]
    },
    {
      "cell_type": "code",
      "source": [
        "full_page.images"
      ],
      "metadata": {
        "colab": {
          "base_uri": "https://localhost:8080/"
        },
        "id": "C95kL1ySpdj-",
        "outputId": "432b4ce3-67eb-45ae-e1b5-5fb4587ff29c"
      },
      "execution_count": null,
      "outputs": [
        {
          "output_type": "execute_result",
          "data": {
            "text/plain": [
              "['https://upload.wikimedia.org/wikipedia/commons/f/f2/Blackbuck_white.jpg',\n",
              " 'https://upload.wikimedia.org/wikipedia/commons/1/1b/Brahmaputra_Hostel.jpg',\n",
              " 'https://upload.wikimedia.org/wikipedia/commons/c/c4/Deer_of_IIT_Madras_masatran_0058_0010.jpeg',\n",
              " 'https://upload.wikimedia.org/wikipedia/commons/e/e4/Godavari_Hostel_Entrance.jpg',\n",
              " 'https://upload.wikimedia.org/wikipedia/commons/0/08/Heritage_Center1.jpg',\n",
              " 'https://upload.wikimedia.org/wikipedia/commons/8/85/Pfeil_links.svg',\n",
              " 'https://upload.wikimedia.org/wikipedia/commons/7/76/Pfeil_oben.svg',\n",
              " 'https://upload.wikimedia.org/wikipedia/commons/c/c5/Pfeil_rechts.svg',\n",
              " 'https://upload.wikimedia.org/wikipedia/commons/c/c3/Pfeil_unten.svg',\n",
              " 'https://upload.wikimedia.org/wikipedia/commons/7/71/Sabarmathi_hostel2.jpg',\n",
              " 'https://upload.wikimedia.org/wikipedia/en/4/4a/Commons-logo.svg',\n",
              " 'https://upload.wikimedia.org/wikipedia/en/f/f2/Edit-clear.svg',\n",
              " 'https://upload.wikimedia.org/wikipedia/en/4/41/Flag_of_India.svg',\n",
              " 'https://upload.wikimedia.org/wikipedia/en/6/69/IIT_Madras_Logo.svg',\n",
              " 'https://upload.wikimedia.org/wikipedia/en/8/8a/OOjs_UI_icon_edit-ltr-progressive.svg',\n",
              " 'https://upload.wikimedia.org/wikipedia/en/9/99/Question_book-new.svg',\n",
              " 'https://upload.wikimedia.org/wikipedia/en/9/96/Symbol_category_class.svg']"
            ]
          },
          "metadata": {},
          "execution_count": 78
        }
      ]
    },
    {
      "cell_type": "code",
      "source": [
        "full_page_html = wk.page(\"IIT Madras\").html().encode(\"UTF-8\")"
      ],
      "metadata": {
        "id": "nAefuBW8pkf5"
      },
      "execution_count": null,
      "outputs": []
    },
    {
      "cell_type": "code",
      "source": [
        "import pandas as pd\n",
        "df = pd.read_html(full_page_html)"
      ],
      "metadata": {
        "id": "epf0bABSqRdE"
      },
      "execution_count": null,
      "outputs": []
    },
    {
      "cell_type": "code",
      "source": [
        "df"
      ],
      "metadata": {
        "colab": {
          "base_uri": "https://localhost:8080/"
        },
        "id": "0u49cQP2qjmv",
        "outputId": "b3cb6316-8641-45da-8556-fd6036e31051"
      },
      "execution_count": null,
      "outputs": [
        {
          "output_type": "execute_result",
          "data": {
            "text/plain": [
              "[                           0  \\\n",
              " 0   Emblem of the IIT Madras   \n",
              " 1                      Motto   \n",
              " 2           Motto in English   \n",
              " 3                       Type   \n",
              " 4                Established   \n",
              " 5                  Endowment   \n",
              " 6                     Budget   \n",
              " 7                   Chairman   \n",
              " 8                       Dean   \n",
              " 9                   Director   \n",
              " 10            Academic staff   \n",
              " 11                  Students   \n",
              " 12            Undergraduates   \n",
              " 13             Postgraduates   \n",
              " 14         Doctoral students   \n",
              " 15                  Location   \n",
              " 16                    Campus   \n",
              " 17                    Colors   \n",
              " 18                  Nickname   \n",
              " 19                   Website   \n",
              " \n",
              "                                                     1  \n",
              " 0                            Emblem of the IIT Madras  \n",
              " 1   à¤¸à¤¿à¤¦à¥à¤§à¤¿à¤°à¥à¤­à¤µà¤¤à¤¿ à¤à¤°à¥...  \n",
              " 2                    Success is born out of action[1]  \n",
              " 3                         Public technical university  \n",
              " 4                                  1959; 63 years ago  \n",
              " 5          â¹700 crore (2021) (US$ 93.26 million)[2]  \n",
              " 6      â¹996 crore (US$130 million) (2021â2022)[3]  \n",
              " 7                                  Pawan Kumar Goenka  \n",
              " 8   Pratap Hairdoss, Koshy Varghese, Ligy Philip, ...  \n",
              " 9                               Kamakoti Veezhinathan  \n",
              " 10                                             599[5]  \n",
              " 11                                           8,922[5]  \n",
              " 12                                           3,958[5]  \n",
              " 13                                           2,493[5]  \n",
              " 14                                           2,471[5]  \n",
              " 15  Chennai, Tamil Nadu, 600036, India.mw-parser-o...  \n",
              " 16                           Urban620 acres (2.5 km2)  \n",
              " 17  .mw-parser-output .legend{page-break-inside:av...  \n",
              " 18                                  IITians, IITMians  \n",
              " 19                                     www.iitm.ac.in  ,\n",
              "                                     Areas of Chennai  \\\n",
              " 0  Guindy National Park Adyar Besant Nagar Guindy...   \n",
              " 1                               Guindy National Park   \n",
              " 2                                                NaN   \n",
              " 3                               Guindy National Park   \n",
              " 4                                                NaN   \n",
              " 5                                          Velachery   \n",
              " \n",
              "                                   Areas of Chennai.1     Unnamed: 2  \n",
              " 0  Guindy National Park Adyar Besant Nagar Guindy...            NaN  \n",
              " 1                                              Adyar   Besant Nagar  \n",
              " 2                                                NaN            NaN  \n",
              " 3                                         IIT Madras  Thiruvanmiyur  \n",
              " 4                                                NaN            NaN  \n",
              " 5                                           Taramani       Taramani  ,\n",
              "                       0           1              2\n",
              " 0  Guindy National Park       Adyar   Besant Nagar\n",
              " 1                   NaN         NaN            NaN\n",
              " 2  Guindy National Park  IIT Madras  Thiruvanmiyur\n",
              " 3                   NaN         NaN            NaN\n",
              " 4             Velachery    Taramani       Taramani,\n",
              "   Boys' Hostels Boys' Hostels.1 Boys' Hostels.2 Boys' Hostels.3  \\\n",
              " 0    Alakananda          Bhadra     Brahmaputra         Cauvery   \n",
              " 1         Ganga        Godavari          Jamuna         Krishna   \n",
              " 2     Mahanadhi       Mandakini         Narmada           Pampa   \n",
              " 3    Saraswathi          Sindhu     Tamraparani           Tapti   \n",
              " 4     Mandakini  Girls' hostels  Girls' hostels  Girls' hostels   \n",
              " 5     Sabarmati          Sarayu      Sharavathi           Tunga   \n",
              " \n",
              "        Unnamed: 4  \n",
              " 0             NaN  \n",
              " 1             NaN  \n",
              " 2             NaN  \n",
              " 3             NaN  \n",
              " 4  Girls' hostels  \n",
              " 5             NaN  ,\n",
              "     0                                                  1\n",
              " 0 NaN  This section needs additional citations for ve...,\n",
              "   University and college rankings                            \n",
              "         General â international General â international.1\n",
              " 0                 ARWU (2021)[28]                     701-800\n",
              " 1           QS (World) (2022)[29]                         255\n",
              " 2            QS (Asia) (2021)[30]                          50\n",
              " 3           QS (BRICS) (2019)[31]                          17\n",
              " 4               General â India           General â India\n",
              " 5       NIRF (Overall) (2021)[32]                           1\n",
              " 6           Engineering â India       Engineering â India\n",
              " 7                 NIRF (2021)[33]                           1,\n",
              "   Letter Grade  Grade Points                                    in Words\n",
              " 0            S            10     Excellent (top students/high performer)\n",
              " 1            A             9                                   Very Good\n",
              " 2            B             8                                        Good\n",
              " 3            C             7                           Satisfactory Work\n",
              " 4            D             6                               Below Average\n",
              " 5            E             4                           Poor (but passed)\n",
              " 6            U             0                                      Failed\n",
              " 7            W             0  Shortage of attendance (usually below 85%),\n",
              "                      Fest name                               Department\n",
              " 0                    Aero fest                    Aerospace Engineering\n",
              " 1                     ElecFest                   Electrical Engineering\n",
              " 2                     Samanvay         Department of Management Studies\n",
              " 3                      Biofest                            Biotechnology\n",
              " 4                       ExeBit         Computer Science and Engineering\n",
              " 5                      Amalgam  Metallurgical and Materials Engineering\n",
              " 6                     CEA Fest                        Civil Engineering\n",
              " 7                     Chemplus                     Chemical Engineering\n",
              " 8                       Forays                              Mathematics\n",
              " 9                    Mechanica                   Mechanical Engineering\n",
              " 10                       Wavez                        Ocean Engineering\n",
              " 11  Annual Academic Conference           Humanities and Social Sciences\n",
              " 12                    Bhoutics                                  Physics\n",
              " 13                        CiHS                                Chemistry,\n",
              "     0                                                  1\n",
              " 0 NaN  This article's list of alumni may not follow W...,\n",
              "     0                                                  1\n",
              " 0 NaN  Wikimedia Commons has media related to IIT Mad...,\n",
              "    .mw-parser-output .navbar{display:inline;font-size:88%;font-weight:normal}.mw-parser-output .navbar-collapse{float:left;text-align:left}.mw-parser-output .navbar-boxtext{word-spacing:0}.mw-parser-output .navbar ul{display:inline-block;white-space:nowrap;line-height:inherit}.mw-parser-output .navbar-brackets::before{margin-right:-0.125em;content:\"[ \"}.mw-parser-output .navbar-brackets::after{margin-left:-0.125em;content:\" ]\"}.mw-parser-output .navbar li{word-spacing:-0.125em}.mw-parser-output .navbar a>span,.mw-parser-output .navbar a>abbr{text-decoration:inherit}.mw-parser-output .navbar-mini abbr{font-variant:small-caps;border-bottom:none;text-decoration:none;cursor:inherit}.mw-parser-output .navbar-ct-full{font-size:114%;margin:0 7em}.mw-parser-output .navbar-ct-mini{font-size:114%;margin:0 4em}vteIndian Institutes of Technology (IITs)  \\\n",
              " 0                                     History of IITs                                                                                                                                                                                                                                                                                                                                                                                                                                                                                                                                                                                                                                                                                                                                                                                                                                  \n",
              " 1                                          Institutes                                                                                                                                                                                                                                                                                                                                                                                                                                                                                                                                                                                                                                                                                                                                                                                                                                  \n",
              " 2                               Schools of Management                                                                                                                                                                                                                                                                                                                                                                                                                                                                                                                                                                                                                                                                                                                                                                                                                                  \n",
              " 3                                          Admissions                                                                                                                                                                                                                                                                                                                                                                                                                                                                                                                                                                                                                                                                                                                                                                                                                                  \n",
              " 4                                               Fests                                                                                                                                                                                                                                                                                                                                                                                                                                                                                                                                                                                                                                                                                                                                                                                                                                  \n",
              " 5                                      Cultural fests                                                                                                                                                                                                                                                                                                                                                                                                                                                                                                                                                                                                                                                                                                                                                                                                                                  \n",
              " 6                                     Technical fests                                                                                                                                                                                                                                                                                                                                                                                                                                                                                                                                                                                                                                                                                                                                                                                                                                  \n",
              " 7                                        Sports fests                                                                                                                                                                                                                                                                                                                                                                                                                                                                                                                                                                                                                                                                                                                                                                                                                                  \n",
              " 8                                      Notable alumni                                                                                                                                                                                                                                                                                                                                                                                                                                                                                                                                                                                                                                                                                                                                                                                                                                  \n",
              " 9                                        Legal status                                                                                                                                                                                                                                                                                                                                                                                                                                                                                                                                                                                                                                                                                                                                                                                                                                  \n",
              " 10                                   Related subjects                                                                                                                                                                                                                                                                                                                                                                                                                                                                                                                                                                                                                                                                                                                                                                                                                                  \n",
              " 11                                  Category  Commons                                                                                                                                                                                                                                                                                                                                                                                                                                                                                                                                                                                                                                                                                                                                                                                                                                  \n",
              " \n",
              "    .mw-parser-output .navbar{display:inline;font-size:88%;font-weight:normal}.mw-parser-output .navbar-collapse{float:left;text-align:left}.mw-parser-output .navbar-boxtext{word-spacing:0}.mw-parser-output .navbar ul{display:inline-block;white-space:nowrap;line-height:inherit}.mw-parser-output .navbar-brackets::before{margin-right:-0.125em;content:\"[ \"}.mw-parser-output .navbar-brackets::after{margin-left:-0.125em;content:\" ]\"}.mw-parser-output .navbar li{word-spacing:-0.125em}.mw-parser-output .navbar a>span,.mw-parser-output .navbar a>abbr{text-decoration:inherit}.mw-parser-output .navbar-mini abbr{font-variant:small-caps;border-bottom:none;text-decoration:none;cursor:inherit}.mw-parser-output .navbar-ct-full{font-size:114%;margin:0 7em}.mw-parser-output .navbar-ct-mini{font-size:114%;margin:0 4em}vteIndian Institutes of Technology (IITs).1  \n",
              " 0                                     History of IITs                                                                                                                                                                                                                                                                                                                                                                                                                                                                                                                                                                                                                                                                                                                                                                                                                                   \n",
              " 1   Bhilai Bhubaneswar Bombay Dharwad Delhi Dhanba...                                                                                                                                                                                                                                                                                                                                                                                                                                                                                                                                                                                                                                                                                                                                                                                                                                   \n",
              " 2   Department of Industrial and Management Engine...                                                                                                                                                                                                                                                                                                                                                                                                                                                                                                                                                                                                                                                                                                                                                                                                                                   \n",
              " 3   Joint Entrance Examination â Advanced Gradua...                                                                                                                                                                                                                                                                                                                                                                                                                                                                                                                                                                                                                                                                                                                                                                                                                                   \n",
              " 4   Cultural fests Alcheringa Alma Fiesta Antaragn...                                                                                                                                                                                                                                                                                                                                                                                                                                                                                                                                                                                                                                                                                                                                                                                                                                   \n",
              " 5   Alcheringa Alma Fiesta Antaragni Anwesha Exodi...                                                                                                                                                                                                                                                                                                                                                                                                                                                                                                                                                                                                                                                                                                                                                                                                                                   \n",
              " 6   Cognizance Kshitij Shaastra Techfest Techkriti...                                                                                                                                                                                                                                                                                                                                                                                                                                                                                                                                                                                                                                                                                                                                                                                                                                   \n",
              " 7   Infinito Aavhan Agrata Udghosh Sportech Shaury...                                                                                                                                                                                                                                                                                                                                                                                                                                                                                                                                                                                                                                                                                                                                                                                                                                   \n",
              " 8   IIT Bombay IIT Delhi IIT Kanpur IIT Kharagpur ...                                                                                                                                                                                                                                                                                                                                                                                                                                                                                                                                                                                                                                                                                                                                                                                                                                   \n",
              " 9   Institutes of Technology Act, 1961 Institutes ...                                                                                                                                                                                                                                                                                                                                                                                                                                                                                                                                                                                                                                                                                                                                                                                                                                   \n",
              " 10  AIIMSs IIITs IIMs IISc IISERs NITs NIPERs SPAs...                                                                                                                                                                                                                                                                                                                                                                                                                                                                                                                                                                                                                                                                                                                                                                                                                                   \n",
              " 11                                  Category  Commons                                                                                                                                                                                                                                                                                                                                                                                                                                                                                                                                                                                                                                                                                                                                                                                                                                   ,\n",
              "                  0                                                  1\n",
              " 0   Cultural fests  Alcheringa Alma Fiesta Antaragni Anwesha Exodi...\n",
              " 1  Technical fests  Cognizance Kshitij Shaastra Techfest Techkriti...\n",
              " 2     Sports fests  Infinito Aavhan Agrata Udghosh Sportech Shaury...,\n",
              "                       vteEducation in Tamil Nadu  \\\n",
              " 0              Institutes of National Importance   \n",
              " 1                           Central universities   \n",
              " 2                             State universities   \n",
              " 3                            Deemed universities   \n",
              " 4  List of educational institutions by districts   \n",
              " 5                                   India portal   \n",
              " \n",
              "                         vteEducation in Tamil Nadu.1  \n",
              " 0  Dakshina Bharat Hindi Prachar Sabha IIIT Tiruc...  \n",
              " 1  Central University of Tamil Nadu Indian Mariti...  \n",
              " 2  Alagappa University Anna University Annamalai ...  \n",
              " 3  Academy of Maritime Education and Training Amr...  \n",
              " 4  Chennai Coimbatore Cuddalore Dharmapuri Erode ...  \n",
              " 5                                       India portal  ,\n",
              "                       vtePort-City University League  \\\n",
              " 0  Brazil USP Canada UBC China DUT SJTU SDU Egypt...   \n",
              " \n",
              "                     vtePort-City University League.1  \n",
              " 0  Brazil USP Canada UBC China DUT SJTU SDU Egypt...  ,\n",
              "     Authority control                         Authority control.1\n",
              " 0             General                    ISNI 1 2 VIAF 1 WorldCat\n",
              " 1  National libraries  France (data) United States Czech Republic\n",
              " 2               Other                            SUDOC (France) 1]"
            ]
          },
          "metadata": {},
          "execution_count": 89
        }
      ]
    },
    {
      "cell_type": "code",
      "source": [
        "df[1]"
      ],
      "metadata": {
        "colab": {
          "base_uri": "https://localhost:8080/",
          "height": 237
        },
        "id": "NclQ57Bvq17i",
        "outputId": "93652d79-5292-48db-9584-23d4ca249edb"
      },
      "execution_count": null,
      "outputs": [
        {
          "output_type": "execute_result",
          "data": {
            "text/plain": [
              "                                    Areas of Chennai  \\\n",
              "0  Guindy National Park Adyar Besant Nagar Guindy...   \n",
              "1                               Guindy National Park   \n",
              "2                                                NaN   \n",
              "3                               Guindy National Park   \n",
              "4                                                NaN   \n",
              "5                                          Velachery   \n",
              "\n",
              "                                  Areas of Chennai.1     Unnamed: 2  \n",
              "0  Guindy National Park Adyar Besant Nagar Guindy...            NaN  \n",
              "1                                              Adyar   Besant Nagar  \n",
              "2                                                NaN            NaN  \n",
              "3                                         IIT Madras  Thiruvanmiyur  \n",
              "4                                                NaN            NaN  \n",
              "5                                           Taramani       Taramani  "
            ],
            "text/html": [
              "\n",
              "  <div id=\"df-310f4790-306e-46ca-84c6-c8872ae2e22d\">\n",
              "    <div class=\"colab-df-container\">\n",
              "      <div>\n",
              "<style scoped>\n",
              "    .dataframe tbody tr th:only-of-type {\n",
              "        vertical-align: middle;\n",
              "    }\n",
              "\n",
              "    .dataframe tbody tr th {\n",
              "        vertical-align: top;\n",
              "    }\n",
              "\n",
              "    .dataframe thead th {\n",
              "        text-align: right;\n",
              "    }\n",
              "</style>\n",
              "<table border=\"1\" class=\"dataframe\">\n",
              "  <thead>\n",
              "    <tr style=\"text-align: right;\">\n",
              "      <th></th>\n",
              "      <th>Areas of Chennai</th>\n",
              "      <th>Areas of Chennai.1</th>\n",
              "      <th>Unnamed: 2</th>\n",
              "    </tr>\n",
              "  </thead>\n",
              "  <tbody>\n",
              "    <tr>\n",
              "      <th>0</th>\n",
              "      <td>Guindy National Park Adyar Besant Nagar Guindy...</td>\n",
              "      <td>Guindy National Park Adyar Besant Nagar Guindy...</td>\n",
              "      <td>NaN</td>\n",
              "    </tr>\n",
              "    <tr>\n",
              "      <th>1</th>\n",
              "      <td>Guindy National Park</td>\n",
              "      <td>Adyar</td>\n",
              "      <td>Besant Nagar</td>\n",
              "    </tr>\n",
              "    <tr>\n",
              "      <th>2</th>\n",
              "      <td>NaN</td>\n",
              "      <td>NaN</td>\n",
              "      <td>NaN</td>\n",
              "    </tr>\n",
              "    <tr>\n",
              "      <th>3</th>\n",
              "      <td>Guindy National Park</td>\n",
              "      <td>IIT Madras</td>\n",
              "      <td>Thiruvanmiyur</td>\n",
              "    </tr>\n",
              "    <tr>\n",
              "      <th>4</th>\n",
              "      <td>NaN</td>\n",
              "      <td>NaN</td>\n",
              "      <td>NaN</td>\n",
              "    </tr>\n",
              "    <tr>\n",
              "      <th>5</th>\n",
              "      <td>Velachery</td>\n",
              "      <td>Taramani</td>\n",
              "      <td>Taramani</td>\n",
              "    </tr>\n",
              "  </tbody>\n",
              "</table>\n",
              "</div>\n",
              "      <button class=\"colab-df-convert\" onclick=\"convertToInteractive('df-310f4790-306e-46ca-84c6-c8872ae2e22d')\"\n",
              "              title=\"Convert this dataframe to an interactive table.\"\n",
              "              style=\"display:none;\">\n",
              "        \n",
              "  <svg xmlns=\"http://www.w3.org/2000/svg\" height=\"24px\"viewBox=\"0 0 24 24\"\n",
              "       width=\"24px\">\n",
              "    <path d=\"M0 0h24v24H0V0z\" fill=\"none\"/>\n",
              "    <path d=\"M18.56 5.44l.94 2.06.94-2.06 2.06-.94-2.06-.94-.94-2.06-.94 2.06-2.06.94zm-11 1L8.5 8.5l.94-2.06 2.06-.94-2.06-.94L8.5 2.5l-.94 2.06-2.06.94zm10 10l.94 2.06.94-2.06 2.06-.94-2.06-.94-.94-2.06-.94 2.06-2.06.94z\"/><path d=\"M17.41 7.96l-1.37-1.37c-.4-.4-.92-.59-1.43-.59-.52 0-1.04.2-1.43.59L10.3 9.45l-7.72 7.72c-.78.78-.78 2.05 0 2.83L4 21.41c.39.39.9.59 1.41.59.51 0 1.02-.2 1.41-.59l7.78-7.78 2.81-2.81c.8-.78.8-2.07 0-2.86zM5.41 20L4 18.59l7.72-7.72 1.47 1.35L5.41 20z\"/>\n",
              "  </svg>\n",
              "      </button>\n",
              "      \n",
              "  <style>\n",
              "    .colab-df-container {\n",
              "      display:flex;\n",
              "      flex-wrap:wrap;\n",
              "      gap: 12px;\n",
              "    }\n",
              "\n",
              "    .colab-df-convert {\n",
              "      background-color: #E8F0FE;\n",
              "      border: none;\n",
              "      border-radius: 50%;\n",
              "      cursor: pointer;\n",
              "      display: none;\n",
              "      fill: #1967D2;\n",
              "      height: 32px;\n",
              "      padding: 0 0 0 0;\n",
              "      width: 32px;\n",
              "    }\n",
              "\n",
              "    .colab-df-convert:hover {\n",
              "      background-color: #E2EBFA;\n",
              "      box-shadow: 0px 1px 2px rgba(60, 64, 67, 0.3), 0px 1px 3px 1px rgba(60, 64, 67, 0.15);\n",
              "      fill: #174EA6;\n",
              "    }\n",
              "\n",
              "    [theme=dark] .colab-df-convert {\n",
              "      background-color: #3B4455;\n",
              "      fill: #D2E3FC;\n",
              "    }\n",
              "\n",
              "    [theme=dark] .colab-df-convert:hover {\n",
              "      background-color: #434B5C;\n",
              "      box-shadow: 0px 1px 3px 1px rgba(0, 0, 0, 0.15);\n",
              "      filter: drop-shadow(0px 1px 2px rgba(0, 0, 0, 0.3));\n",
              "      fill: #FFFFFF;\n",
              "    }\n",
              "  </style>\n",
              "\n",
              "      <script>\n",
              "        const buttonEl =\n",
              "          document.querySelector('#df-310f4790-306e-46ca-84c6-c8872ae2e22d button.colab-df-convert');\n",
              "        buttonEl.style.display =\n",
              "          google.colab.kernel.accessAllowed ? 'block' : 'none';\n",
              "\n",
              "        async function convertToInteractive(key) {\n",
              "          const element = document.querySelector('#df-310f4790-306e-46ca-84c6-c8872ae2e22d');\n",
              "          const dataTable =\n",
              "            await google.colab.kernel.invokeFunction('convertToInteractive',\n",
              "                                                     [key], {});\n",
              "          if (!dataTable) return;\n",
              "\n",
              "          const docLinkHtml = 'Like what you see? Visit the ' +\n",
              "            '<a target=\"_blank\" href=https://colab.research.google.com/notebooks/data_table.ipynb>data table notebook</a>'\n",
              "            + ' to learn more about interactive tables.';\n",
              "          element.innerHTML = '';\n",
              "          dataTable['output_type'] = 'display_data';\n",
              "          await google.colab.output.renderOutput(dataTable, element);\n",
              "          const docLink = document.createElement('div');\n",
              "          docLink.innerHTML = docLinkHtml;\n",
              "          element.appendChild(docLink);\n",
              "        }\n",
              "      </script>\n",
              "    </div>\n",
              "  </div>\n",
              "  "
            ]
          },
          "metadata": {},
          "execution_count": 91
        }
      ]
    },
    {
      "cell_type": "code",
      "source": [
        "df[2]"
      ],
      "metadata": {
        "colab": {
          "base_uri": "https://localhost:8080/",
          "height": 206
        },
        "id": "jACo5XeOq6Er",
        "outputId": "ebeb78a0-c4a7-4141-e2b1-72c35a33c90b"
      },
      "execution_count": null,
      "outputs": [
        {
          "output_type": "execute_result",
          "data": {
            "text/plain": [
              "                      0           1              2\n",
              "0  Guindy National Park       Adyar   Besant Nagar\n",
              "1                   NaN         NaN            NaN\n",
              "2  Guindy National Park  IIT Madras  Thiruvanmiyur\n",
              "3                   NaN         NaN            NaN\n",
              "4             Velachery    Taramani       Taramani"
            ],
            "text/html": [
              "\n",
              "  <div id=\"df-6bb57b0b-7606-4356-bf2f-9ad94e1de6ca\">\n",
              "    <div class=\"colab-df-container\">\n",
              "      <div>\n",
              "<style scoped>\n",
              "    .dataframe tbody tr th:only-of-type {\n",
              "        vertical-align: middle;\n",
              "    }\n",
              "\n",
              "    .dataframe tbody tr th {\n",
              "        vertical-align: top;\n",
              "    }\n",
              "\n",
              "    .dataframe thead th {\n",
              "        text-align: right;\n",
              "    }\n",
              "</style>\n",
              "<table border=\"1\" class=\"dataframe\">\n",
              "  <thead>\n",
              "    <tr style=\"text-align: right;\">\n",
              "      <th></th>\n",
              "      <th>0</th>\n",
              "      <th>1</th>\n",
              "      <th>2</th>\n",
              "    </tr>\n",
              "  </thead>\n",
              "  <tbody>\n",
              "    <tr>\n",
              "      <th>0</th>\n",
              "      <td>Guindy National Park</td>\n",
              "      <td>Adyar</td>\n",
              "      <td>Besant Nagar</td>\n",
              "    </tr>\n",
              "    <tr>\n",
              "      <th>1</th>\n",
              "      <td>NaN</td>\n",
              "      <td>NaN</td>\n",
              "      <td>NaN</td>\n",
              "    </tr>\n",
              "    <tr>\n",
              "      <th>2</th>\n",
              "      <td>Guindy National Park</td>\n",
              "      <td>IIT Madras</td>\n",
              "      <td>Thiruvanmiyur</td>\n",
              "    </tr>\n",
              "    <tr>\n",
              "      <th>3</th>\n",
              "      <td>NaN</td>\n",
              "      <td>NaN</td>\n",
              "      <td>NaN</td>\n",
              "    </tr>\n",
              "    <tr>\n",
              "      <th>4</th>\n",
              "      <td>Velachery</td>\n",
              "      <td>Taramani</td>\n",
              "      <td>Taramani</td>\n",
              "    </tr>\n",
              "  </tbody>\n",
              "</table>\n",
              "</div>\n",
              "      <button class=\"colab-df-convert\" onclick=\"convertToInteractive('df-6bb57b0b-7606-4356-bf2f-9ad94e1de6ca')\"\n",
              "              title=\"Convert this dataframe to an interactive table.\"\n",
              "              style=\"display:none;\">\n",
              "        \n",
              "  <svg xmlns=\"http://www.w3.org/2000/svg\" height=\"24px\"viewBox=\"0 0 24 24\"\n",
              "       width=\"24px\">\n",
              "    <path d=\"M0 0h24v24H0V0z\" fill=\"none\"/>\n",
              "    <path d=\"M18.56 5.44l.94 2.06.94-2.06 2.06-.94-2.06-.94-.94-2.06-.94 2.06-2.06.94zm-11 1L8.5 8.5l.94-2.06 2.06-.94-2.06-.94L8.5 2.5l-.94 2.06-2.06.94zm10 10l.94 2.06.94-2.06 2.06-.94-2.06-.94-.94-2.06-.94 2.06-2.06.94z\"/><path d=\"M17.41 7.96l-1.37-1.37c-.4-.4-.92-.59-1.43-.59-.52 0-1.04.2-1.43.59L10.3 9.45l-7.72 7.72c-.78.78-.78 2.05 0 2.83L4 21.41c.39.39.9.59 1.41.59.51 0 1.02-.2 1.41-.59l7.78-7.78 2.81-2.81c.8-.78.8-2.07 0-2.86zM5.41 20L4 18.59l7.72-7.72 1.47 1.35L5.41 20z\"/>\n",
              "  </svg>\n",
              "      </button>\n",
              "      \n",
              "  <style>\n",
              "    .colab-df-container {\n",
              "      display:flex;\n",
              "      flex-wrap:wrap;\n",
              "      gap: 12px;\n",
              "    }\n",
              "\n",
              "    .colab-df-convert {\n",
              "      background-color: #E8F0FE;\n",
              "      border: none;\n",
              "      border-radius: 50%;\n",
              "      cursor: pointer;\n",
              "      display: none;\n",
              "      fill: #1967D2;\n",
              "      height: 32px;\n",
              "      padding: 0 0 0 0;\n",
              "      width: 32px;\n",
              "    }\n",
              "\n",
              "    .colab-df-convert:hover {\n",
              "      background-color: #E2EBFA;\n",
              "      box-shadow: 0px 1px 2px rgba(60, 64, 67, 0.3), 0px 1px 3px 1px rgba(60, 64, 67, 0.15);\n",
              "      fill: #174EA6;\n",
              "    }\n",
              "\n",
              "    [theme=dark] .colab-df-convert {\n",
              "      background-color: #3B4455;\n",
              "      fill: #D2E3FC;\n",
              "    }\n",
              "\n",
              "    [theme=dark] .colab-df-convert:hover {\n",
              "      background-color: #434B5C;\n",
              "      box-shadow: 0px 1px 3px 1px rgba(0, 0, 0, 0.15);\n",
              "      filter: drop-shadow(0px 1px 2px rgba(0, 0, 0, 0.3));\n",
              "      fill: #FFFFFF;\n",
              "    }\n",
              "  </style>\n",
              "\n",
              "      <script>\n",
              "        const buttonEl =\n",
              "          document.querySelector('#df-6bb57b0b-7606-4356-bf2f-9ad94e1de6ca button.colab-df-convert');\n",
              "        buttonEl.style.display =\n",
              "          google.colab.kernel.accessAllowed ? 'block' : 'none';\n",
              "\n",
              "        async function convertToInteractive(key) {\n",
              "          const element = document.querySelector('#df-6bb57b0b-7606-4356-bf2f-9ad94e1de6ca');\n",
              "          const dataTable =\n",
              "            await google.colab.kernel.invokeFunction('convertToInteractive',\n",
              "                                                     [key], {});\n",
              "          if (!dataTable) return;\n",
              "\n",
              "          const docLinkHtml = 'Like what you see? Visit the ' +\n",
              "            '<a target=\"_blank\" href=https://colab.research.google.com/notebooks/data_table.ipynb>data table notebook</a>'\n",
              "            + ' to learn more about interactive tables.';\n",
              "          element.innerHTML = '';\n",
              "          dataTable['output_type'] = 'display_data';\n",
              "          await google.colab.output.renderOutput(dataTable, element);\n",
              "          const docLink = document.createElement('div');\n",
              "          docLink.innerHTML = docLinkHtml;\n",
              "          element.appendChild(docLink);\n",
              "        }\n",
              "      </script>\n",
              "    </div>\n",
              "  </div>\n",
              "  "
            ]
          },
          "metadata": {},
          "execution_count": 92
        }
      ]
    },
    {
      "cell_type": "code",
      "source": [
        "df[3]"
      ],
      "metadata": {
        "colab": {
          "base_uri": "https://localhost:8080/",
          "height": 237
        },
        "id": "KoVgBkzYq_wE",
        "outputId": "b28336f9-f220-467a-b170-4ce5b52d16bf"
      },
      "execution_count": null,
      "outputs": [
        {
          "output_type": "execute_result",
          "data": {
            "text/plain": [
              "  Boys' Hostels Boys' Hostels.1 Boys' Hostels.2 Boys' Hostels.3  \\\n",
              "0    Alakananda          Bhadra     Brahmaputra         Cauvery   \n",
              "1         Ganga        Godavari          Jamuna         Krishna   \n",
              "2     Mahanadhi       Mandakini         Narmada           Pampa   \n",
              "3    Saraswathi          Sindhu     Tamraparani           Tapti   \n",
              "4     Mandakini  Girls' hostels  Girls' hostels  Girls' hostels   \n",
              "5     Sabarmati          Sarayu      Sharavathi           Tunga   \n",
              "\n",
              "       Unnamed: 4  \n",
              "0             NaN  \n",
              "1             NaN  \n",
              "2             NaN  \n",
              "3             NaN  \n",
              "4  Girls' hostels  \n",
              "5             NaN  "
            ],
            "text/html": [
              "\n",
              "  <div id=\"df-b9c8b76f-5cb7-4526-a1e5-c526d16657c9\">\n",
              "    <div class=\"colab-df-container\">\n",
              "      <div>\n",
              "<style scoped>\n",
              "    .dataframe tbody tr th:only-of-type {\n",
              "        vertical-align: middle;\n",
              "    }\n",
              "\n",
              "    .dataframe tbody tr th {\n",
              "        vertical-align: top;\n",
              "    }\n",
              "\n",
              "    .dataframe thead th {\n",
              "        text-align: right;\n",
              "    }\n",
              "</style>\n",
              "<table border=\"1\" class=\"dataframe\">\n",
              "  <thead>\n",
              "    <tr style=\"text-align: right;\">\n",
              "      <th></th>\n",
              "      <th>Boys' Hostels</th>\n",
              "      <th>Boys' Hostels.1</th>\n",
              "      <th>Boys' Hostels.2</th>\n",
              "      <th>Boys' Hostels.3</th>\n",
              "      <th>Unnamed: 4</th>\n",
              "    </tr>\n",
              "  </thead>\n",
              "  <tbody>\n",
              "    <tr>\n",
              "      <th>0</th>\n",
              "      <td>Alakananda</td>\n",
              "      <td>Bhadra</td>\n",
              "      <td>Brahmaputra</td>\n",
              "      <td>Cauvery</td>\n",
              "      <td>NaN</td>\n",
              "    </tr>\n",
              "    <tr>\n",
              "      <th>1</th>\n",
              "      <td>Ganga</td>\n",
              "      <td>Godavari</td>\n",
              "      <td>Jamuna</td>\n",
              "      <td>Krishna</td>\n",
              "      <td>NaN</td>\n",
              "    </tr>\n",
              "    <tr>\n",
              "      <th>2</th>\n",
              "      <td>Mahanadhi</td>\n",
              "      <td>Mandakini</td>\n",
              "      <td>Narmada</td>\n",
              "      <td>Pampa</td>\n",
              "      <td>NaN</td>\n",
              "    </tr>\n",
              "    <tr>\n",
              "      <th>3</th>\n",
              "      <td>Saraswathi</td>\n",
              "      <td>Sindhu</td>\n",
              "      <td>Tamraparani</td>\n",
              "      <td>Tapti</td>\n",
              "      <td>NaN</td>\n",
              "    </tr>\n",
              "    <tr>\n",
              "      <th>4</th>\n",
              "      <td>Mandakini</td>\n",
              "      <td>Girls' hostels</td>\n",
              "      <td>Girls' hostels</td>\n",
              "      <td>Girls' hostels</td>\n",
              "      <td>Girls' hostels</td>\n",
              "    </tr>\n",
              "    <tr>\n",
              "      <th>5</th>\n",
              "      <td>Sabarmati</td>\n",
              "      <td>Sarayu</td>\n",
              "      <td>Sharavathi</td>\n",
              "      <td>Tunga</td>\n",
              "      <td>NaN</td>\n",
              "    </tr>\n",
              "  </tbody>\n",
              "</table>\n",
              "</div>\n",
              "      <button class=\"colab-df-convert\" onclick=\"convertToInteractive('df-b9c8b76f-5cb7-4526-a1e5-c526d16657c9')\"\n",
              "              title=\"Convert this dataframe to an interactive table.\"\n",
              "              style=\"display:none;\">\n",
              "        \n",
              "  <svg xmlns=\"http://www.w3.org/2000/svg\" height=\"24px\"viewBox=\"0 0 24 24\"\n",
              "       width=\"24px\">\n",
              "    <path d=\"M0 0h24v24H0V0z\" fill=\"none\"/>\n",
              "    <path d=\"M18.56 5.44l.94 2.06.94-2.06 2.06-.94-2.06-.94-.94-2.06-.94 2.06-2.06.94zm-11 1L8.5 8.5l.94-2.06 2.06-.94-2.06-.94L8.5 2.5l-.94 2.06-2.06.94zm10 10l.94 2.06.94-2.06 2.06-.94-2.06-.94-.94-2.06-.94 2.06-2.06.94z\"/><path d=\"M17.41 7.96l-1.37-1.37c-.4-.4-.92-.59-1.43-.59-.52 0-1.04.2-1.43.59L10.3 9.45l-7.72 7.72c-.78.78-.78 2.05 0 2.83L4 21.41c.39.39.9.59 1.41.59.51 0 1.02-.2 1.41-.59l7.78-7.78 2.81-2.81c.8-.78.8-2.07 0-2.86zM5.41 20L4 18.59l7.72-7.72 1.47 1.35L5.41 20z\"/>\n",
              "  </svg>\n",
              "      </button>\n",
              "      \n",
              "  <style>\n",
              "    .colab-df-container {\n",
              "      display:flex;\n",
              "      flex-wrap:wrap;\n",
              "      gap: 12px;\n",
              "    }\n",
              "\n",
              "    .colab-df-convert {\n",
              "      background-color: #E8F0FE;\n",
              "      border: none;\n",
              "      border-radius: 50%;\n",
              "      cursor: pointer;\n",
              "      display: none;\n",
              "      fill: #1967D2;\n",
              "      height: 32px;\n",
              "      padding: 0 0 0 0;\n",
              "      width: 32px;\n",
              "    }\n",
              "\n",
              "    .colab-df-convert:hover {\n",
              "      background-color: #E2EBFA;\n",
              "      box-shadow: 0px 1px 2px rgba(60, 64, 67, 0.3), 0px 1px 3px 1px rgba(60, 64, 67, 0.15);\n",
              "      fill: #174EA6;\n",
              "    }\n",
              "\n",
              "    [theme=dark] .colab-df-convert {\n",
              "      background-color: #3B4455;\n",
              "      fill: #D2E3FC;\n",
              "    }\n",
              "\n",
              "    [theme=dark] .colab-df-convert:hover {\n",
              "      background-color: #434B5C;\n",
              "      box-shadow: 0px 1px 3px 1px rgba(0, 0, 0, 0.15);\n",
              "      filter: drop-shadow(0px 1px 2px rgba(0, 0, 0, 0.3));\n",
              "      fill: #FFFFFF;\n",
              "    }\n",
              "  </style>\n",
              "\n",
              "      <script>\n",
              "        const buttonEl =\n",
              "          document.querySelector('#df-b9c8b76f-5cb7-4526-a1e5-c526d16657c9 button.colab-df-convert');\n",
              "        buttonEl.style.display =\n",
              "          google.colab.kernel.accessAllowed ? 'block' : 'none';\n",
              "\n",
              "        async function convertToInteractive(key) {\n",
              "          const element = document.querySelector('#df-b9c8b76f-5cb7-4526-a1e5-c526d16657c9');\n",
              "          const dataTable =\n",
              "            await google.colab.kernel.invokeFunction('convertToInteractive',\n",
              "                                                     [key], {});\n",
              "          if (!dataTable) return;\n",
              "\n",
              "          const docLinkHtml = 'Like what you see? Visit the ' +\n",
              "            '<a target=\"_blank\" href=https://colab.research.google.com/notebooks/data_table.ipynb>data table notebook</a>'\n",
              "            + ' to learn more about interactive tables.';\n",
              "          element.innerHTML = '';\n",
              "          dataTable['output_type'] = 'display_data';\n",
              "          await google.colab.output.renderOutput(dataTable, element);\n",
              "          const docLink = document.createElement('div');\n",
              "          docLink.innerHTML = docLinkHtml;\n",
              "          element.appendChild(docLink);\n",
              "        }\n",
              "      </script>\n",
              "    </div>\n",
              "  </div>\n",
              "  "
            ]
          },
          "metadata": {},
          "execution_count": 93
        }
      ]
    },
    {
      "cell_type": "code",
      "source": [
        "df[5]"
      ],
      "metadata": {
        "colab": {
          "base_uri": "https://localhost:8080/",
          "height": 332
        },
        "id": "EFwn3FHsrlOG",
        "outputId": "60827d69-c782-4643-b2ef-66072af01ec7"
      },
      "execution_count": null,
      "outputs": [
        {
          "output_type": "execute_result",
          "data": {
            "text/plain": [
              "  University and college rankings                            \n",
              "        General â international General â international.1\n",
              "0                 ARWU (2021)[28]                     701-800\n",
              "1           QS (World) (2022)[29]                         255\n",
              "2            QS (Asia) (2021)[30]                          50\n",
              "3           QS (BRICS) (2019)[31]                          17\n",
              "4               General â India           General â India\n",
              "5       NIRF (Overall) (2021)[32]                           1\n",
              "6           Engineering â India       Engineering â India\n",
              "7                 NIRF (2021)[33]                           1"
            ],
            "text/html": [
              "\n",
              "  <div id=\"df-10c1b32e-2057-446f-9e99-1f3a44a17998\">\n",
              "    <div class=\"colab-df-container\">\n",
              "      <div>\n",
              "<style scoped>\n",
              "    .dataframe tbody tr th:only-of-type {\n",
              "        vertical-align: middle;\n",
              "    }\n",
              "\n",
              "    .dataframe tbody tr th {\n",
              "        vertical-align: top;\n",
              "    }\n",
              "\n",
              "    .dataframe thead tr th {\n",
              "        text-align: left;\n",
              "    }\n",
              "</style>\n",
              "<table border=\"1\" class=\"dataframe\">\n",
              "  <thead>\n",
              "    <tr>\n",
              "      <th></th>\n",
              "      <th colspan=\"2\" halign=\"left\">University and college rankings</th>\n",
              "    </tr>\n",
              "    <tr>\n",
              "      <th></th>\n",
              "      <th>General â international</th>\n",
              "      <th>General â international.1</th>\n",
              "    </tr>\n",
              "  </thead>\n",
              "  <tbody>\n",
              "    <tr>\n",
              "      <th>0</th>\n",
              "      <td>ARWU (2021)[28]</td>\n",
              "      <td>701-800</td>\n",
              "    </tr>\n",
              "    <tr>\n",
              "      <th>1</th>\n",
              "      <td>QS (World) (2022)[29]</td>\n",
              "      <td>255</td>\n",
              "    </tr>\n",
              "    <tr>\n",
              "      <th>2</th>\n",
              "      <td>QS (Asia) (2021)[30]</td>\n",
              "      <td>50</td>\n",
              "    </tr>\n",
              "    <tr>\n",
              "      <th>3</th>\n",
              "      <td>QS (BRICS) (2019)[31]</td>\n",
              "      <td>17</td>\n",
              "    </tr>\n",
              "    <tr>\n",
              "      <th>4</th>\n",
              "      <td>General â India</td>\n",
              "      <td>General â India</td>\n",
              "    </tr>\n",
              "    <tr>\n",
              "      <th>5</th>\n",
              "      <td>NIRF (Overall) (2021)[32]</td>\n",
              "      <td>1</td>\n",
              "    </tr>\n",
              "    <tr>\n",
              "      <th>6</th>\n",
              "      <td>Engineering â India</td>\n",
              "      <td>Engineering â India</td>\n",
              "    </tr>\n",
              "    <tr>\n",
              "      <th>7</th>\n",
              "      <td>NIRF (2021)[33]</td>\n",
              "      <td>1</td>\n",
              "    </tr>\n",
              "  </tbody>\n",
              "</table>\n",
              "</div>\n",
              "      <button class=\"colab-df-convert\" onclick=\"convertToInteractive('df-10c1b32e-2057-446f-9e99-1f3a44a17998')\"\n",
              "              title=\"Convert this dataframe to an interactive table.\"\n",
              "              style=\"display:none;\">\n",
              "        \n",
              "  <svg xmlns=\"http://www.w3.org/2000/svg\" height=\"24px\"viewBox=\"0 0 24 24\"\n",
              "       width=\"24px\">\n",
              "    <path d=\"M0 0h24v24H0V0z\" fill=\"none\"/>\n",
              "    <path d=\"M18.56 5.44l.94 2.06.94-2.06 2.06-.94-2.06-.94-.94-2.06-.94 2.06-2.06.94zm-11 1L8.5 8.5l.94-2.06 2.06-.94-2.06-.94L8.5 2.5l-.94 2.06-2.06.94zm10 10l.94 2.06.94-2.06 2.06-.94-2.06-.94-.94-2.06-.94 2.06-2.06.94z\"/><path d=\"M17.41 7.96l-1.37-1.37c-.4-.4-.92-.59-1.43-.59-.52 0-1.04.2-1.43.59L10.3 9.45l-7.72 7.72c-.78.78-.78 2.05 0 2.83L4 21.41c.39.39.9.59 1.41.59.51 0 1.02-.2 1.41-.59l7.78-7.78 2.81-2.81c.8-.78.8-2.07 0-2.86zM5.41 20L4 18.59l7.72-7.72 1.47 1.35L5.41 20z\"/>\n",
              "  </svg>\n",
              "      </button>\n",
              "      \n",
              "  <style>\n",
              "    .colab-df-container {\n",
              "      display:flex;\n",
              "      flex-wrap:wrap;\n",
              "      gap: 12px;\n",
              "    }\n",
              "\n",
              "    .colab-df-convert {\n",
              "      background-color: #E8F0FE;\n",
              "      border: none;\n",
              "      border-radius: 50%;\n",
              "      cursor: pointer;\n",
              "      display: none;\n",
              "      fill: #1967D2;\n",
              "      height: 32px;\n",
              "      padding: 0 0 0 0;\n",
              "      width: 32px;\n",
              "    }\n",
              "\n",
              "    .colab-df-convert:hover {\n",
              "      background-color: #E2EBFA;\n",
              "      box-shadow: 0px 1px 2px rgba(60, 64, 67, 0.3), 0px 1px 3px 1px rgba(60, 64, 67, 0.15);\n",
              "      fill: #174EA6;\n",
              "    }\n",
              "\n",
              "    [theme=dark] .colab-df-convert {\n",
              "      background-color: #3B4455;\n",
              "      fill: #D2E3FC;\n",
              "    }\n",
              "\n",
              "    [theme=dark] .colab-df-convert:hover {\n",
              "      background-color: #434B5C;\n",
              "      box-shadow: 0px 1px 3px 1px rgba(0, 0, 0, 0.15);\n",
              "      filter: drop-shadow(0px 1px 2px rgba(0, 0, 0, 0.3));\n",
              "      fill: #FFFFFF;\n",
              "    }\n",
              "  </style>\n",
              "\n",
              "      <script>\n",
              "        const buttonEl =\n",
              "          document.querySelector('#df-10c1b32e-2057-446f-9e99-1f3a44a17998 button.colab-df-convert');\n",
              "        buttonEl.style.display =\n",
              "          google.colab.kernel.accessAllowed ? 'block' : 'none';\n",
              "\n",
              "        async function convertToInteractive(key) {\n",
              "          const element = document.querySelector('#df-10c1b32e-2057-446f-9e99-1f3a44a17998');\n",
              "          const dataTable =\n",
              "            await google.colab.kernel.invokeFunction('convertToInteractive',\n",
              "                                                     [key], {});\n",
              "          if (!dataTable) return;\n",
              "\n",
              "          const docLinkHtml = 'Like what you see? Visit the ' +\n",
              "            '<a target=\"_blank\" href=https://colab.research.google.com/notebooks/data_table.ipynb>data table notebook</a>'\n",
              "            + ' to learn more about interactive tables.';\n",
              "          element.innerHTML = '';\n",
              "          dataTable['output_type'] = 'display_data';\n",
              "          await google.colab.output.renderOutput(dataTable, element);\n",
              "          const docLink = document.createElement('div');\n",
              "          docLink.innerHTML = docLinkHtml;\n",
              "          element.appendChild(docLink);\n",
              "        }\n",
              "      </script>\n",
              "    </div>\n",
              "  </div>\n",
              "  "
            ]
          },
          "metadata": {},
          "execution_count": 95
        }
      ]
    },
    {
      "cell_type": "code",
      "source": [
        "df[6]"
      ],
      "metadata": {
        "colab": {
          "base_uri": "https://localhost:8080/",
          "height": 300
        },
        "id": "OkUdWahKro74",
        "outputId": "db0c2d9a-36c2-4a29-b734-8caa7a17aaa6"
      },
      "execution_count": null,
      "outputs": [
        {
          "output_type": "execute_result",
          "data": {
            "text/plain": [
              "  Letter Grade  Grade Points                                    in Words\n",
              "0            S            10     Excellent (top students/high performer)\n",
              "1            A             9                                   Very Good\n",
              "2            B             8                                        Good\n",
              "3            C             7                           Satisfactory Work\n",
              "4            D             6                               Below Average\n",
              "5            E             4                           Poor (but passed)\n",
              "6            U             0                                      Failed\n",
              "7            W             0  Shortage of attendance (usually below 85%)"
            ],
            "text/html": [
              "\n",
              "  <div id=\"df-718d166b-dd24-421d-91eb-f687546d78ef\">\n",
              "    <div class=\"colab-df-container\">\n",
              "      <div>\n",
              "<style scoped>\n",
              "    .dataframe tbody tr th:only-of-type {\n",
              "        vertical-align: middle;\n",
              "    }\n",
              "\n",
              "    .dataframe tbody tr th {\n",
              "        vertical-align: top;\n",
              "    }\n",
              "\n",
              "    .dataframe thead th {\n",
              "        text-align: right;\n",
              "    }\n",
              "</style>\n",
              "<table border=\"1\" class=\"dataframe\">\n",
              "  <thead>\n",
              "    <tr style=\"text-align: right;\">\n",
              "      <th></th>\n",
              "      <th>Letter Grade</th>\n",
              "      <th>Grade Points</th>\n",
              "      <th>in Words</th>\n",
              "    </tr>\n",
              "  </thead>\n",
              "  <tbody>\n",
              "    <tr>\n",
              "      <th>0</th>\n",
              "      <td>S</td>\n",
              "      <td>10</td>\n",
              "      <td>Excellent (top students/high performer)</td>\n",
              "    </tr>\n",
              "    <tr>\n",
              "      <th>1</th>\n",
              "      <td>A</td>\n",
              "      <td>9</td>\n",
              "      <td>Very Good</td>\n",
              "    </tr>\n",
              "    <tr>\n",
              "      <th>2</th>\n",
              "      <td>B</td>\n",
              "      <td>8</td>\n",
              "      <td>Good</td>\n",
              "    </tr>\n",
              "    <tr>\n",
              "      <th>3</th>\n",
              "      <td>C</td>\n",
              "      <td>7</td>\n",
              "      <td>Satisfactory Work</td>\n",
              "    </tr>\n",
              "    <tr>\n",
              "      <th>4</th>\n",
              "      <td>D</td>\n",
              "      <td>6</td>\n",
              "      <td>Below Average</td>\n",
              "    </tr>\n",
              "    <tr>\n",
              "      <th>5</th>\n",
              "      <td>E</td>\n",
              "      <td>4</td>\n",
              "      <td>Poor (but passed)</td>\n",
              "    </tr>\n",
              "    <tr>\n",
              "      <th>6</th>\n",
              "      <td>U</td>\n",
              "      <td>0</td>\n",
              "      <td>Failed</td>\n",
              "    </tr>\n",
              "    <tr>\n",
              "      <th>7</th>\n",
              "      <td>W</td>\n",
              "      <td>0</td>\n",
              "      <td>Shortage of attendance (usually below 85%)</td>\n",
              "    </tr>\n",
              "  </tbody>\n",
              "</table>\n",
              "</div>\n",
              "      <button class=\"colab-df-convert\" onclick=\"convertToInteractive('df-718d166b-dd24-421d-91eb-f687546d78ef')\"\n",
              "              title=\"Convert this dataframe to an interactive table.\"\n",
              "              style=\"display:none;\">\n",
              "        \n",
              "  <svg xmlns=\"http://www.w3.org/2000/svg\" height=\"24px\"viewBox=\"0 0 24 24\"\n",
              "       width=\"24px\">\n",
              "    <path d=\"M0 0h24v24H0V0z\" fill=\"none\"/>\n",
              "    <path d=\"M18.56 5.44l.94 2.06.94-2.06 2.06-.94-2.06-.94-.94-2.06-.94 2.06-2.06.94zm-11 1L8.5 8.5l.94-2.06 2.06-.94-2.06-.94L8.5 2.5l-.94 2.06-2.06.94zm10 10l.94 2.06.94-2.06 2.06-.94-2.06-.94-.94-2.06-.94 2.06-2.06.94z\"/><path d=\"M17.41 7.96l-1.37-1.37c-.4-.4-.92-.59-1.43-.59-.52 0-1.04.2-1.43.59L10.3 9.45l-7.72 7.72c-.78.78-.78 2.05 0 2.83L4 21.41c.39.39.9.59 1.41.59.51 0 1.02-.2 1.41-.59l7.78-7.78 2.81-2.81c.8-.78.8-2.07 0-2.86zM5.41 20L4 18.59l7.72-7.72 1.47 1.35L5.41 20z\"/>\n",
              "  </svg>\n",
              "      </button>\n",
              "      \n",
              "  <style>\n",
              "    .colab-df-container {\n",
              "      display:flex;\n",
              "      flex-wrap:wrap;\n",
              "      gap: 12px;\n",
              "    }\n",
              "\n",
              "    .colab-df-convert {\n",
              "      background-color: #E8F0FE;\n",
              "      border: none;\n",
              "      border-radius: 50%;\n",
              "      cursor: pointer;\n",
              "      display: none;\n",
              "      fill: #1967D2;\n",
              "      height: 32px;\n",
              "      padding: 0 0 0 0;\n",
              "      width: 32px;\n",
              "    }\n",
              "\n",
              "    .colab-df-convert:hover {\n",
              "      background-color: #E2EBFA;\n",
              "      box-shadow: 0px 1px 2px rgba(60, 64, 67, 0.3), 0px 1px 3px 1px rgba(60, 64, 67, 0.15);\n",
              "      fill: #174EA6;\n",
              "    }\n",
              "\n",
              "    [theme=dark] .colab-df-convert {\n",
              "      background-color: #3B4455;\n",
              "      fill: #D2E3FC;\n",
              "    }\n",
              "\n",
              "    [theme=dark] .colab-df-convert:hover {\n",
              "      background-color: #434B5C;\n",
              "      box-shadow: 0px 1px 3px 1px rgba(0, 0, 0, 0.15);\n",
              "      filter: drop-shadow(0px 1px 2px rgba(0, 0, 0, 0.3));\n",
              "      fill: #FFFFFF;\n",
              "    }\n",
              "  </style>\n",
              "\n",
              "      <script>\n",
              "        const buttonEl =\n",
              "          document.querySelector('#df-718d166b-dd24-421d-91eb-f687546d78ef button.colab-df-convert');\n",
              "        buttonEl.style.display =\n",
              "          google.colab.kernel.accessAllowed ? 'block' : 'none';\n",
              "\n",
              "        async function convertToInteractive(key) {\n",
              "          const element = document.querySelector('#df-718d166b-dd24-421d-91eb-f687546d78ef');\n",
              "          const dataTable =\n",
              "            await google.colab.kernel.invokeFunction('convertToInteractive',\n",
              "                                                     [key], {});\n",
              "          if (!dataTable) return;\n",
              "\n",
              "          const docLinkHtml = 'Like what you see? Visit the ' +\n",
              "            '<a target=\"_blank\" href=https://colab.research.google.com/notebooks/data_table.ipynb>data table notebook</a>'\n",
              "            + ' to learn more about interactive tables.';\n",
              "          element.innerHTML = '';\n",
              "          dataTable['output_type'] = 'display_data';\n",
              "          await google.colab.output.renderOutput(dataTable, element);\n",
              "          const docLink = document.createElement('div');\n",
              "          docLink.innerHTML = docLinkHtml;\n",
              "          element.appendChild(docLink);\n",
              "        }\n",
              "      </script>\n",
              "    </div>\n",
              "  </div>\n",
              "  "
            ]
          },
          "metadata": {},
          "execution_count": 96
        }
      ]
    },
    {
      "cell_type": "code",
      "source": [
        "df[7]"
      ],
      "metadata": {
        "colab": {
          "base_uri": "https://localhost:8080/",
          "height": 488
        },
        "id": "VsXtaPDWrwb_",
        "outputId": "177ed7d4-0466-4f40-b9a9-96e9be96601d"
      },
      "execution_count": null,
      "outputs": [
        {
          "output_type": "execute_result",
          "data": {
            "text/plain": [
              "                     Fest name                               Department\n",
              "0                    Aero fest                    Aerospace Engineering\n",
              "1                     ElecFest                   Electrical Engineering\n",
              "2                     Samanvay         Department of Management Studies\n",
              "3                      Biofest                            Biotechnology\n",
              "4                       ExeBit         Computer Science and Engineering\n",
              "5                      Amalgam  Metallurgical and Materials Engineering\n",
              "6                     CEA Fest                        Civil Engineering\n",
              "7                     Chemplus                     Chemical Engineering\n",
              "8                       Forays                              Mathematics\n",
              "9                    Mechanica                   Mechanical Engineering\n",
              "10                       Wavez                        Ocean Engineering\n",
              "11  Annual Academic Conference           Humanities and Social Sciences\n",
              "12                    Bhoutics                                  Physics\n",
              "13                        CiHS                                Chemistry"
            ],
            "text/html": [
              "\n",
              "  <div id=\"df-328947d1-9bf8-42ac-9735-1f0515db2378\">\n",
              "    <div class=\"colab-df-container\">\n",
              "      <div>\n",
              "<style scoped>\n",
              "    .dataframe tbody tr th:only-of-type {\n",
              "        vertical-align: middle;\n",
              "    }\n",
              "\n",
              "    .dataframe tbody tr th {\n",
              "        vertical-align: top;\n",
              "    }\n",
              "\n",
              "    .dataframe thead th {\n",
              "        text-align: right;\n",
              "    }\n",
              "</style>\n",
              "<table border=\"1\" class=\"dataframe\">\n",
              "  <thead>\n",
              "    <tr style=\"text-align: right;\">\n",
              "      <th></th>\n",
              "      <th>Fest name</th>\n",
              "      <th>Department</th>\n",
              "    </tr>\n",
              "  </thead>\n",
              "  <tbody>\n",
              "    <tr>\n",
              "      <th>0</th>\n",
              "      <td>Aero fest</td>\n",
              "      <td>Aerospace Engineering</td>\n",
              "    </tr>\n",
              "    <tr>\n",
              "      <th>1</th>\n",
              "      <td>ElecFest</td>\n",
              "      <td>Electrical Engineering</td>\n",
              "    </tr>\n",
              "    <tr>\n",
              "      <th>2</th>\n",
              "      <td>Samanvay</td>\n",
              "      <td>Department of Management Studies</td>\n",
              "    </tr>\n",
              "    <tr>\n",
              "      <th>3</th>\n",
              "      <td>Biofest</td>\n",
              "      <td>Biotechnology</td>\n",
              "    </tr>\n",
              "    <tr>\n",
              "      <th>4</th>\n",
              "      <td>ExeBit</td>\n",
              "      <td>Computer Science and Engineering</td>\n",
              "    </tr>\n",
              "    <tr>\n",
              "      <th>5</th>\n",
              "      <td>Amalgam</td>\n",
              "      <td>Metallurgical and Materials Engineering</td>\n",
              "    </tr>\n",
              "    <tr>\n",
              "      <th>6</th>\n",
              "      <td>CEA Fest</td>\n",
              "      <td>Civil Engineering</td>\n",
              "    </tr>\n",
              "    <tr>\n",
              "      <th>7</th>\n",
              "      <td>Chemplus</td>\n",
              "      <td>Chemical Engineering</td>\n",
              "    </tr>\n",
              "    <tr>\n",
              "      <th>8</th>\n",
              "      <td>Forays</td>\n",
              "      <td>Mathematics</td>\n",
              "    </tr>\n",
              "    <tr>\n",
              "      <th>9</th>\n",
              "      <td>Mechanica</td>\n",
              "      <td>Mechanical Engineering</td>\n",
              "    </tr>\n",
              "    <tr>\n",
              "      <th>10</th>\n",
              "      <td>Wavez</td>\n",
              "      <td>Ocean Engineering</td>\n",
              "    </tr>\n",
              "    <tr>\n",
              "      <th>11</th>\n",
              "      <td>Annual Academic Conference</td>\n",
              "      <td>Humanities and Social Sciences</td>\n",
              "    </tr>\n",
              "    <tr>\n",
              "      <th>12</th>\n",
              "      <td>Bhoutics</td>\n",
              "      <td>Physics</td>\n",
              "    </tr>\n",
              "    <tr>\n",
              "      <th>13</th>\n",
              "      <td>CiHS</td>\n",
              "      <td>Chemistry</td>\n",
              "    </tr>\n",
              "  </tbody>\n",
              "</table>\n",
              "</div>\n",
              "      <button class=\"colab-df-convert\" onclick=\"convertToInteractive('df-328947d1-9bf8-42ac-9735-1f0515db2378')\"\n",
              "              title=\"Convert this dataframe to an interactive table.\"\n",
              "              style=\"display:none;\">\n",
              "        \n",
              "  <svg xmlns=\"http://www.w3.org/2000/svg\" height=\"24px\"viewBox=\"0 0 24 24\"\n",
              "       width=\"24px\">\n",
              "    <path d=\"M0 0h24v24H0V0z\" fill=\"none\"/>\n",
              "    <path d=\"M18.56 5.44l.94 2.06.94-2.06 2.06-.94-2.06-.94-.94-2.06-.94 2.06-2.06.94zm-11 1L8.5 8.5l.94-2.06 2.06-.94-2.06-.94L8.5 2.5l-.94 2.06-2.06.94zm10 10l.94 2.06.94-2.06 2.06-.94-2.06-.94-.94-2.06-.94 2.06-2.06.94z\"/><path d=\"M17.41 7.96l-1.37-1.37c-.4-.4-.92-.59-1.43-.59-.52 0-1.04.2-1.43.59L10.3 9.45l-7.72 7.72c-.78.78-.78 2.05 0 2.83L4 21.41c.39.39.9.59 1.41.59.51 0 1.02-.2 1.41-.59l7.78-7.78 2.81-2.81c.8-.78.8-2.07 0-2.86zM5.41 20L4 18.59l7.72-7.72 1.47 1.35L5.41 20z\"/>\n",
              "  </svg>\n",
              "      </button>\n",
              "      \n",
              "  <style>\n",
              "    .colab-df-container {\n",
              "      display:flex;\n",
              "      flex-wrap:wrap;\n",
              "      gap: 12px;\n",
              "    }\n",
              "\n",
              "    .colab-df-convert {\n",
              "      background-color: #E8F0FE;\n",
              "      border: none;\n",
              "      border-radius: 50%;\n",
              "      cursor: pointer;\n",
              "      display: none;\n",
              "      fill: #1967D2;\n",
              "      height: 32px;\n",
              "      padding: 0 0 0 0;\n",
              "      width: 32px;\n",
              "    }\n",
              "\n",
              "    .colab-df-convert:hover {\n",
              "      background-color: #E2EBFA;\n",
              "      box-shadow: 0px 1px 2px rgba(60, 64, 67, 0.3), 0px 1px 3px 1px rgba(60, 64, 67, 0.15);\n",
              "      fill: #174EA6;\n",
              "    }\n",
              "\n",
              "    [theme=dark] .colab-df-convert {\n",
              "      background-color: #3B4455;\n",
              "      fill: #D2E3FC;\n",
              "    }\n",
              "\n",
              "    [theme=dark] .colab-df-convert:hover {\n",
              "      background-color: #434B5C;\n",
              "      box-shadow: 0px 1px 3px 1px rgba(0, 0, 0, 0.15);\n",
              "      filter: drop-shadow(0px 1px 2px rgba(0, 0, 0, 0.3));\n",
              "      fill: #FFFFFF;\n",
              "    }\n",
              "  </style>\n",
              "\n",
              "      <script>\n",
              "        const buttonEl =\n",
              "          document.querySelector('#df-328947d1-9bf8-42ac-9735-1f0515db2378 button.colab-df-convert');\n",
              "        buttonEl.style.display =\n",
              "          google.colab.kernel.accessAllowed ? 'block' : 'none';\n",
              "\n",
              "        async function convertToInteractive(key) {\n",
              "          const element = document.querySelector('#df-328947d1-9bf8-42ac-9735-1f0515db2378');\n",
              "          const dataTable =\n",
              "            await google.colab.kernel.invokeFunction('convertToInteractive',\n",
              "                                                     [key], {});\n",
              "          if (!dataTable) return;\n",
              "\n",
              "          const docLinkHtml = 'Like what you see? Visit the ' +\n",
              "            '<a target=\"_blank\" href=https://colab.research.google.com/notebooks/data_table.ipynb>data table notebook</a>'\n",
              "            + ' to learn more about interactive tables.';\n",
              "          element.innerHTML = '';\n",
              "          dataTable['output_type'] = 'display_data';\n",
              "          await google.colab.output.renderOutput(dataTable, element);\n",
              "          const docLink = document.createElement('div');\n",
              "          docLink.innerHTML = docLinkHtml;\n",
              "          element.appendChild(docLink);\n",
              "        }\n",
              "      </script>\n",
              "    </div>\n",
              "  </div>\n",
              "  "
            ]
          },
          "metadata": {},
          "execution_count": 97
        }
      ]
    },
    {
      "cell_type": "markdown",
      "source": [
        "# ***Scrape Data from Pdfs (tabula)***"
      ],
      "metadata": {
        "id": "6VsPM3MrtiDy"
      }
    },
    {
      "cell_type": "code",
      "source": [
        "import pandas as pd\n",
        "from bs4 import BeautifulSoup as BS\n",
        "import os\n",
        "import requests\n",
        "from urllib.parse import urljoin\n",
        "\n",
        "import tabula"
      ],
      "metadata": {
        "id": "UzhH2s8_zO_c"
      },
      "execution_count": null,
      "outputs": []
    },
    {
      "cell_type": "code",
      "source": [
        "from google.colab import drive\n",
        "drive.mount('/content/drive')"
      ],
      "metadata": {
        "colab": {
          "base_uri": "https://localhost:8080/"
        },
        "id": "MSZX8neXz1tM",
        "outputId": "18b2737a-390a-4e34-9b83-a322063a52e9"
      },
      "execution_count": null,
      "outputs": [
        {
          "output_type": "stream",
          "name": "stdout",
          "text": [
            "Drive already mounted at /content/drive; to attempt to forcibly remount, call drive.mount(\"/content/drive\", force_remount=True).\n"
          ]
        }
      ]
    },
    {
      "cell_type": "code",
      "source": [
        "url = 'https://www.premierleague.com/publications'\n",
        "\n",
        "folder_location = r'/content/drive/MyDrive/Colab Notebooks/premier_league'\n",
        "if not os.path.exists(folder_location):\n",
        "  os.mkdir(folder_location)"
      ],
      "metadata": {
        "id": "wbTfEf2Kz1pq"
      },
      "execution_count": null,
      "outputs": []
    },
    {
      "cell_type": "code",
      "source": [
        "response = requests.get(url)\n",
        "soup = BS(response.text, \"html.parser\")\n",
        "\n",
        "for link in soup.select(\"a[href$='.pdf']\"):\n",
        "  filename = os.path.join(folder_location, link['href'].split('/')[-1])\n",
        "  with open(filename, 'wb') as f:\n",
        "        f.write(requests.get(urljoin(url,link['href'])).content)"
      ],
      "metadata": {
        "id": "4YythL0cz1nT"
      },
      "execution_count": null,
      "outputs": []
    },
    {
      "cell_type": "code",
      "source": [
        "import tabula\n",
        "df = tabula.read_pdf(folder_location + \"/This-is-PL-Interactive-Combined.pdf\", pages = '18')"
      ],
      "metadata": {
        "id": "pNANrBv2z1lB"
      },
      "execution_count": null,
      "outputs": []
    },
    {
      "cell_type": "code",
      "source": [
        "df"
      ],
      "metadata": {
        "colab": {
          "base_uri": "https://localhost:8080/"
        },
        "id": "FKqfAY8b669R",
        "outputId": "b1036665-dc99-4c8e-d69f-1eaa496c50f3"
      },
      "execution_count": null,
      "outputs": [
        {
          "output_type": "execute_result",
          "data": {
            "text/plain": [
              "[                                           Unnamed: 0  \\\n",
              " 0                                                 NaN   \n",
              " 1                                                 NaN   \n",
              " 2                                                 NaN   \n",
              " 3                                                 NaN   \n",
              " 4                                                 NaN   \n",
              " 5                                                 NaN   \n",
              " 6                                                 NaN   \n",
              " 7                                                 NaN   \n",
              " 8                                                 NaN   \n",
              " 9                                               £100m   \n",
              " 10                                                NaN   \n",
              " 11                                                NaN   \n",
              " 12                                     The amount the   \n",
              " 13                                     Premier League   \n",
              " 14                              invests per season in   \n",
              " 15                                 the development of   \n",
              " 16                              community facilities,   \n",
              " 17          sports participation, Central payments to   \n",
              " 18                community and schools clubs 2017/18   \n",
              " 19  programmes, and to The collective and central ...   \n",
              " 20  support the well-being Premier League markets ...   \n",
              " 21                                of players in lower   \n",
              " 22  make using these central payments, leagues. Th...   \n",
              " 23  League also supports all of them to not only i...   \n",
              " 24  the English Football talented players and faci...   \n",
              " 25  League with a further also their local communi...   \n",
              " 26        £100m per season of wider football pyramid.   \n",
              " 27   Solidarity payments The income generated by fans   \n",
              " 28                              and ring-fenced Youth   \n",
              " 29  Development grants. watching compelling matche...   \n",
              " 30                  the Premier League is what allows   \n",
              " \n",
              "                                 Unnamed: 1  Unnamed: 2   Pos Unnamed: 3  \\\n",
              " 0                                      NaN         NaN   1.0        NaN   \n",
              " 1                                      NaN         NaN   2.0        NaN   \n",
              " 2                                      NaN         NaN   3.0        NaN   \n",
              " 3                                      NaN         NaN   4.0        NaN   \n",
              " 4                                      NaN         NaN   5.0        NaN   \n",
              " 5                                      NaN         NaN   6.0        NaN   \n",
              " 6                                      NaN         NaN   7.0        NaN   \n",
              " 7                                      NaN         NaN   8.0        NaN   \n",
              " 8                                      NaN         NaN   9.0        NaN   \n",
              " 9                                      NaN         NaN  10.0        NaN   \n",
              " 10                                     NaN         NaN   NaN        125   \n",
              " 11                                     NaN         NaN   NaN     RAEY S   \n",
              " 12                                     NaN         NaN  11.0        NaN   \n",
              " 13                                     NaN         NaN   NaN        NaN   \n",
              " 14                                     NaN         NaN  12.0        NaN   \n",
              " 15                                     NaN         NaN   NaN        NaN   \n",
              " 16                                     NaN         NaN  13.0        NaN   \n",
              " 17                                     NaN         NaN   NaN        NaN   \n",
              " 18                                     NaN         NaN  14.0        NaN   \n",
              " 19      our clubs to remain as competitive         NaN   NaN        NaN   \n",
              " 20        as possible. The investment they         NaN  15.0        NaN   \n",
              " 21                                     NaN         NaN   NaN        NaN   \n",
              " 22                                     NaN         NaN  16.0        NaN   \n",
              " 23       creates safer and more accessible         NaN   NaN        NaN   \n",
              " 24  stadia for fans. This on-pitch success         NaN  17.0        NaN   \n",
              " 25    enables the responsible distribution         NaN   NaN        NaN   \n",
              " 26       of investment through the rest of         NaN  18.0        NaN   \n",
              " 27          the football pyramid to ensure         NaN   NaN        NaN   \n",
              " 28                                     NaN         NaN  19.0        NaN   \n",
              " 29    participation in the game can thrive         NaN   NaN        NaN   \n",
              " 30                         at every level.         NaN  20.0        NaN   \n",
              " \n",
              "                       Club     W     D     L    GD    Pts Total payment  \n",
              " 0          Manchester City  32.0   4.0   2.0  79.0  100.0       £149.4m  \n",
              " 1        Manchester United  25.0   6.0   7.0  40.0   81.0       £149.8m  \n",
              " 2        Tottenham Hotspur  23.0   8.0   7.0  38.0   77.0       £144.4m  \n",
              " 3                Liverpool  21.0  12.0   5.0  46.0   75.0       £145.9m  \n",
              " 4                  Chelsea  21.0   7.0  10.0  24.0   70.0       £141.7m  \n",
              " 5                  Arsenal  19.0   6.0  13.0  23.0   63.0       £142.0m  \n",
              " 6                  Burnley  14.0  12.0  12.0  -3.0   54.0       £119.8m  \n",
              " 7                  Everton  13.0  10.0  15.0 -14.0   49.0       £128.0m  \n",
              " 8           Leicester City  12.0  11.0  15.0  -4.0   47.0       £118.2m  \n",
              " 9         Newcastle United  12.0   8.0  18.0  -8.0   44.0       £123.0m  \n",
              " 10                     NaN   NaN   NaN   NaN   NaN    NaN           NaN  \n",
              " 11                     NaN   NaN   NaN   NaN   NaN    NaN           NaN  \n",
              " 12          Crystal Palace  11.0  11.0  16.0 -10.0   44.0       £114.3m  \n",
              " 13                     NaN   NaN   NaN   NaN   NaN    NaN           NaN  \n",
              " 14         AFC Bournemouth  11.0  11.0  16.0 -16.0   44.0       £111.2m  \n",
              " 15                     NaN   NaN   NaN   NaN   NaN    NaN           NaN  \n",
              " 16         West Ham United  10.0  12.0  16.0 -20.0   42.0       £116.1m  \n",
              " 17                     NaN   NaN   NaN   NaN   NaN    NaN           NaN  \n",
              " 18                 Watford  11.0   8.0  19.0 -20.0   41.0       £106.3m  \n",
              " 19                     NaN   NaN   NaN   NaN   NaN    NaN           NaN  \n",
              " 20  Brighton & Hove Albion   9.0  13.0  16.0 -20.0   40.0       £107.7m  \n",
              " 21                     NaN   NaN   NaN   NaN   NaN    NaN           NaN  \n",
              " 22       Huddersfield Town   9.0  10.0  19.0 -30.0   37.0       £102.4m  \n",
              " 23                     NaN   NaN   NaN   NaN   NaN    NaN           NaN  \n",
              " 24             Southampton   7.0  15.0  16.0 -19.0   36.0       £107.2m  \n",
              " 25                     NaN   NaN   NaN   NaN   NaN    NaN           NaN  \n",
              " 26            Swansea City   8.0   9.0  21.0 -28.0   33.0        £98.5m  \n",
              " 27                     NaN   NaN   NaN   NaN   NaN    NaN           NaN  \n",
              " 28              Stoke City   7.0  12.0  19.0 -33.0   33.0        £98.9m  \n",
              " 29                     NaN   NaN   NaN   NaN   NaN    NaN           NaN  \n",
              " 30    West Bromwich Albion   6.0  13.0  19.0 -25.0   31.0        £94.7m  ]"
            ]
          },
          "metadata": {},
          "execution_count": 14
        }
      ]
    },
    {
      "cell_type": "code",
      "source": [
        "from tabula import convert_into\n",
        "convert_into(folder_location + \"/This-is-PL-Interactive-Combined.pdf\", folder_location + \"/table_output.csv\", output_format=\"csv\", area = [[275,504,640,900]], pages = \"18\")\n"
      ],
      "metadata": {
        "id": "T_l31czr7gaT"
      },
      "execution_count": null,
      "outputs": []
    },
    {
      "cell_type": "code",
      "source": [
        "data = pd.read_csv(folder_location + \"/table_output.csv\")"
      ],
      "metadata": {
        "id": "KxCA8M7D8ZKM"
      },
      "execution_count": null,
      "outputs": []
    },
    {
      "cell_type": "code",
      "source": [
        "data"
      ],
      "metadata": {
        "colab": {
          "base_uri": "https://localhost:8080/",
          "height": 739
        },
        "id": "Sqmk_WrE8gpy",
        "outputId": "9e3492bc-219a-4ff5-fbb8-256dddcf9b73"
      },
      "execution_count": null,
      "outputs": [
        {
          "output_type": "execute_result",
          "data": {
            "text/plain": [
              "     Pos Unnamed: 1                    Club     W     D     L    GD    Pts  \\\n",
              "0    1.0        NaN         Manchester City  32.0   4.0   2.0  79.0  100.0   \n",
              "1    2.0        NaN       Manchester United  25.0   6.0   7.0  40.0   81.0   \n",
              "2    3.0        NaN       Tottenham Hotspur  23.0   8.0   7.0  38.0   77.0   \n",
              "3    4.0        NaN               Liverpool  21.0  12.0   5.0  46.0   75.0   \n",
              "4    5.0        NaN                 Chelsea  21.0   7.0  10.0  24.0   70.0   \n",
              "5    6.0        NaN                 Arsenal  19.0   6.0  13.0  23.0   63.0   \n",
              "6    7.0        NaN                 Burnley  14.0  12.0  12.0  -3.0   54.0   \n",
              "7    8.0        NaN                 Everton  13.0  10.0  15.0 -14.0   49.0   \n",
              "8    9.0        NaN          Leicester City  12.0  11.0  15.0  -4.0   47.0   \n",
              "9   10.0        NaN        Newcastle United  12.0   8.0  18.0  -8.0   44.0   \n",
              "10   NaN        125                     NaN   NaN   NaN   NaN   NaN    NaN   \n",
              "11   NaN    E RY SA                     NaN   NaN   NaN   NaN   NaN    NaN   \n",
              "12  11.0        NaN          Crystal Palace  11.0  11.0  16.0 -10.0   44.0   \n",
              "13  12.0        NaN         AFC Bournemouth  11.0  11.0  16.0 -16.0   44.0   \n",
              "14  13.0        NaN         West Ham United  10.0  12.0  16.0 -20.0   42.0   \n",
              "15  14.0        NaN                 Watford  11.0   8.0  19.0 -20.0   41.0   \n",
              "16  15.0        NaN  Brighton & Hove Albion   9.0  13.0  16.0 -20.0   40.0   \n",
              "17  16.0        NaN       Huddersfield Town   9.0  10.0  19.0 -30.0   37.0   \n",
              "18  17.0        NaN             Southampton   7.0  15.0  16.0 -19.0   36.0   \n",
              "19  18.0        NaN            Swansea City   8.0   9.0  21.0 -28.0   33.0   \n",
              "20  19.0        NaN              Stoke City   7.0  12.0  19.0 -33.0   33.0   \n",
              "21  20.0        NaN    West Bromwich Albion   6.0  13.0  19.0 -25.0   31.0   \n",
              "\n",
              "   Total payment  \n",
              "0        £149.4m  \n",
              "1        £149.8m  \n",
              "2        £144.4m  \n",
              "3        £145.9m  \n",
              "4        £141.7m  \n",
              "5        £142.0m  \n",
              "6        £119.8m  \n",
              "7        £128.0m  \n",
              "8        £118.2m  \n",
              "9        £123.0m  \n",
              "10           NaN  \n",
              "11           NaN  \n",
              "12       £114.3m  \n",
              "13       £111.2m  \n",
              "14       £116.1m  \n",
              "15       £106.3m  \n",
              "16       £107.7m  \n",
              "17       £102.4m  \n",
              "18       £107.2m  \n",
              "19        £98.5m  \n",
              "20        £98.9m  \n",
              "21        £94.7m  "
            ],
            "text/html": [
              "\n",
              "  <div id=\"df-06095bed-f60b-455f-82b1-5910a0961a3f\">\n",
              "    <div class=\"colab-df-container\">\n",
              "      <div>\n",
              "<style scoped>\n",
              "    .dataframe tbody tr th:only-of-type {\n",
              "        vertical-align: middle;\n",
              "    }\n",
              "\n",
              "    .dataframe tbody tr th {\n",
              "        vertical-align: top;\n",
              "    }\n",
              "\n",
              "    .dataframe thead th {\n",
              "        text-align: right;\n",
              "    }\n",
              "</style>\n",
              "<table border=\"1\" class=\"dataframe\">\n",
              "  <thead>\n",
              "    <tr style=\"text-align: right;\">\n",
              "      <th></th>\n",
              "      <th>Pos</th>\n",
              "      <th>Unnamed: 1</th>\n",
              "      <th>Club</th>\n",
              "      <th>W</th>\n",
              "      <th>D</th>\n",
              "      <th>L</th>\n",
              "      <th>GD</th>\n",
              "      <th>Pts</th>\n",
              "      <th>Total payment</th>\n",
              "    </tr>\n",
              "  </thead>\n",
              "  <tbody>\n",
              "    <tr>\n",
              "      <th>0</th>\n",
              "      <td>1.0</td>\n",
              "      <td>NaN</td>\n",
              "      <td>Manchester City</td>\n",
              "      <td>32.0</td>\n",
              "      <td>4.0</td>\n",
              "      <td>2.0</td>\n",
              "      <td>79.0</td>\n",
              "      <td>100.0</td>\n",
              "      <td>£149.4m</td>\n",
              "    </tr>\n",
              "    <tr>\n",
              "      <th>1</th>\n",
              "      <td>2.0</td>\n",
              "      <td>NaN</td>\n",
              "      <td>Manchester United</td>\n",
              "      <td>25.0</td>\n",
              "      <td>6.0</td>\n",
              "      <td>7.0</td>\n",
              "      <td>40.0</td>\n",
              "      <td>81.0</td>\n",
              "      <td>£149.8m</td>\n",
              "    </tr>\n",
              "    <tr>\n",
              "      <th>2</th>\n",
              "      <td>3.0</td>\n",
              "      <td>NaN</td>\n",
              "      <td>Tottenham Hotspur</td>\n",
              "      <td>23.0</td>\n",
              "      <td>8.0</td>\n",
              "      <td>7.0</td>\n",
              "      <td>38.0</td>\n",
              "      <td>77.0</td>\n",
              "      <td>£144.4m</td>\n",
              "    </tr>\n",
              "    <tr>\n",
              "      <th>3</th>\n",
              "      <td>4.0</td>\n",
              "      <td>NaN</td>\n",
              "      <td>Liverpool</td>\n",
              "      <td>21.0</td>\n",
              "      <td>12.0</td>\n",
              "      <td>5.0</td>\n",
              "      <td>46.0</td>\n",
              "      <td>75.0</td>\n",
              "      <td>£145.9m</td>\n",
              "    </tr>\n",
              "    <tr>\n",
              "      <th>4</th>\n",
              "      <td>5.0</td>\n",
              "      <td>NaN</td>\n",
              "      <td>Chelsea</td>\n",
              "      <td>21.0</td>\n",
              "      <td>7.0</td>\n",
              "      <td>10.0</td>\n",
              "      <td>24.0</td>\n",
              "      <td>70.0</td>\n",
              "      <td>£141.7m</td>\n",
              "    </tr>\n",
              "    <tr>\n",
              "      <th>5</th>\n",
              "      <td>6.0</td>\n",
              "      <td>NaN</td>\n",
              "      <td>Arsenal</td>\n",
              "      <td>19.0</td>\n",
              "      <td>6.0</td>\n",
              "      <td>13.0</td>\n",
              "      <td>23.0</td>\n",
              "      <td>63.0</td>\n",
              "      <td>£142.0m</td>\n",
              "    </tr>\n",
              "    <tr>\n",
              "      <th>6</th>\n",
              "      <td>7.0</td>\n",
              "      <td>NaN</td>\n",
              "      <td>Burnley</td>\n",
              "      <td>14.0</td>\n",
              "      <td>12.0</td>\n",
              "      <td>12.0</td>\n",
              "      <td>-3.0</td>\n",
              "      <td>54.0</td>\n",
              "      <td>£119.8m</td>\n",
              "    </tr>\n",
              "    <tr>\n",
              "      <th>7</th>\n",
              "      <td>8.0</td>\n",
              "      <td>NaN</td>\n",
              "      <td>Everton</td>\n",
              "      <td>13.0</td>\n",
              "      <td>10.0</td>\n",
              "      <td>15.0</td>\n",
              "      <td>-14.0</td>\n",
              "      <td>49.0</td>\n",
              "      <td>£128.0m</td>\n",
              "    </tr>\n",
              "    <tr>\n",
              "      <th>8</th>\n",
              "      <td>9.0</td>\n",
              "      <td>NaN</td>\n",
              "      <td>Leicester City</td>\n",
              "      <td>12.0</td>\n",
              "      <td>11.0</td>\n",
              "      <td>15.0</td>\n",
              "      <td>-4.0</td>\n",
              "      <td>47.0</td>\n",
              "      <td>£118.2m</td>\n",
              "    </tr>\n",
              "    <tr>\n",
              "      <th>9</th>\n",
              "      <td>10.0</td>\n",
              "      <td>NaN</td>\n",
              "      <td>Newcastle United</td>\n",
              "      <td>12.0</td>\n",
              "      <td>8.0</td>\n",
              "      <td>18.0</td>\n",
              "      <td>-8.0</td>\n",
              "      <td>44.0</td>\n",
              "      <td>£123.0m</td>\n",
              "    </tr>\n",
              "    <tr>\n",
              "      <th>10</th>\n",
              "      <td>NaN</td>\n",
              "      <td>125</td>\n",
              "      <td>NaN</td>\n",
              "      <td>NaN</td>\n",
              "      <td>NaN</td>\n",
              "      <td>NaN</td>\n",
              "      <td>NaN</td>\n",
              "      <td>NaN</td>\n",
              "      <td>NaN</td>\n",
              "    </tr>\n",
              "    <tr>\n",
              "      <th>11</th>\n",
              "      <td>NaN</td>\n",
              "      <td>E RY SA</td>\n",
              "      <td>NaN</td>\n",
              "      <td>NaN</td>\n",
              "      <td>NaN</td>\n",
              "      <td>NaN</td>\n",
              "      <td>NaN</td>\n",
              "      <td>NaN</td>\n",
              "      <td>NaN</td>\n",
              "    </tr>\n",
              "    <tr>\n",
              "      <th>12</th>\n",
              "      <td>11.0</td>\n",
              "      <td>NaN</td>\n",
              "      <td>Crystal Palace</td>\n",
              "      <td>11.0</td>\n",
              "      <td>11.0</td>\n",
              "      <td>16.0</td>\n",
              "      <td>-10.0</td>\n",
              "      <td>44.0</td>\n",
              "      <td>£114.3m</td>\n",
              "    </tr>\n",
              "    <tr>\n",
              "      <th>13</th>\n",
              "      <td>12.0</td>\n",
              "      <td>NaN</td>\n",
              "      <td>AFC Bournemouth</td>\n",
              "      <td>11.0</td>\n",
              "      <td>11.0</td>\n",
              "      <td>16.0</td>\n",
              "      <td>-16.0</td>\n",
              "      <td>44.0</td>\n",
              "      <td>£111.2m</td>\n",
              "    </tr>\n",
              "    <tr>\n",
              "      <th>14</th>\n",
              "      <td>13.0</td>\n",
              "      <td>NaN</td>\n",
              "      <td>West Ham United</td>\n",
              "      <td>10.0</td>\n",
              "      <td>12.0</td>\n",
              "      <td>16.0</td>\n",
              "      <td>-20.0</td>\n",
              "      <td>42.0</td>\n",
              "      <td>£116.1m</td>\n",
              "    </tr>\n",
              "    <tr>\n",
              "      <th>15</th>\n",
              "      <td>14.0</td>\n",
              "      <td>NaN</td>\n",
              "      <td>Watford</td>\n",
              "      <td>11.0</td>\n",
              "      <td>8.0</td>\n",
              "      <td>19.0</td>\n",
              "      <td>-20.0</td>\n",
              "      <td>41.0</td>\n",
              "      <td>£106.3m</td>\n",
              "    </tr>\n",
              "    <tr>\n",
              "      <th>16</th>\n",
              "      <td>15.0</td>\n",
              "      <td>NaN</td>\n",
              "      <td>Brighton &amp; Hove Albion</td>\n",
              "      <td>9.0</td>\n",
              "      <td>13.0</td>\n",
              "      <td>16.0</td>\n",
              "      <td>-20.0</td>\n",
              "      <td>40.0</td>\n",
              "      <td>£107.7m</td>\n",
              "    </tr>\n",
              "    <tr>\n",
              "      <th>17</th>\n",
              "      <td>16.0</td>\n",
              "      <td>NaN</td>\n",
              "      <td>Huddersfield Town</td>\n",
              "      <td>9.0</td>\n",
              "      <td>10.0</td>\n",
              "      <td>19.0</td>\n",
              "      <td>-30.0</td>\n",
              "      <td>37.0</td>\n",
              "      <td>£102.4m</td>\n",
              "    </tr>\n",
              "    <tr>\n",
              "      <th>18</th>\n",
              "      <td>17.0</td>\n",
              "      <td>NaN</td>\n",
              "      <td>Southampton</td>\n",
              "      <td>7.0</td>\n",
              "      <td>15.0</td>\n",
              "      <td>16.0</td>\n",
              "      <td>-19.0</td>\n",
              "      <td>36.0</td>\n",
              "      <td>£107.2m</td>\n",
              "    </tr>\n",
              "    <tr>\n",
              "      <th>19</th>\n",
              "      <td>18.0</td>\n",
              "      <td>NaN</td>\n",
              "      <td>Swansea City</td>\n",
              "      <td>8.0</td>\n",
              "      <td>9.0</td>\n",
              "      <td>21.0</td>\n",
              "      <td>-28.0</td>\n",
              "      <td>33.0</td>\n",
              "      <td>£98.5m</td>\n",
              "    </tr>\n",
              "    <tr>\n",
              "      <th>20</th>\n",
              "      <td>19.0</td>\n",
              "      <td>NaN</td>\n",
              "      <td>Stoke City</td>\n",
              "      <td>7.0</td>\n",
              "      <td>12.0</td>\n",
              "      <td>19.0</td>\n",
              "      <td>-33.0</td>\n",
              "      <td>33.0</td>\n",
              "      <td>£98.9m</td>\n",
              "    </tr>\n",
              "    <tr>\n",
              "      <th>21</th>\n",
              "      <td>20.0</td>\n",
              "      <td>NaN</td>\n",
              "      <td>West Bromwich Albion</td>\n",
              "      <td>6.0</td>\n",
              "      <td>13.0</td>\n",
              "      <td>19.0</td>\n",
              "      <td>-25.0</td>\n",
              "      <td>31.0</td>\n",
              "      <td>£94.7m</td>\n",
              "    </tr>\n",
              "  </tbody>\n",
              "</table>\n",
              "</div>\n",
              "      <button class=\"colab-df-convert\" onclick=\"convertToInteractive('df-06095bed-f60b-455f-82b1-5910a0961a3f')\"\n",
              "              title=\"Convert this dataframe to an interactive table.\"\n",
              "              style=\"display:none;\">\n",
              "        \n",
              "  <svg xmlns=\"http://www.w3.org/2000/svg\" height=\"24px\"viewBox=\"0 0 24 24\"\n",
              "       width=\"24px\">\n",
              "    <path d=\"M0 0h24v24H0V0z\" fill=\"none\"/>\n",
              "    <path d=\"M18.56 5.44l.94 2.06.94-2.06 2.06-.94-2.06-.94-.94-2.06-.94 2.06-2.06.94zm-11 1L8.5 8.5l.94-2.06 2.06-.94-2.06-.94L8.5 2.5l-.94 2.06-2.06.94zm10 10l.94 2.06.94-2.06 2.06-.94-2.06-.94-.94-2.06-.94 2.06-2.06.94z\"/><path d=\"M17.41 7.96l-1.37-1.37c-.4-.4-.92-.59-1.43-.59-.52 0-1.04.2-1.43.59L10.3 9.45l-7.72 7.72c-.78.78-.78 2.05 0 2.83L4 21.41c.39.39.9.59 1.41.59.51 0 1.02-.2 1.41-.59l7.78-7.78 2.81-2.81c.8-.78.8-2.07 0-2.86zM5.41 20L4 18.59l7.72-7.72 1.47 1.35L5.41 20z\"/>\n",
              "  </svg>\n",
              "      </button>\n",
              "      \n",
              "  <style>\n",
              "    .colab-df-container {\n",
              "      display:flex;\n",
              "      flex-wrap:wrap;\n",
              "      gap: 12px;\n",
              "    }\n",
              "\n",
              "    .colab-df-convert {\n",
              "      background-color: #E8F0FE;\n",
              "      border: none;\n",
              "      border-radius: 50%;\n",
              "      cursor: pointer;\n",
              "      display: none;\n",
              "      fill: #1967D2;\n",
              "      height: 32px;\n",
              "      padding: 0 0 0 0;\n",
              "      width: 32px;\n",
              "    }\n",
              "\n",
              "    .colab-df-convert:hover {\n",
              "      background-color: #E2EBFA;\n",
              "      box-shadow: 0px 1px 2px rgba(60, 64, 67, 0.3), 0px 1px 3px 1px rgba(60, 64, 67, 0.15);\n",
              "      fill: #174EA6;\n",
              "    }\n",
              "\n",
              "    [theme=dark] .colab-df-convert {\n",
              "      background-color: #3B4455;\n",
              "      fill: #D2E3FC;\n",
              "    }\n",
              "\n",
              "    [theme=dark] .colab-df-convert:hover {\n",
              "      background-color: #434B5C;\n",
              "      box-shadow: 0px 1px 3px 1px rgba(0, 0, 0, 0.15);\n",
              "      filter: drop-shadow(0px 1px 2px rgba(0, 0, 0, 0.3));\n",
              "      fill: #FFFFFF;\n",
              "    }\n",
              "  </style>\n",
              "\n",
              "      <script>\n",
              "        const buttonEl =\n",
              "          document.querySelector('#df-06095bed-f60b-455f-82b1-5910a0961a3f button.colab-df-convert');\n",
              "        buttonEl.style.display =\n",
              "          google.colab.kernel.accessAllowed ? 'block' : 'none';\n",
              "\n",
              "        async function convertToInteractive(key) {\n",
              "          const element = document.querySelector('#df-06095bed-f60b-455f-82b1-5910a0961a3f');\n",
              "          const dataTable =\n",
              "            await google.colab.kernel.invokeFunction('convertToInteractive',\n",
              "                                                     [key], {});\n",
              "          if (!dataTable) return;\n",
              "\n",
              "          const docLinkHtml = 'Like what you see? Visit the ' +\n",
              "            '<a target=\"_blank\" href=https://colab.research.google.com/notebooks/data_table.ipynb>data table notebook</a>'\n",
              "            + ' to learn more about interactive tables.';\n",
              "          element.innerHTML = '';\n",
              "          dataTable['output_type'] = 'display_data';\n",
              "          await google.colab.output.renderOutput(dataTable, element);\n",
              "          const docLink = document.createElement('div');\n",
              "          docLink.innerHTML = docLinkHtml;\n",
              "          element.appendChild(docLink);\n",
              "        }\n",
              "      </script>\n",
              "    </div>\n",
              "  </div>\n",
              "  "
            ]
          },
          "metadata": {},
          "execution_count": 18
        }
      ]
    }
  ]
}